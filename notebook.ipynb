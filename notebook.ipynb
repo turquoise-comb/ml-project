{
 "cells": [
  {
   "cell_type": "code",
   "execution_count": 1,
   "id": "96310512",
   "metadata": {
    "_cell_guid": "b1076dfc-b9ad-4769-8c92-a6c4dae69d19",
    "_uuid": "8f2839f25d086af736a60e9eeb907d3b93b6e0e5",
    "execution": {
     "iopub.execute_input": "2024-08-10T23:24:47.534563Z",
     "iopub.status.busy": "2024-08-10T23:24:47.534070Z",
     "iopub.status.idle": "2024-08-10T23:25:03.378002Z",
     "shell.execute_reply": "2024-08-10T23:25:03.376789Z"
    },
    "papermill": {
     "duration": 15.861718,
     "end_time": "2024-08-10T23:25:03.380695",
     "exception": false,
     "start_time": "2024-08-10T23:24:47.518977",
     "status": "completed"
    },
    "tags": []
   },
   "outputs": [
    {
     "name": "stderr",
     "output_type": "stream",
     "text": [
      "2024-08-10 23:24:50.471025: E external/local_xla/xla/stream_executor/cuda/cuda_dnn.cc:9261] Unable to register cuDNN factory: Attempting to register factory for plugin cuDNN when one has already been registered\n",
      "2024-08-10 23:24:50.471170: E external/local_xla/xla/stream_executor/cuda/cuda_fft.cc:607] Unable to register cuFFT factory: Attempting to register factory for plugin cuFFT when one has already been registered\n",
      "2024-08-10 23:24:50.690286: E external/local_xla/xla/stream_executor/cuda/cuda_blas.cc:1515] Unable to register cuBLAS factory: Attempting to register factory for plugin cuBLAS when one has already been registered\n"
     ]
    },
    {
     "name": "stdout",
     "output_type": "stream",
     "text": [
      "/kaggle/input/fold_3/keras/default/1/model3_fold3.h5\n",
      "/kaggle/input/drugmechanisms/DOWNLOAD-adHR51GpyZwztvXIVQ3rkc5LgNb7lm3YyO0Bnu7QscE=.tsv\n",
      "/kaggle/input/fold_2/keras/default/1/model3_fold2.h5\n",
      "/kaggle/input/fold_5/keras/default/1/model3_fold5.h5\n",
      "/kaggle/input/chembl22/chembl_22_clean_1576904_sorted_std_final.smi\n",
      "/kaggle/input/fold_4/keras/default/1/model3_fold4.h5\n",
      "/kaggle/input/fold1/keras/default/1/model3_fold1.h5\n"
     ]
    }
   ],
   "source": [
    "import numpy as np\n",
    "import pandas as pd\n",
    "import tensorflow as tf\n",
    "from tensorflow.keras.preprocessing.text import Tokenizer \n",
    "from tensorflow.keras.preprocessing.sequence import pad_sequences \n",
    "from sklearn.model_selection import train_test_split\n",
    "\n",
    "import os\n",
    "\n",
    "for dirname, _, filenames in os.walk('/kaggle/input'):\n",
    "    for filename in filenames:\n",
    "        print(os.path.join(dirname, filename))"
   ]
  },
  {
   "cell_type": "markdown",
   "id": "5ee310f6",
   "metadata": {
    "papermill": {
     "duration": 0.012752,
     "end_time": "2024-08-10T23:25:03.406635",
     "exception": false,
     "start_time": "2024-08-10T23:25:03.393883",
     "status": "completed"
    },
    "tags": []
   },
   "source": [
    "# Drug Design with Small Molecule SMILES"
   ]
  },
  {
   "cell_type": "markdown",
   "id": "9c6a753a",
   "metadata": {
    "papermill": {
     "duration": 0.015717,
     "end_time": "2024-08-10T23:25:03.437270",
     "exception": false,
     "start_time": "2024-08-10T23:25:03.421553",
     "status": "completed"
    },
    "tags": []
   },
   "source": [
    "## Introduction\n",
    "\n",
    "In this project, we will attempt to find out if a machine learning alghoritm can predict medical usage of different chemicals based off of their structure.\n",
    "### Why is this important?\n",
    "One of the main usages of computers and machine learning in medicine is drug design and prediction of different drug mechanisms. This is something we couldn't do manually due to complex structure of majority of biochemical molecules. Here, we will start with small molecules to check how accurate model can be produced using simplest methods.\n",
    "\n",
    "## Data\n",
    "\n",
    "#### Datasets to be used are the following:\n",
    "\n",
    "\n",
    "\n",
    "### Drug Design with Small Molecule SMILES - Dataset containing molecules in SMILES format\n",
    "https://www.kaggle.com/datasets/art3mis/chembl22/data\n",
    "\n",
    "\n"
   ]
  },
  {
   "cell_type": "code",
   "execution_count": 2,
   "id": "3b6520d8",
   "metadata": {
    "execution": {
     "iopub.execute_input": "2024-08-10T23:25:03.476146Z",
     "iopub.status.busy": "2024-08-10T23:25:03.475460Z",
     "iopub.status.idle": "2024-08-10T23:25:07.564817Z",
     "shell.execute_reply": "2024-08-10T23:25:07.563660Z"
    },
    "papermill": {
     "duration": 4.11323,
     "end_time": "2024-08-10T23:25:07.567549",
     "exception": false,
     "start_time": "2024-08-10T23:25:03.454319",
     "status": "completed"
    },
    "tags": []
   },
   "outputs": [
    {
     "data": {
      "text/html": [
       "<div>\n",
       "<style scoped>\n",
       "    .dataframe tbody tr th:only-of-type {\n",
       "        vertical-align: middle;\n",
       "    }\n",
       "\n",
       "    .dataframe tbody tr th {\n",
       "        vertical-align: top;\n",
       "    }\n",
       "\n",
       "    .dataframe thead th {\n",
       "        text-align: right;\n",
       "    }\n",
       "</style>\n",
       "<table border=\"1\" class=\"dataframe\">\n",
       "  <thead>\n",
       "    <tr style=\"text-align: right;\">\n",
       "      <th></th>\n",
       "      <th>0</th>\n",
       "      <th>1</th>\n",
       "    </tr>\n",
       "  </thead>\n",
       "  <tbody>\n",
       "    <tr>\n",
       "      <th>0</th>\n",
       "      <td>CCO</td>\n",
       "      <td>CHEMBL545</td>\n",
       "    </tr>\n",
       "    <tr>\n",
       "      <th>1</th>\n",
       "      <td>C</td>\n",
       "      <td>CHEMBL17564</td>\n",
       "    </tr>\n",
       "    <tr>\n",
       "      <th>2</th>\n",
       "      <td>CO</td>\n",
       "      <td>CHEMBL14688</td>\n",
       "    </tr>\n",
       "    <tr>\n",
       "      <th>3</th>\n",
       "      <td>NCCS</td>\n",
       "      <td>CHEMBL602</td>\n",
       "    </tr>\n",
       "    <tr>\n",
       "      <th>4</th>\n",
       "      <td>NCCN</td>\n",
       "      <td>CHEMBL816</td>\n",
       "    </tr>\n",
       "  </tbody>\n",
       "</table>\n",
       "</div>"
      ],
      "text/plain": [
       "      0            1\n",
       "0   CCO    CHEMBL545\n",
       "1     C  CHEMBL17564\n",
       "2    CO  CHEMBL14688\n",
       "3  NCCS    CHEMBL602\n",
       "4  NCCN    CHEMBL816"
      ]
     },
     "execution_count": 2,
     "metadata": {},
     "output_type": "execute_result"
    }
   ],
   "source": [
    "path1 = '/kaggle/input/chembl22/chembl_22_clean_1576904_sorted_std_final.smi'\n",
    "data1 = pd.read_csv(path1, sep='\\t', header=None)\n",
    "data1.head()"
   ]
  },
  {
   "cell_type": "markdown",
   "id": "3b069d54",
   "metadata": {
    "papermill": {
     "duration": 0.013152,
     "end_time": "2024-08-10T23:25:07.594827",
     "exception": false,
     "start_time": "2024-08-10T23:25:07.581675",
     "status": "completed"
    },
    "tags": []
   },
   "source": [
    "Since dataset is well documented, we have the following information about the columns:\n",
    " - The first column is the SMILES string.\n",
    " - The second is a reference to the full ChEMBL entry for that particular molecule. \n"
   ]
  },
  {
   "cell_type": "markdown",
   "id": "2261127f",
   "metadata": {
    "papermill": {
     "duration": 0.013478,
     "end_time": "2024-08-10T23:25:07.621553",
     "exception": false,
     "start_time": "2024-08-10T23:25:07.608075",
     "status": "completed"
    },
    "tags": []
   },
   "source": [
    "#### What is SMILES?\n",
    "SMILES stands for “Simplified Molecular Input Line Entry System\". \n",
    "\n",
    "\n",
    "The purpose of SMILES is to translate the 3D molecular structure of different chemicals into a linear representation of the molecule so that a computer program can understand the structure.\n"
   ]
  },
  {
   "cell_type": "markdown",
   "id": "f203deb4",
   "metadata": {
    "papermill": {
     "duration": 0.013034,
     "end_time": "2024-08-10T23:25:07.647848",
     "exception": false,
     "start_time": "2024-08-10T23:25:07.634814",
     "status": "completed"
    },
    "tags": []
   },
   "source": [
    "![](https://pubchem.ncbi.nlm.nih.gov/image/imgsrv.fcgi?cid=5288826&t=l)"
   ]
  },
  {
   "cell_type": "markdown",
   "id": "45dd533f",
   "metadata": {
    "papermill": {
     "duration": 0.013402,
     "end_time": "2024-08-10T23:25:07.674515",
     "exception": false,
     "start_time": "2024-08-10T23:25:07.661113",
     "status": "completed"
    },
    "tags": []
   },
   "source": [
    "Morphine, shown in picture, has SMILES format Oc1ccc2CC(N3C)C4C=CC(O)C5Oc1c2C45CC3."
   ]
  },
  {
   "cell_type": "markdown",
   "id": "fffe74ec",
   "metadata": {
    "papermill": {
     "duration": 0.013205,
     "end_time": "2024-08-10T23:25:07.701017",
     "exception": false,
     "start_time": "2024-08-10T23:25:07.687812",
     "status": "completed"
    },
    "tags": []
   },
   "source": [
    "##### Visualization\n",
    "First off, let's start with checking how length of SMILES string behaves within the dataset."
   ]
  },
  {
   "cell_type": "code",
   "execution_count": 3,
   "id": "94a2b40f",
   "metadata": {
    "execution": {
     "iopub.execute_input": "2024-08-10T23:25:07.729295Z",
     "iopub.status.busy": "2024-08-10T23:25:07.728876Z",
     "iopub.status.idle": "2024-08-10T23:25:09.187331Z",
     "shell.execute_reply": "2024-08-10T23:25:09.186180Z"
    },
    "papermill": {
     "duration": 1.475592,
     "end_time": "2024-08-10T23:25:09.189739",
     "exception": false,
     "start_time": "2024-08-10T23:25:07.714147",
     "status": "completed"
    },
    "tags": []
   },
   "outputs": [
    {
     "data": {
      "image/png": "[encoded data removed]",
      "text/plain": [
       "<Figure size 1000x600 with 1 Axes>"
      ]
     },
     "metadata": {},
     "output_type": "display_data"
    }
   ],
   "source": [
    "import matplotlib.pyplot as plt\n",
    "lengths = data1[0].apply(len)\n",
    "max_length_index = lengths.idxmax()\n",
    "plt.figure(figsize=(10, 6))\n",
    "plt.hist(lengths, bins=30, edgecolor='black')\n",
    "plt.title('Distribution of SMILES Lengths')\n",
    "plt.xlabel('Length')\n",
    "plt.ylabel('Frequency')\n",
    "plt.show()"
   ]
  },
  {
   "cell_type": "markdown",
   "id": "ab0026d5",
   "metadata": {
    "papermill": {
     "duration": 0.013451,
     "end_time": "2024-08-10T23:25:09.216884",
     "exception": false,
     "start_time": "2024-08-10T23:25:09.203433",
     "status": "completed"
    },
    "tags": []
   },
   "source": [
    "As we can see, majority of strings are shorter than 200 characters. Here, it would seem wise to use only the SMILES up to length 200."
   ]
  },
  {
   "cell_type": "code",
   "execution_count": 4,
   "id": "bc419bf6",
   "metadata": {
    "execution": {
     "iopub.execute_input": "2024-08-10T23:25:09.246968Z",
     "iopub.status.busy": "2024-08-10T23:25:09.246540Z",
     "iopub.status.idle": "2024-08-10T23:25:10.278308Z",
     "shell.execute_reply": "2024-08-10T23:25:10.276972Z"
    },
    "papermill": {
     "duration": 1.050322,
     "end_time": "2024-08-10T23:25:10.280950",
     "exception": false,
     "start_time": "2024-08-10T23:25:09.230628",
     "status": "completed"
    },
    "tags": []
   },
   "outputs": [
    {
     "name": "stdout",
     "output_type": "stream",
     "text": [
      "The length of the longest element in the first column is: 1423\n",
      "That entry is: CC1=CN(C2CC(OP(O)(=O)OCC3OC(C(O)C3OP(O)(=O)OCC3OC(C(O)C3OP(O)(=O)OCC3OC(C(O)C3OP(O)(=O)OCC3OC(CC3OP(O)(=O)OCC34COCOC(C3O)C(O4)N3C=C(C)C(=O)NC3=O)N3C=C(C)C(=O)NC3=O)N3C=CC(N)=NC3=O)n3cnc4c(N)ncnc34)n3cnc4c3NC(N)=NC4=O)C(COP(O)(=O)OC3C(COP(O)(=O)OC4C(COP(O)(=O)OC5C(COP(O)(=O)OC6C(COP(O)(=O)OC7CC(OC7COP(O)(=O)OC7CC(OC7COP(O)(=O)OC7C(COP(O)(=O)OC8C(COP(O)(=O)OC9C(COP(O)(=O)OC%10C(COP(O)(=O)OC%11C(COP(O)(=O)OC%12C(COP(O)(=O)OC%13C(COP(O)(=O)OC%14C(COP(O)(=O)OC%15CC(OC%15COP(O)(=O)OC%15C(COP(O)(=O)OC%16C(COP(O)(=O)OC%17CC(OC%17COP(O)(=O)OC%17C(COP(O)(=O)OC%18C(COP(O)(=O)OC%19C(COP(O)(=O)OC%20CC(OC%20COP(O)(=O)OC%20C(COP(O)(=O)OC%21C(COc%22ccc%23c(Oc%24cc(O)ccc%24C%23%23OC(=O)c%24ccccc%23%24)c%22)OC(C%21O)n%21cnc%22c(N)ncnc%21%22)OC(C%20O)n%20cnc%21c%20N=C(N)NC%21=O)N%20C=C(C)C(=O)NC%20=O)OC(C%19O)N%19C=CC(N)=NC%19=O)OC(C%18O)N%18C=CC(N)=NC%18=O)OC(C%17O)n%17cnc%18c%17N=C(N)NC%18=O)N%17C=C(C)C(=O)NC%17=O)OC(C%16O)n%16cnc%17c%16N=C(N)NC%17=O)OC(C%15O)n%15cnc%16c%15N=C(N)NC%16=O)N%15C=C(C)C(=O)NC%15=O)OC(C%14O)n%14cnc%15c(N)ncnc%14%15)OC(C%13O)n%13cnc%14c%13N=C(N)NC%14=O)OC(C%12O)n%12cnc%13c%12N=C(N)NC%13=O)OC(C%11O)n%11cnc%12c%11N=C(N)NC%12=O)OC(C%10O)N%10C=CC(N)=NC%10=O)OC(C9O)n9cnc%10c(N)ncnc9%10)OC(C8O)n8cnc9c8N=C(N)NC9=O)OC(C7O)n7cnc8c7N=C(N)NC8=O)N7C=C(C)C(=O)NC7=O)N7C=C(C)C(=O)NC7=O)OC(C6O)n6cnc7c6N=C(N)NC7=O)OC(C5O)n5cnc6c5N=C(N)NC6=O)OC(C4O)n4cnc5c4N=C(N)NC5=O)OC(C3O)n3cnc4c3NC(N)=NC4=O)O2)C(=C)NC1=O\n"
     ]
    }
   ],
   "source": [
    "max_length = data1[0].apply(len).max()\n",
    "print(f\"The length of the longest element in the first column is: {max_length}\")\n",
    "print(f\"That entry is: {data1[0][max_length_index]}\")"
   ]
  },
  {
   "cell_type": "markdown",
   "id": "b8b95950",
   "metadata": {
    "papermill": {
     "duration": 0.013449,
     "end_time": "2024-08-10T23:25:10.308122",
     "exception": false,
     "start_time": "2024-08-10T23:25:10.294673",
     "status": "completed"
    },
    "tags": []
   },
   "source": [
    "However, we can't really use a string of length 1423 to store each molecule. This showcases why drug prediction is not so straightforward: meaningful data cannot be handled in a simple way. Here, we will have to settle for molecules up to 200 length (which covers majority of the dataset). "
   ]
  },
  {
   "cell_type": "markdown",
   "id": "15da274a",
   "metadata": {
    "papermill": {
     "duration": 0.013335,
     "end_time": "2024-08-10T23:25:10.335163",
     "exception": false,
     "start_time": "2024-08-10T23:25:10.321828",
     "status": "completed"
    },
    "tags": []
   },
   "source": [
    "#### - Dataset containing additional information, including medical usage: \n",
    "### ChEMBL database\n",
    "ChEMBL data is from http://www.ebi.ac.uk/chembl - the version of ChEMBL is\n",
    "chembl_34.\n",
    "\n",
    "Since second column from the first dataset corresponds to ChEMBL molecule ID, we will find file from the database that contains both id and medical usage of a molecule."
   ]
  },
  {
   "cell_type": "code",
   "execution_count": 5,
   "id": "4b4c959a",
   "metadata": {
    "execution": {
     "iopub.execute_input": "2024-08-10T23:25:10.364326Z",
     "iopub.status.busy": "2024-08-10T23:25:10.363926Z",
     "iopub.status.idle": "2024-08-10T23:25:10.554278Z",
     "shell.execute_reply": "2024-08-10T23:25:10.553163Z"
    },
    "papermill": {
     "duration": 0.208038,
     "end_time": "2024-08-10T23:25:10.556883",
     "exception": false,
     "start_time": "2024-08-10T23:25:10.348845",
     "status": "completed"
    },
    "tags": []
   },
   "outputs": [
    {
     "data": {
      "text/html": [
       "<div>\n",
       "<style scoped>\n",
       "    .dataframe tbody tr th:only-of-type {\n",
       "        vertical-align: middle;\n",
       "    }\n",
       "\n",
       "    .dataframe tbody tr th {\n",
       "        vertical-align: top;\n",
       "    }\n",
       "\n",
       "    .dataframe thead th {\n",
       "        text-align: right;\n",
       "    }\n",
       "</style>\n",
       "<table border=\"1\" class=\"dataframe\">\n",
       "  <thead>\n",
       "    <tr style=\"text-align: right;\">\n",
       "      <th></th>\n",
       "      <th>Parent Molecule ChEMBL ID</th>\n",
       "      <th>Parent Molecule Name</th>\n",
       "      <th>Parent Molecule Type</th>\n",
       "      <th>Max Phase</th>\n",
       "      <th>First Approval</th>\n",
       "      <th>USAN Stem</th>\n",
       "      <th>Smiles</th>\n",
       "      <th>Mechanism of Action</th>\n",
       "      <th>Mechanism Comment</th>\n",
       "      <th>Selectivity Comment</th>\n",
       "      <th>...</th>\n",
       "      <th>Binding Site Comment</th>\n",
       "      <th>References</th>\n",
       "      <th>Synonyms</th>\n",
       "      <th>ATC Codes</th>\n",
       "      <th>Level 4 ATC Codes</th>\n",
       "      <th>Level 3 ATC Codes</th>\n",
       "      <th>Level 2 ATC Codes</th>\n",
       "      <th>Level 1 ATC Codes</th>\n",
       "      <th>Parent Molecule ChEMBL ID.1</th>\n",
       "      <th>Np Likeness Score</th>\n",
       "    </tr>\n",
       "  </thead>\n",
       "  <tbody>\n",
       "    <tr>\n",
       "      <th>0</th>\n",
       "      <td>CHEMBL1200908</td>\n",
       "      <td>HALOBETASOL PROPIONATE</td>\n",
       "      <td>Small molecule</td>\n",
       "      <td>4.0</td>\n",
       "      <td>1990.0</td>\n",
       "      <td>NaN</td>\n",
       "      <td>CCC(=O)O[C@]1(C(=O)CCl)[C@@H](C)C[C@H]2[C@@H]3...</td>\n",
       "      <td>Glucocorticoid receptor agonist</td>\n",
       "      <td>NaN</td>\n",
       "      <td>NaN</td>\n",
       "      <td>...</td>\n",
       "      <td>NaN</td>\n",
       "      <td>{'CHEMBL1200908': [{'ref_id': '19293512', 'ref...</td>\n",
       "      <td>Halobetasol propionate (MI, USAN, USP)|Ulobeta...</td>\n",
       "      <td>D07AC21</td>\n",
       "      <td>D07AC - Corticosteroids, potent (group III)</td>\n",
       "      <td>D07A - CORTICOSTEROIDS, PLAIN</td>\n",
       "      <td>D07 - CORTICOSTEROIDS, DERMATOLOGICAL PREPARAT...</td>\n",
       "      <td>D - DERMATOLOGICALS</td>\n",
       "      <td>CHEMBL1200908</td>\n",
       "      <td>1.74</td>\n",
       "    </tr>\n",
       "    <tr>\n",
       "      <th>1</th>\n",
       "      <td>CHEMBL2108655</td>\n",
       "      <td>TOLEVAMER POTASSIUM SODIUM</td>\n",
       "      <td>Small molecule</td>\n",
       "      <td>3.0</td>\n",
       "      <td>NaN</td>\n",
       "      <td>'-mer'</td>\n",
       "      <td>NaN</td>\n",
       "      <td>Toxin B binding agent</td>\n",
       "      <td>NaN</td>\n",
       "      <td>NaN</td>\n",
       "      <td>...</td>\n",
       "      <td>NaN</td>\n",
       "      <td>{'CHEMBL2108655': [{'ref_id': '16838228', 'ref...</td>\n",
       "      <td>Tolevamer potassium sodium (USAN)|</td>\n",
       "      <td>NaN</td>\n",
       "      <td>NaN</td>\n",
       "      <td>NaN</td>\n",
       "      <td>NaN</td>\n",
       "      <td>NaN</td>\n",
       "      <td>CHEMBL2108655</td>\n",
       "      <td>NaN</td>\n",
       "    </tr>\n",
       "    <tr>\n",
       "      <th>2</th>\n",
       "      <td>CHEMBL2109256</td>\n",
       "      <td>SGN-30</td>\n",
       "      <td>Antibody</td>\n",
       "      <td>3.0</td>\n",
       "      <td>NaN</td>\n",
       "      <td>NaN</td>\n",
       "      <td>NaN</td>\n",
       "      <td>Tumor necrosis factor receptor superfamily mem...</td>\n",
       "      <td>After binding to CD30, this agent interferes w...</td>\n",
       "      <td>NaN</td>\n",
       "      <td>...</td>\n",
       "      <td>NaN</td>\n",
       "      <td>{'CHEMBL2109256': []}</td>\n",
       "      <td>Sgn-30</td>\n",
       "      <td>NaN</td>\n",
       "      <td>NaN</td>\n",
       "      <td>NaN</td>\n",
       "      <td>NaN</td>\n",
       "      <td>NaN</td>\n",
       "      <td>CHEMBL2109256</td>\n",
       "      <td>NaN</td>\n",
       "    </tr>\n",
       "    <tr>\n",
       "      <th>3</th>\n",
       "      <td>CHEMBL3545295</td>\n",
       "      <td>AVE0847</td>\n",
       "      <td>Small molecule</td>\n",
       "      <td>1.0</td>\n",
       "      <td>NaN</td>\n",
       "      <td>NaN</td>\n",
       "      <td>NaN</td>\n",
       "      <td>Peroxisome proliferator-activated receptor gam...</td>\n",
       "      <td>Development discontinued (http://fr.reuters.co...</td>\n",
       "      <td>NaN</td>\n",
       "      <td>...</td>\n",
       "      <td>NaN</td>\n",
       "      <td>{'CHEMBL3545295': [{'ref_id': 'https://ncats.n...</td>\n",
       "      <td>Ave0847</td>\n",
       "      <td>NaN</td>\n",
       "      <td>NaN</td>\n",
       "      <td>NaN</td>\n",
       "      <td>NaN</td>\n",
       "      <td>NaN</td>\n",
       "      <td>CHEMBL3545295</td>\n",
       "      <td>NaN</td>\n",
       "    </tr>\n",
       "    <tr>\n",
       "      <th>4</th>\n",
       "      <td>CHEMBL3545176</td>\n",
       "      <td>DB959</td>\n",
       "      <td>Small molecule</td>\n",
       "      <td>2.0</td>\n",
       "      <td>NaN</td>\n",
       "      <td>NaN</td>\n",
       "      <td>NaN</td>\n",
       "      <td>Peroxisome proliferator-activated receptor gam...</td>\n",
       "      <td>Ph1b study completed in 2011 (no trial ID). Co...</td>\n",
       "      <td>NaN</td>\n",
       "      <td>...</td>\n",
       "      <td>NaN</td>\n",
       "      <td>{'CHEMBL3545176': [{'ref_id': 'http://www.dara...</td>\n",
       "      <td>Db959</td>\n",
       "      <td>NaN</td>\n",
       "      <td>NaN</td>\n",
       "      <td>NaN</td>\n",
       "      <td>NaN</td>\n",
       "      <td>NaN</td>\n",
       "      <td>CHEMBL3545176</td>\n",
       "      <td>NaN</td>\n",
       "    </tr>\n",
       "  </tbody>\n",
       "</table>\n",
       "<p>5 rows × 26 columns</p>\n",
       "</div>"
      ],
      "text/plain": [
       "  Parent Molecule ChEMBL ID        Parent Molecule Name Parent Molecule Type  \\\n",
       "0             CHEMBL1200908      HALOBETASOL PROPIONATE       Small molecule   \n",
       "1             CHEMBL2108655  TOLEVAMER POTASSIUM SODIUM       Small molecule   \n",
       "2             CHEMBL2109256                      SGN-30             Antibody   \n",
       "3             CHEMBL3545295                     AVE0847       Small molecule   \n",
       "4             CHEMBL3545176                       DB959       Small molecule   \n",
       "\n",
       "   Max Phase  First Approval USAN Stem  \\\n",
       "0        4.0          1990.0       NaN   \n",
       "1        3.0             NaN    '-mer'   \n",
       "2        3.0             NaN       NaN   \n",
       "3        1.0             NaN       NaN   \n",
       "4        2.0             NaN       NaN   \n",
       "\n",
       "                                              Smiles  \\\n",
       "0  CCC(=O)O[C@]1(C(=O)CCl)[C@@H](C)C[C@H]2[C@@H]3...   \n",
       "1                                                NaN   \n",
       "2                                                NaN   \n",
       "3                                                NaN   \n",
       "4                                                NaN   \n",
       "\n",
       "                                 Mechanism of Action  \\\n",
       "0                    Glucocorticoid receptor agonist   \n",
       "1                              Toxin B binding agent   \n",
       "2  Tumor necrosis factor receptor superfamily mem...   \n",
       "3  Peroxisome proliferator-activated receptor gam...   \n",
       "4  Peroxisome proliferator-activated receptor gam...   \n",
       "\n",
       "                                   Mechanism Comment Selectivity Comment  ...  \\\n",
       "0                                                NaN                 NaN  ...   \n",
       "1                                                NaN                 NaN  ...   \n",
       "2  After binding to CD30, this agent interferes w...                 NaN  ...   \n",
       "3  Development discontinued (http://fr.reuters.co...                 NaN  ...   \n",
       "4  Ph1b study completed in 2011 (no trial ID). Co...                 NaN  ...   \n",
       "\n",
       "  Binding Site Comment                                         References  \\\n",
       "0                  NaN  {'CHEMBL1200908': [{'ref_id': '19293512', 'ref...   \n",
       "1                  NaN  {'CHEMBL2108655': [{'ref_id': '16838228', 'ref...   \n",
       "2                  NaN                              {'CHEMBL2109256': []}   \n",
       "3                  NaN  {'CHEMBL3545295': [{'ref_id': 'https://ncats.n...   \n",
       "4                  NaN  {'CHEMBL3545176': [{'ref_id': 'http://www.dara...   \n",
       "\n",
       "                                            Synonyms ATC Codes  \\\n",
       "0  Halobetasol propionate (MI, USAN, USP)|Ulobeta...   D07AC21   \n",
       "1                 Tolevamer potassium sodium (USAN)|       NaN   \n",
       "2                                             Sgn-30       NaN   \n",
       "3                                            Ave0847       NaN   \n",
       "4                                              Db959       NaN   \n",
       "\n",
       "                             Level 4 ATC Codes              Level 3 ATC Codes  \\\n",
       "0  D07AC - Corticosteroids, potent (group III)  D07A - CORTICOSTEROIDS, PLAIN   \n",
       "1                                          NaN                            NaN   \n",
       "2                                          NaN                            NaN   \n",
       "3                                          NaN                            NaN   \n",
       "4                                          NaN                            NaN   \n",
       "\n",
       "                                   Level 2 ATC Codes    Level 1 ATC Codes  \\\n",
       "0  D07 - CORTICOSTEROIDS, DERMATOLOGICAL PREPARAT...  D - DERMATOLOGICALS   \n",
       "1                                                NaN                  NaN   \n",
       "2                                                NaN                  NaN   \n",
       "3                                                NaN                  NaN   \n",
       "4                                                NaN                  NaN   \n",
       "\n",
       "  Parent Molecule ChEMBL ID.1 Np Likeness Score  \n",
       "0               CHEMBL1200908              1.74  \n",
       "1               CHEMBL2108655               NaN  \n",
       "2               CHEMBL2109256               NaN  \n",
       "3               CHEMBL3545295               NaN  \n",
       "4               CHEMBL3545176               NaN  \n",
       "\n",
       "[5 rows x 26 columns]"
      ]
     },
     "execution_count": 5,
     "metadata": {},
     "output_type": "execute_result"
    }
   ],
   "source": [
    "path2 = '/kaggle/input/drugmechanisms/DOWNLOAD-adHR51GpyZwztvXIVQ3rkc5LgNb7lm3YyO0Bnu7QscE=.tsv'\n",
    "data2 = pd.read_csv(path2, sep='\\t')\n",
    "data2.head()"
   ]
  },
  {
   "cell_type": "markdown",
   "id": "154f8c96",
   "metadata": {
    "papermill": {
     "duration": 0.014201,
     "end_time": "2024-08-10T23:25:10.585415",
     "exception": false,
     "start_time": "2024-08-10T23:25:10.571214",
     "status": "completed"
    },
    "tags": []
   },
   "source": [
    "## Data preparation"
   ]
  },
  {
   "cell_type": "markdown",
   "id": "995193f1",
   "metadata": {
    "papermill": {
     "duration": 0.014012,
     "end_time": "2024-08-10T23:25:10.614133",
     "exception": false,
     "start_time": "2024-08-10T23:25:10.600121",
     "status": "completed"
    },
    "tags": []
   },
   "source": [
    "Since our second dataset is much smaller (includes only confirmed activity of drugs), if we use inner join our model\n",
    " - will have less data to work with\n",
    " - will not be able to cope with molecules not simmilar to those with confirned drug activity\n",
    " \n",
    " To demonstrate size difference within sets:"
   ]
  },
  {
   "cell_type": "code",
   "execution_count": 6,
   "id": "9aab22b4",
   "metadata": {
    "execution": {
     "iopub.execute_input": "2024-08-10T23:25:10.645010Z",
     "iopub.status.busy": "2024-08-10T23:25:10.644062Z",
     "iopub.status.idle": "2024-08-10T23:25:10.650694Z",
     "shell.execute_reply": "2024-08-10T23:25:10.649421Z"
    },
    "papermill": {
     "duration": 0.024765,
     "end_time": "2024-08-10T23:25:10.653193",
     "exception": false,
     "start_time": "2024-08-10T23:25:10.628428",
     "status": "completed"
    },
    "tags": []
   },
   "outputs": [
    {
     "name": "stdout",
     "output_type": "stream",
     "text": [
      "1576904\n",
      "6914\n"
     ]
    }
   ],
   "source": [
    "print(data1.shape[0])\n",
    "print(data2.shape[0])\n"
   ]
  },
  {
   "cell_type": "markdown",
   "id": "9ab1507d",
   "metadata": {
    "papermill": {
     "duration": 0.013927,
     "end_time": "2024-08-10T23:25:10.681407",
     "exception": false,
     "start_time": "2024-08-10T23:25:10.667480",
     "status": "completed"
    },
    "tags": []
   },
   "source": [
    "Therefore, we will perform left join on our datasets. Technically, data1 is a subset of data2, but the way kaggle dataset was filtered to make it more usable for machine learning is not clearly documented, so the same filtering cannot be performed on data2 manually to obtain equally good results. Since usability of data1 is marked by kaggle to be 10.0, we will just use the molecules present in that set."
   ]
  },
  {
   "cell_type": "code",
   "execution_count": 7,
   "id": "bce5c171",
   "metadata": {
    "execution": {
     "iopub.execute_input": "2024-08-10T23:25:10.711604Z",
     "iopub.status.busy": "2024-08-10T23:25:10.711212Z",
     "iopub.status.idle": "2024-08-10T23:25:11.700932Z",
     "shell.execute_reply": "2024-08-10T23:25:11.699787Z"
    },
    "papermill": {
     "duration": 1.007825,
     "end_time": "2024-08-10T23:25:11.703422",
     "exception": false,
     "start_time": "2024-08-10T23:25:10.695597",
     "status": "completed"
    },
    "tags": []
   },
   "outputs": [
    {
     "data": {
      "text/html": [
       "<div>\n",
       "<style scoped>\n",
       "    .dataframe tbody tr th:only-of-type {\n",
       "        vertical-align: middle;\n",
       "    }\n",
       "\n",
       "    .dataframe tbody tr th {\n",
       "        vertical-align: top;\n",
       "    }\n",
       "\n",
       "    .dataframe thead th {\n",
       "        text-align: right;\n",
       "    }\n",
       "</style>\n",
       "<table border=\"1\" class=\"dataframe\">\n",
       "  <thead>\n",
       "    <tr style=\"text-align: right;\">\n",
       "      <th></th>\n",
       "      <th>0</th>\n",
       "      <th>ID</th>\n",
       "      <th>Parent Molecule Name</th>\n",
       "      <th>Parent Molecule Type</th>\n",
       "      <th>Max Phase</th>\n",
       "      <th>First Approval</th>\n",
       "      <th>USAN Stem</th>\n",
       "      <th>Smiles</th>\n",
       "      <th>Mechanism of Action</th>\n",
       "      <th>Mechanism Comment</th>\n",
       "      <th>...</th>\n",
       "      <th>Binding Site Comment</th>\n",
       "      <th>References</th>\n",
       "      <th>Synonyms</th>\n",
       "      <th>ATC Codes</th>\n",
       "      <th>Level 4 ATC Codes</th>\n",
       "      <th>Level 3 ATC Codes</th>\n",
       "      <th>Level 2 ATC Codes</th>\n",
       "      <th>Level 1 ATC Codes</th>\n",
       "      <th>Parent Molecule ChEMBL ID.1</th>\n",
       "      <th>Np Likeness Score</th>\n",
       "    </tr>\n",
       "  </thead>\n",
       "  <tbody>\n",
       "    <tr>\n",
       "      <th>0</th>\n",
       "      <td>NCCS</td>\n",
       "      <td>CHEMBL602</td>\n",
       "      <td>CYSTEAMINE</td>\n",
       "      <td>Small molecule</td>\n",
       "      <td>4.0</td>\n",
       "      <td>1994.0</td>\n",
       "      <td>NaN</td>\n",
       "      <td>NCCS</td>\n",
       "      <td>Cystine reducing agent</td>\n",
       "      <td>NaN</td>\n",
       "      <td>...</td>\n",
       "      <td>NaN</td>\n",
       "      <td>{'CHEMBL2062263': [{'ref_id': 'setid=f495b76d-...</td>\n",
       "      <td>Cysteamine (MI, USAN)|Mercaptamine (BAN, DCF, ...</td>\n",
       "      <td>A16AA04 | S01XA21</td>\n",
       "      <td>A16AA - Amino acids and derivatives | S01XA - ...</td>\n",
       "      <td>A16A - OTHER ALIMENTARY TRACT AND METABOLISM P...</td>\n",
       "      <td>A16 - OTHER ALIMENTARY TRACT AND METABOLISM PR...</td>\n",
       "      <td>A - ALIMENTARY TRACT AND METABOLISM | S - SENS...</td>\n",
       "      <td>CHEMBL602</td>\n",
       "      <td>0.18</td>\n",
       "    </tr>\n",
       "    <tr>\n",
       "      <th>1</th>\n",
       "      <td>NC(N)=N</td>\n",
       "      <td>CHEMBL821</td>\n",
       "      <td>GUANIDINE</td>\n",
       "      <td>Small molecule</td>\n",
       "      <td>4.0</td>\n",
       "      <td>1939.0</td>\n",
       "      <td>'guan-'</td>\n",
       "      <td>N=C(N)N</td>\n",
       "      <td>Voltage-gated potassium channel blocker</td>\n",
       "      <td>NaN</td>\n",
       "      <td>...</td>\n",
       "      <td>NaN</td>\n",
       "      <td>{'CHEMBL1200728': [{'ref_id': 'setid=903fbd33-...</td>\n",
       "      <td>Guanidine (MI)|</td>\n",
       "      <td>NaN</td>\n",
       "      <td>NaN</td>\n",
       "      <td>NaN</td>\n",
       "      <td>NaN</td>\n",
       "      <td>NaN</td>\n",
       "      <td>CHEMBL821</td>\n",
       "      <td>0.32</td>\n",
       "    </tr>\n",
       "    <tr>\n",
       "      <th>2</th>\n",
       "      <td>NC(N)=O</td>\n",
       "      <td>CHEMBL985</td>\n",
       "      <td>UREA</td>\n",
       "      <td>Small molecule</td>\n",
       "      <td>4.0</td>\n",
       "      <td>1996.0</td>\n",
       "      <td>NaN</td>\n",
       "      <td>NC(N)=O</td>\n",
       "      <td>Diagnostic agent</td>\n",
       "      <td>NaN</td>\n",
       "      <td>...</td>\n",
       "      <td>NaN</td>\n",
       "      <td>{'CHEMBL2096635': [{'ref_id': 'setid=13148b04-...</td>\n",
       "      <td>Urea (JAN, MI, USP)|Urea c 14 (USP)|Urea (13c)...</td>\n",
       "      <td>D02AE01 | B05BC02 | D02AE51</td>\n",
       "      <td>D02AE - Carbamide products | B05BC - Solutions...</td>\n",
       "      <td>D02A - EMOLLIENTS AND PROTECTIVES | B05B - I.V...</td>\n",
       "      <td>D02 - EMOLLIENTS AND PROTECTIVES | B05 - BLOOD...</td>\n",
       "      <td>D - DERMATOLOGICALS | B - BLOOD AND BLOOD FORM...</td>\n",
       "      <td>CHEMBL985</td>\n",
       "      <td>-0.22</td>\n",
       "    </tr>\n",
       "    <tr>\n",
       "      <th>3</th>\n",
       "      <td>OCCO</td>\n",
       "      <td>CHEMBL457299</td>\n",
       "      <td>MACROGOL</td>\n",
       "      <td>Small molecule</td>\n",
       "      <td>4.0</td>\n",
       "      <td>NaN</td>\n",
       "      <td>NaN</td>\n",
       "      <td>OCCO</td>\n",
       "      <td>Osmotic laxative</td>\n",
       "      <td>NaN</td>\n",
       "      <td>...</td>\n",
       "      <td>NaN</td>\n",
       "      <td>{'CHEMBL457299': [{'ref_id': 'https://bnf.nice...</td>\n",
       "      <td>Macrogol (INN)|Polyethylene oxide (USP)|</td>\n",
       "      <td>A06AD15 | A06AD65</td>\n",
       "      <td>A06AD - Osmotically acting laxatives | A06AD -...</td>\n",
       "      <td>A06A - DRUGS FOR CONSTIPATION | A06A - DRUGS F...</td>\n",
       "      <td>A06 - DRUGS FOR CONSTIPATION | A06 - DRUGS FOR...</td>\n",
       "      <td>A - ALIMENTARY TRACT AND METABOLISM | A - ALIM...</td>\n",
       "      <td>CHEMBL457299</td>\n",
       "      <td>0.66</td>\n",
       "    </tr>\n",
       "    <tr>\n",
       "      <th>4</th>\n",
       "      <td>CS(C)=O</td>\n",
       "      <td>CHEMBL504</td>\n",
       "      <td>DIMETHYL SULFOXIDE</td>\n",
       "      <td>Small molecule</td>\n",
       "      <td>4.0</td>\n",
       "      <td>1978.0</td>\n",
       "      <td>NaN</td>\n",
       "      <td>C[S+](C)[O-]</td>\n",
       "      <td>Unknown</td>\n",
       "      <td>NaN</td>\n",
       "      <td>...</td>\n",
       "      <td>NaN</td>\n",
       "      <td>{'CHEMBL504': [{'ref_id': '17661513', 'ref_url...</td>\n",
       "      <td>Dimethyl sulfoxide (BAN, INN, MI, USAN, USP)|</td>\n",
       "      <td>G04BX13 | M02AX03</td>\n",
       "      <td>G04BX - Other urologicals | M02AX - Other topi...</td>\n",
       "      <td>G04B - UROLOGICALS | M02A - TOPICAL PRODUCTS F...</td>\n",
       "      <td>G04 - UROLOGICALS | M02 - TOPICAL PRODUCTS FOR...</td>\n",
       "      <td>G - GENITO URINARY SYSTEM AND SEX HORMONES | M...</td>\n",
       "      <td>CHEMBL504</td>\n",
       "      <td>0.11</td>\n",
       "    </tr>\n",
       "  </tbody>\n",
       "</table>\n",
       "<p>5 rows × 27 columns</p>\n",
       "</div>"
      ],
      "text/plain": [
       "         0            ID Parent Molecule Name Parent Molecule Type  Max Phase  \\\n",
       "0     NCCS     CHEMBL602           CYSTEAMINE       Small molecule        4.0   \n",
       "1  NC(N)=N     CHEMBL821            GUANIDINE       Small molecule        4.0   \n",
       "2  NC(N)=O     CHEMBL985                 UREA       Small molecule        4.0   \n",
       "3     OCCO  CHEMBL457299             MACROGOL       Small molecule        4.0   \n",
       "4  CS(C)=O     CHEMBL504   DIMETHYL SULFOXIDE       Small molecule        4.0   \n",
       "\n",
       "   First Approval USAN Stem        Smiles  \\\n",
       "0          1994.0       NaN          NCCS   \n",
       "1          1939.0   'guan-'       N=C(N)N   \n",
       "2          1996.0       NaN       NC(N)=O   \n",
       "3             NaN       NaN          OCCO   \n",
       "4          1978.0       NaN  C[S+](C)[O-]   \n",
       "\n",
       "                       Mechanism of Action Mechanism Comment  ...  \\\n",
       "0                   Cystine reducing agent               NaN  ...   \n",
       "1  Voltage-gated potassium channel blocker               NaN  ...   \n",
       "2                         Diagnostic agent               NaN  ...   \n",
       "3                         Osmotic laxative               NaN  ...   \n",
       "4                                  Unknown               NaN  ...   \n",
       "\n",
       "  Binding Site Comment                                         References  \\\n",
       "0                  NaN  {'CHEMBL2062263': [{'ref_id': 'setid=f495b76d-...   \n",
       "1                  NaN  {'CHEMBL1200728': [{'ref_id': 'setid=903fbd33-...   \n",
       "2                  NaN  {'CHEMBL2096635': [{'ref_id': 'setid=13148b04-...   \n",
       "3                  NaN  {'CHEMBL457299': [{'ref_id': 'https://bnf.nice...   \n",
       "4                  NaN  {'CHEMBL504': [{'ref_id': '17661513', 'ref_url...   \n",
       "\n",
       "                                            Synonyms  \\\n",
       "0  Cysteamine (MI, USAN)|Mercaptamine (BAN, DCF, ...   \n",
       "1                                    Guanidine (MI)|   \n",
       "2  Urea (JAN, MI, USP)|Urea c 14 (USP)|Urea (13c)...   \n",
       "3           Macrogol (INN)|Polyethylene oxide (USP)|   \n",
       "4      Dimethyl sulfoxide (BAN, INN, MI, USAN, USP)|   \n",
       "\n",
       "                     ATC Codes  \\\n",
       "0            A16AA04 | S01XA21   \n",
       "1                          NaN   \n",
       "2  D02AE01 | B05BC02 | D02AE51   \n",
       "3            A06AD15 | A06AD65   \n",
       "4            G04BX13 | M02AX03   \n",
       "\n",
       "                                   Level 4 ATC Codes  \\\n",
       "0  A16AA - Amino acids and derivatives | S01XA - ...   \n",
       "1                                                NaN   \n",
       "2  D02AE - Carbamide products | B05BC - Solutions...   \n",
       "3  A06AD - Osmotically acting laxatives | A06AD -...   \n",
       "4  G04BX - Other urologicals | M02AX - Other topi...   \n",
       "\n",
       "                                   Level 3 ATC Codes  \\\n",
       "0  A16A - OTHER ALIMENTARY TRACT AND METABOLISM P...   \n",
       "1                                                NaN   \n",
       "2  D02A - EMOLLIENTS AND PROTECTIVES | B05B - I.V...   \n",
       "3  A06A - DRUGS FOR CONSTIPATION | A06A - DRUGS F...   \n",
       "4  G04B - UROLOGICALS | M02A - TOPICAL PRODUCTS F...   \n",
       "\n",
       "                                   Level 2 ATC Codes  \\\n",
       "0  A16 - OTHER ALIMENTARY TRACT AND METABOLISM PR...   \n",
       "1                                                NaN   \n",
       "2  D02 - EMOLLIENTS AND PROTECTIVES | B05 - BLOOD...   \n",
       "3  A06 - DRUGS FOR CONSTIPATION | A06 - DRUGS FOR...   \n",
       "4  G04 - UROLOGICALS | M02 - TOPICAL PRODUCTS FOR...   \n",
       "\n",
       "                                   Level 1 ATC Codes  \\\n",
       "0  A - ALIMENTARY TRACT AND METABOLISM | S - SENS...   \n",
       "1                                                NaN   \n",
       "2  D - DERMATOLOGICALS | B - BLOOD AND BLOOD FORM...   \n",
       "3  A - ALIMENTARY TRACT AND METABOLISM | A - ALIM...   \n",
       "4  G - GENITO URINARY SYSTEM AND SEX HORMONES | M...   \n",
       "\n",
       "  Parent Molecule ChEMBL ID.1 Np Likeness Score  \n",
       "0                   CHEMBL602              0.18  \n",
       "1                   CHEMBL821              0.32  \n",
       "2                   CHEMBL985             -0.22  \n",
       "3                CHEMBL457299              0.66  \n",
       "4                   CHEMBL504              0.11  \n",
       "\n",
       "[5 rows x 27 columns]"
      ]
     },
     "execution_count": 7,
     "metadata": {},
     "output_type": "execute_result"
    }
   ],
   "source": [
    "data1.rename(columns={data1.columns[1]: 'ID'}, inplace=True)\n",
    "data2.rename(columns={data2.columns[0]: 'ID'}, inplace=True)\n",
    "\n",
    "merged_data = pd.merge(data1, data2, on='ID', how='inner')\n",
    "\n",
    "merged_data.head()"
   ]
  },
  {
   "cell_type": "code",
   "execution_count": 8,
   "id": "199927b8",
   "metadata": {
    "execution": {
     "iopub.execute_input": "2024-08-10T23:25:11.735606Z",
     "iopub.status.busy": "2024-08-10T23:25:11.735161Z",
     "iopub.status.idle": "2024-08-10T23:25:11.741122Z",
     "shell.execute_reply": "2024-08-10T23:25:11.740019Z"
    },
    "papermill": {
     "duration": 0.025385,
     "end_time": "2024-08-10T23:25:11.744157",
     "exception": false,
     "start_time": "2024-08-10T23:25:11.718772",
     "status": "completed"
    },
    "tags": []
   },
   "outputs": [
    {
     "name": "stdout",
     "output_type": "stream",
     "text": [
      "4126\n"
     ]
    }
   ],
   "source": [
    "print(merged_data.shape[0])"
   ]
  },
  {
   "cell_type": "code",
   "execution_count": 9,
   "id": "e3033583",
   "metadata": {
    "execution": {
     "iopub.execute_input": "2024-08-10T23:25:11.776662Z",
     "iopub.status.busy": "2024-08-10T23:25:11.776214Z",
     "iopub.status.idle": "2024-08-10T23:25:11.791626Z",
     "shell.execute_reply": "2024-08-10T23:25:11.790438Z"
    },
    "papermill": {
     "duration": 0.034766,
     "end_time": "2024-08-10T23:25:11.793948",
     "exception": false,
     "start_time": "2024-08-10T23:25:11.759182",
     "status": "completed"
    },
    "tags": []
   },
   "outputs": [
    {
     "data": {
      "text/html": [
       "<div>\n",
       "<style scoped>\n",
       "    .dataframe tbody tr th:only-of-type {\n",
       "        vertical-align: middle;\n",
       "    }\n",
       "\n",
       "    .dataframe tbody tr th {\n",
       "        vertical-align: top;\n",
       "    }\n",
       "\n",
       "    .dataframe thead th {\n",
       "        text-align: right;\n",
       "    }\n",
       "</style>\n",
       "<table border=\"1\" class=\"dataframe\">\n",
       "  <thead>\n",
       "    <tr style=\"text-align: right;\">\n",
       "      <th></th>\n",
       "      <th>smiles</th>\n",
       "      <th>ID</th>\n",
       "      <th>Parent Molecule Type</th>\n",
       "      <th>Mechanism of Action</th>\n",
       "    </tr>\n",
       "  </thead>\n",
       "  <tbody>\n",
       "    <tr>\n",
       "      <th>0</th>\n",
       "      <td>NCCS</td>\n",
       "      <td>CHEMBL602</td>\n",
       "      <td>Small molecule</td>\n",
       "      <td>Cystine reducing agent</td>\n",
       "    </tr>\n",
       "    <tr>\n",
       "      <th>1</th>\n",
       "      <td>NC(N)=N</td>\n",
       "      <td>CHEMBL821</td>\n",
       "      <td>Small molecule</td>\n",
       "      <td>Voltage-gated potassium channel blocker</td>\n",
       "    </tr>\n",
       "    <tr>\n",
       "      <th>2</th>\n",
       "      <td>NC(N)=O</td>\n",
       "      <td>CHEMBL985</td>\n",
       "      <td>Small molecule</td>\n",
       "      <td>Diagnostic agent</td>\n",
       "    </tr>\n",
       "    <tr>\n",
       "      <th>3</th>\n",
       "      <td>OCCO</td>\n",
       "      <td>CHEMBL457299</td>\n",
       "      <td>Small molecule</td>\n",
       "      <td>Osmotic laxative</td>\n",
       "    </tr>\n",
       "    <tr>\n",
       "      <th>4</th>\n",
       "      <td>CS(C)=O</td>\n",
       "      <td>CHEMBL504</td>\n",
       "      <td>Small molecule</td>\n",
       "      <td>Unknown</td>\n",
       "    </tr>\n",
       "  </tbody>\n",
       "</table>\n",
       "</div>"
      ],
      "text/plain": [
       "    smiles            ID Parent Molecule Type  \\\n",
       "0     NCCS     CHEMBL602       Small molecule   \n",
       "1  NC(N)=N     CHEMBL821       Small molecule   \n",
       "2  NC(N)=O     CHEMBL985       Small molecule   \n",
       "3     OCCO  CHEMBL457299       Small molecule   \n",
       "4  CS(C)=O     CHEMBL504       Small molecule   \n",
       "\n",
       "                       Mechanism of Action  \n",
       "0                   Cystine reducing agent  \n",
       "1  Voltage-gated potassium channel blocker  \n",
       "2                         Diagnostic agent  \n",
       "3                         Osmotic laxative  \n",
       "4                                  Unknown  "
      ]
     },
     "execution_count": 9,
     "metadata": {},
     "output_type": "execute_result"
    }
   ],
   "source": [
    "merged_data.rename(columns={merged_data.columns[0]: 'smiles'}, inplace=True)\n",
    "final = merged_data[['smiles', 'ID', 'Parent Molecule Type', 'Mechanism of Action']]\n",
    "final.head()"
   ]
  },
  {
   "cell_type": "markdown",
   "id": "a74e1861",
   "metadata": {
    "papermill": {
     "duration": 0.015188,
     "end_time": "2024-08-10T23:25:11.824567",
     "exception": false,
     "start_time": "2024-08-10T23:25:11.809379",
     "status": "completed"
    },
    "tags": []
   },
   "source": [
    "Tidying up the data in final table:"
   ]
  },
  {
   "cell_type": "code",
   "execution_count": 10,
   "id": "c9523075",
   "metadata": {
    "execution": {
     "iopub.execute_input": "2024-08-10T23:25:11.857643Z",
     "iopub.status.busy": "2024-08-10T23:25:11.856630Z",
     "iopub.status.idle": "2024-08-10T23:25:11.972614Z",
     "shell.execute_reply": "2024-08-10T23:25:11.971415Z"
    },
    "papermill": {
     "duration": 0.135361,
     "end_time": "2024-08-10T23:25:11.975270",
     "exception": false,
     "start_time": "2024-08-10T23:25:11.839909",
     "status": "completed"
    },
    "tags": []
   },
   "outputs": [],
   "source": [
    "# remains of good old times when we tried to use left join. Alas, the memory ran out\n",
    "#final['Mechanism of Action'] = final['Mechanism of Action'].fillna('No MOA')\n",
    "#final['Parent Molecule Type'] = final['Parent Molecule Type'].fillna('No MOA')\n",
    "\n",
    "final.loc[final['Mechanism of Action'].str.contains('receptor agonist', case=False, na=False), 'Mechanism of Action'] = 'receptor agonist'\n",
    "final.loc[final['Mechanism of Action'].str.contains('inhibitor', case=False, na=False), 'Mechanism of Action'] = 'inhibitor'\n",
    "final.loc[final['Mechanism of Action'].str.contains('receptor antagonist', case=False, na=False), 'Mechanism of Action'] = 'receptor antagonist'\n",
    "\n",
    "condition = final['Mechanism of Action'].str.contains('agonist', case=False, na=False) & \\\n",
    "            ~final['Mechanism of Action'].str.contains('receptor agonist', case=False, na=False)\n",
    "final.loc[condition, 'Mechanism of Action'] = 'agonist'\n",
    "\n",
    "final.loc[final['Mechanism of Action'].str.contains('blocker', case=False, na=False), 'Mechanism of Action'] = 'blocker'\n",
    "final.loc[final['Mechanism of Action'].str.contains('receptor modulator', case=False, na=False), 'Mechanism of Action'] = 'receptor modulator'\n",
    "final.loc[final['Mechanism of Action'].str.contains('disrupting agent', case=False, na=False), 'Mechanism of Action'] = 'disrupting agent'\n",
    "\n",
    "\n",
    "condition2 = final['Mechanism of Action'].str.contains('potassium channel', case=False, na=False) & final['Mechanism of Action'].str.contains('opener', case=False, na=False)\n",
    "final.loc[condition2, 'Mechanism of Action'] = 'potassium channel opener'\n",
    "\n",
    "\n",
    "condition3 = final['Mechanism of Action'].str.contains('receptor', case=False, na=False) & final['Mechanism of Action'].str.contains('modulator', case=False, na=False)\n",
    "final.loc[condition3, 'Mechanism of Action'] = 'receptor  modulator'\n",
    "\n",
    "\n",
    "condition4 = final['Mechanism of Action'].str.contains('calcium channel', case=False, na=False) & final['Mechanism of Action'].str.contains('modulator', case=False, na=False)\n",
    "final.loc[condition4, 'Mechanism of Action'] = 'calcium channel  modulator'\n",
    "\n",
    "final.loc[final['Mechanism of Action'].str.contains('activator', case=False, na=False), 'Mechanism of Action'] = 'activator'\n",
    "\n",
    "final.loc[final['Mechanism of Action'].str.contains('sequestering agent', case=False, na=False), 'Mechanism of Action'] = 'sequestering agent'\n",
    "final.loc[final['Mechanism of Action'].str.contains('binding agent', case=False, na=False), 'Mechanism of Action'] = 'binding agent'\n",
    "\n",
    "condition5 = final['Mechanism of Action'].str.contains('modulator', case=False, na=False) & \\\n",
    "            ~final['Mechanism of Action'].str.contains('calcium channel', case=False, na=False) & \\\n",
    "            ~final['Mechanism of Action'].str.contains('receptor', case=False, na=False)\n",
    "final.loc[condition5, 'Mechanism of Action'] = 'modulator'\n",
    " \n",
    "    \n",
    "final.loc[final['Mechanism of Action'].str.contains('chelating agent', case=False, na=False), 'Mechanism of Action'] = 'chelating agent'\n",
    "    \n",
    "condition6 = final['Mechanism of Action'].str.contains('antioxidant', case=False, na=False) | final['Mechanism of Action'].str.contains('anti-oxidant', case=False, na=False)\n",
    "final.loc[condition6, 'Mechanism of Action'] = 'antioxidant'\n",
    "\n",
    "final.loc[final['Mechanism of Action'].str.contains('stabiliser', case=False, na=False), 'Mechanism of Action'] = 'stabiliser'\n"
   ]
  },
  {
   "cell_type": "code",
   "execution_count": 11,
   "id": "e07010c6",
   "metadata": {
    "execution": {
     "iopub.execute_input": "2024-08-10T23:25:12.008041Z",
     "iopub.status.busy": "2024-08-10T23:25:12.007614Z",
     "iopub.status.idle": "2024-08-10T23:25:12.023657Z",
     "shell.execute_reply": "2024-08-10T23:25:12.022405Z"
    },
    "papermill": {
     "duration": 0.035675,
     "end_time": "2024-08-10T23:25:12.026375",
     "exception": false,
     "start_time": "2024-08-10T23:25:11.990700",
     "status": "completed"
    },
    "tags": []
   },
   "outputs": [
    {
     "name": "stdout",
     "output_type": "stream",
     "text": [
      "4126\n",
      "Index(['smiles', 'ID', 'Parent Molecule Type', 'Mechanism of Action'], dtype='object')\n",
      "34\n",
      "4085\n"
     ]
    }
   ],
   "source": [
    "final.head()\n",
    "print(final.shape[0])\n",
    "print(final.columns)\n",
    "\n",
    "moa_counts = final['Mechanism of Action'].value_counts()\n",
    "final = final[final['Mechanism of Action'].isin(moa_counts[moa_counts > 1].index)]\n",
    "\n",
    "\n",
    "print(final['Mechanism of Action'].nunique())\n",
    "print(final.shape[0])"
   ]
  },
  {
   "cell_type": "code",
   "execution_count": 12,
   "id": "1835b6e2",
   "metadata": {
    "execution": {
     "iopub.execute_input": "2024-08-10T23:25:12.059508Z",
     "iopub.status.busy": "2024-08-10T23:25:12.059117Z",
     "iopub.status.idle": "2024-08-10T23:25:12.257396Z",
     "shell.execute_reply": "2024-08-10T23:25:12.256241Z"
    },
    "papermill": {
     "duration": 0.218146,
     "end_time": "2024-08-10T23:25:12.260120",
     "exception": false,
     "start_time": "2024-08-10T23:25:12.041974",
     "status": "completed"
    },
    "tags": []
   },
   "outputs": [],
   "source": [
    "smiles = final['smiles'].values\n",
    "moa = final['Mechanism of Action'].values\n",
    "\n",
    "maxlen = 200\n",
    "#unknown length encoding unfortunately failed\n",
    "tokenizer = Tokenizer(char_level=True, lower=False)\n",
    "tokenizer.fit_on_texts(smiles)\n",
    "sequences = tokenizer.texts_to_sequences(smiles)\n",
    "X = pad_sequences(sequences, maxlen=maxlen)"
   ]
  },
  {
   "cell_type": "code",
   "execution_count": 13,
   "id": "64e85ff4",
   "metadata": {
    "execution": {
     "iopub.execute_input": "2024-08-10T23:25:12.293291Z",
     "iopub.status.busy": "2024-08-10T23:25:12.292910Z",
     "iopub.status.idle": "2024-08-10T23:25:12.384996Z",
     "shell.execute_reply": "2024-08-10T23:25:12.383989Z"
    },
    "papermill": {
     "duration": 0.11203,
     "end_time": "2024-08-10T23:25:12.387925",
     "exception": false,
     "start_time": "2024-08-10T23:25:12.275895",
     "status": "completed"
    },
    "tags": []
   },
   "outputs": [],
   "source": [
    "# Step 3: Encode the MoA labels\n",
    "from tensorflow.keras.utils import to_categorical  \n",
    "moa_tokenizer = Tokenizer(lower=True)\n",
    "moa_tokenizer.fit_on_texts(moa)\n",
    "Y = moa_tokenizer.texts_to_sequences(moa)\n",
    "Y = np.array([y[0] - 1 for y in Y])  # Convert to zero-based index\n",
    "Y = to_categorical(Y, num_classes=len(moa_tokenizer.word_index))"
   ]
  },
  {
   "cell_type": "code",
   "execution_count": 14,
   "id": "da1556d8",
   "metadata": {
    "execution": {
     "iopub.execute_input": "2024-08-10T23:25:12.421149Z",
     "iopub.status.busy": "2024-08-10T23:25:12.420451Z",
     "iopub.status.idle": "2024-08-10T23:25:12.430335Z",
     "shell.execute_reply": "2024-08-10T23:25:12.429230Z"
    },
    "papermill": {
     "duration": 0.029555,
     "end_time": "2024-08-10T23:25:12.432858",
     "exception": false,
     "start_time": "2024-08-10T23:25:12.403303",
     "status": "completed"
    },
    "tags": []
   },
   "outputs": [
    {
     "name": "stdout",
     "output_type": "stream",
     "text": [
      "Shape of Y: (4085, 57)\n",
      "First few one-hot encoded labels:\n",
      " [[0. 0. 0. 0. 0. 1. 0. 0. 0. 0. 0. 0. 0. 0. 0. 0. 0. 0. 0. 0. 0. 0. 0. 0.\n",
      "  0. 0. 0. 0. 0. 0. 0. 0. 0. 0. 0. 0. 0. 0. 0. 0. 0. 0. 0. 0. 0. 0. 0. 0.\n",
      "  0. 0. 0. 0. 0. 0. 0. 0. 0.]\n",
      " [0. 0. 0. 0. 0. 0. 0. 0. 0. 1. 0. 0. 0. 0. 0. 0. 0. 0. 0. 0. 0. 0. 0. 0.\n",
      "  0. 0. 0. 0. 0. 0. 0. 0. 0. 0. 0. 0. 0. 0. 0. 0. 0. 0. 0. 0. 0. 0. 0. 0.\n",
      "  0. 0. 0. 0. 0. 0. 0. 0. 0.]\n",
      " [0. 0. 0. 0. 1. 0. 0. 0. 0. 0. 0. 0. 0. 0. 0. 0. 0. 0. 0. 0. 0. 0. 0. 0.\n",
      "  0. 0. 0. 0. 0. 0. 0. 0. 0. 0. 0. 0. 0. 0. 0. 0. 0. 0. 0. 0. 0. 0. 0. 0.\n",
      "  0. 0. 0. 0. 0. 0. 0. 0. 0.]\n",
      " [1. 0. 0. 0. 0. 0. 0. 0. 0. 0. 0. 0. 0. 0. 0. 0. 0. 0. 0. 0. 0. 0. 0. 0.\n",
      "  0. 0. 0. 0. 0. 0. 0. 0. 0. 0. 0. 0. 0. 0. 0. 0. 0. 0. 0. 0. 0. 0. 0. 0.\n",
      "  0. 0. 0. 0. 0. 0. 0. 0. 0.]\n",
      " [1. 0. 0. 0. 0. 0. 0. 0. 0. 0. 0. 0. 0. 0. 0. 0. 0. 0. 0. 0. 0. 0. 0. 0.\n",
      "  0. 0. 0. 0. 0. 0. 0. 0. 0. 0. 0. 0. 0. 0. 0. 0. 0. 0. 0. 0. 0. 0. 0. 0.\n",
      "  0. 0. 0. 0. 0. 0. 0. 0. 0.]]\n",
      "Sum of the first one-hot encoded label: 1.0\n",
      "Number of classes (unique labels): 57\n"
     ]
    }
   ],
   "source": [
    "print(\"Shape of Y:\", Y.shape)\n",
    "print(\"First few one-hot encoded labels:\\n\", Y[:5])\n",
    "print(\"Sum of the first one-hot encoded label:\", Y[0].sum())\n",
    "print(\"Number of classes (unique labels):\", Y.shape[1])"
   ]
  },
  {
   "cell_type": "code",
   "execution_count": 15,
   "id": "30962521",
   "metadata": {
    "execution": {
     "iopub.execute_input": "2024-08-10T23:25:12.468198Z",
     "iopub.status.busy": "2024-08-10T23:25:12.467215Z",
     "iopub.status.idle": "2024-08-10T23:25:12.476247Z",
     "shell.execute_reply": "2024-08-10T23:25:12.475290Z"
    },
    "papermill": {
     "duration": 0.028599,
     "end_time": "2024-08-10T23:25:12.478668",
     "exception": false,
     "start_time": "2024-08-10T23:25:12.450069",
     "status": "completed"
    },
    "tags": []
   },
   "outputs": [],
   "source": [
    "X_train, X_test, Y_train, Y_test = train_test_split(X, Y, test_size=0.2, random_state=42)"
   ]
  },
  {
   "cell_type": "code",
   "execution_count": 16,
   "id": "302a0db1",
   "metadata": {
    "execution": {
     "iopub.execute_input": "2024-08-10T23:25:12.511939Z",
     "iopub.status.busy": "2024-08-10T23:25:12.511517Z",
     "iopub.status.idle": "2024-08-10T23:25:12.567141Z",
     "shell.execute_reply": "2024-08-10T23:25:12.566236Z"
    },
    "papermill": {
     "duration": 0.075598,
     "end_time": "2024-08-10T23:25:12.569756",
     "exception": false,
     "start_time": "2024-08-10T23:25:12.494158",
     "status": "completed"
    },
    "tags": []
   },
   "outputs": [],
   "source": [
    "from keras.models import Sequential\n",
    "from keras.layers import Embedding, LSTM, Dense, Dropout\n",
    "\n",
    "\n",
    "#########################################\n",
    "#########################################\n",
    "# creating model 1\n",
    "model = Sequential()\n",
    "model.add(Embedding(input_dim=len(tokenizer.word_index) + 1, output_dim=128))\n",
    "model.add(LSTM(128, return_sequences=False))\n",
    "model.add(Dropout(0.2))\n",
    "model.add(Dense(128, activation='relu'))\n",
    "model.add(Dropout(0.2))\n",
    "model.add(Dense(len(moa_tokenizer.word_index), activation='softmax'))"
   ]
  },
  {
   "cell_type": "code",
   "execution_count": 17,
   "id": "9f7c5c9e",
   "metadata": {
    "execution": {
     "iopub.execute_input": "2024-08-10T23:25:12.602767Z",
     "iopub.status.busy": "2024-08-10T23:25:12.602339Z",
     "iopub.status.idle": "2024-08-10T23:27:39.051504Z",
     "shell.execute_reply": "2024-08-10T23:27:39.050213Z"
    },
    "papermill": {
     "duration": 146.46901,
     "end_time": "2024-08-10T23:27:39.054267",
     "exception": false,
     "start_time": "2024-08-10T23:25:12.585257",
     "status": "completed"
    },
    "tags": []
   },
   "outputs": [
    {
     "name": "stdout",
     "output_type": "stream",
     "text": [
      "Epoch 1/10\n",
      "\u001b[1m41/41\u001b[0m \u001b[32m━━━━━━━━━━━━━━━━━━━━\u001b[0m\u001b[37m\u001b[0m \u001b[1m15s\u001b[0m 296ms/step - accuracy: 0.4128 - loss: 3.0049 - val_accuracy: 0.5031 - val_loss: 1.5507\n",
      "Epoch 2/10\n",
      "\u001b[1m41/41\u001b[0m \u001b[32m━━━━━━━━━━━━━━━━━━━━\u001b[0m\u001b[37m\u001b[0m \u001b[1m11s\u001b[0m 277ms/step - accuracy: 0.4729 - loss: 1.6474 - val_accuracy: 0.5031 - val_loss: 1.5241\n",
      "Epoch 3/10\n",
      "\u001b[1m41/41\u001b[0m \u001b[32m━━━━━━━━━━━━━━━━━━━━\u001b[0m\u001b[37m\u001b[0m \u001b[1m11s\u001b[0m 278ms/step - accuracy: 0.5048 - loss: 1.5927 - val_accuracy: 0.5031 - val_loss: 1.5459\n",
      "Epoch 4/10\n",
      "\u001b[1m41/41\u001b[0m \u001b[32m━━━━━━━━━━━━━━━━━━━━\u001b[0m\u001b[37m\u001b[0m \u001b[1m12s\u001b[0m 285ms/step - accuracy: 0.5029 - loss: 1.5688 - val_accuracy: 0.5031 - val_loss: 1.5116\n",
      "Epoch 5/10\n",
      "\u001b[1m41/41\u001b[0m \u001b[32m━━━━━━━━━━━━━━━━━━━━\u001b[0m\u001b[37m\u001b[0m \u001b[1m11s\u001b[0m 277ms/step - accuracy: 0.4977 - loss: 1.5968 - val_accuracy: 0.5031 - val_loss: 1.5103\n",
      "Epoch 6/10\n",
      "\u001b[1m41/41\u001b[0m \u001b[32m━━━━━━━━━━━━━━━━━━━━\u001b[0m\u001b[37m\u001b[0m \u001b[1m21s\u001b[0m 289ms/step - accuracy: 0.5080 - loss: 1.5843 - val_accuracy: 0.5031 - val_loss: 1.5146\n",
      "Epoch 7/10\n",
      "\u001b[1m41/41\u001b[0m \u001b[32m━━━━━━━━━━━━━━━━━━━━\u001b[0m\u001b[37m\u001b[0m \u001b[1m11s\u001b[0m 278ms/step - accuracy: 0.4979 - loss: 1.5452 - val_accuracy: 0.5031 - val_loss: 1.4909\n",
      "Epoch 8/10\n",
      "\u001b[1m41/41\u001b[0m \u001b[32m━━━━━━━━━━━━━━━━━━━━\u001b[0m\u001b[37m\u001b[0m \u001b[1m21s\u001b[0m 288ms/step - accuracy: 0.4982 - loss: 1.5629 - val_accuracy: 0.5245 - val_loss: 1.4671\n",
      "Epoch 9/10\n",
      "\u001b[1m41/41\u001b[0m \u001b[32m━━━━━━━━━━━━━━━━━━━━\u001b[0m\u001b[37m\u001b[0m \u001b[1m12s\u001b[0m 281ms/step - accuracy: 0.4964 - loss: 1.4811 - val_accuracy: 0.4862 - val_loss: 1.4878\n",
      "Epoch 10/10\n",
      "\u001b[1m41/41\u001b[0m \u001b[32m━━━━━━━━━━━━━━━━━━━━\u001b[0m\u001b[37m\u001b[0m \u001b[1m21s\u001b[0m 288ms/step - accuracy: 0.5092 - loss: 1.5151 - val_accuracy: 0.5428 - val_loss: 1.4360\n"
     ]
    }
   ],
   "source": [
    "from keras.optimizers import Adam\n",
    "\n",
    "# compiling model 1\n",
    "model.compile(optimizer=Adam(learning_rate=0.001), loss='categorical_crossentropy', metrics=['accuracy'])\n",
    "\n",
    "#training model 1\n",
    "history = model.fit(X_train, Y_train, epochs=10, batch_size=64, validation_split=0.2)\n",
    "\n",
    "#saving model 1\n",
    "model.save('/kaggle/working/model1_2.h5')\n"
   ]
  },
  {
   "cell_type": "code",
   "execution_count": 18,
   "id": "e48e1e6b",
   "metadata": {
    "execution": {
     "iopub.execute_input": "2024-08-10T23:27:39.171160Z",
     "iopub.status.busy": "2024-08-10T23:27:39.170738Z",
     "iopub.status.idle": "2024-08-10T23:27:41.792645Z",
     "shell.execute_reply": "2024-08-10T23:27:41.791445Z"
    },
    "papermill": {
     "duration": 2.683058,
     "end_time": "2024-08-10T23:27:41.795347",
     "exception": false,
     "start_time": "2024-08-10T23:27:39.112289",
     "status": "completed"
    },
    "tags": []
   },
   "outputs": [
    {
     "name": "stdout",
     "output_type": "stream",
     "text": [
      "\u001b[1m26/26\u001b[0m \u001b[32m━━━━━━━━━━━━━━━━━━━━\u001b[0m\u001b[37m\u001b[0m \u001b[1m2s\u001b[0m 76ms/step - accuracy: 0.5240 - loss: 1.4590\n",
      "Accuracy: 0.5288\n"
     ]
    }
   ],
   "source": [
    "#evaluating model 1\n",
    "#from keras.models import load_model\n",
    "\n",
    "# Load the model\n",
    "#model1 = load_model('/kaggle/input/model1/keras/default/1/model1_2.h5')\n",
    "\n",
    "# Evaluate the model\n",
    "#loss, accuracy = model1.evaluate(X_test, Y_test)\n",
    "#print(f'Accuracy: {accuracy:.4f}')\n",
    "\n",
    "\n",
    "loss, accuracy = model.evaluate(X_test, Y_test)\n",
    "print(f'Accuracy: {accuracy:.4f}')"
   ]
  },
  {
   "cell_type": "markdown",
   "id": "9a42c33e",
   "metadata": {
    "papermill": {
     "duration": 0.059021,
     "end_time": "2024-08-10T23:27:41.913171",
     "exception": false,
     "start_time": "2024-08-10T23:27:41.854150",
     "status": "completed"
    },
    "tags": []
   },
   "source": [
    "Test accuracy of that was 50.48%."
   ]
  },
  {
   "cell_type": "markdown",
   "id": "d30183ea",
   "metadata": {
    "papermill": {
     "duration": 0.05891,
     "end_time": "2024-08-10T23:27:42.030913",
     "exception": false,
     "start_time": "2024-08-10T23:27:41.972003",
     "status": "completed"
    },
    "tags": []
   },
   "source": [
    "Since playing with parameters does not help improve accuracy here, we will try and implement a model with k-fold cross-validation instead of just one train and test set."
   ]
  },
  {
   "cell_type": "code",
   "execution_count": 19,
   "id": "81581359",
   "metadata": {
    "execution": {
     "iopub.execute_input": "2024-08-10T23:27:42.152587Z",
     "iopub.status.busy": "2024-08-10T23:27:42.152147Z",
     "iopub.status.idle": "2024-08-10T23:27:42.159512Z",
     "shell.execute_reply": "2024-08-10T23:27:42.158312Z"
    },
    "papermill": {
     "duration": 0.071971,
     "end_time": "2024-08-10T23:27:42.162088",
     "exception": false,
     "start_time": "2024-08-10T23:27:42.090117",
     "status": "completed"
    },
    "tags": []
   },
   "outputs": [],
   "source": [
    "import numpy as np\n",
    "from sklearn.model_selection import KFold\n",
    "from keras.models import Sequential\n",
    "from keras.layers import Embedding, LSTM, Dense, Dropout\n",
    "from keras.utils import to_categorical"
   ]
  },
  {
   "cell_type": "code",
   "execution_count": 20,
   "id": "13a46ab2",
   "metadata": {
    "execution": {
     "iopub.execute_input": "2024-08-10T23:27:42.282926Z",
     "iopub.status.busy": "2024-08-10T23:27:42.281821Z",
     "iopub.status.idle": "2024-08-10T23:27:42.287585Z",
     "shell.execute_reply": "2024-08-10T23:27:42.286443Z"
    },
    "papermill": {
     "duration": 0.068717,
     "end_time": "2024-08-10T23:27:42.289895",
     "exception": false,
     "start_time": "2024-08-10T23:27:42.221178",
     "status": "completed"
    },
    "tags": []
   },
   "outputs": [],
   "source": [
    "num_folds = 5  # Number of folds for cross-validation\n",
    "kf = KFold(n_splits=num_folds, shuffle=True, random_state=42)"
   ]
  },
  {
   "cell_type": "code",
   "execution_count": 21,
   "id": "94ff3f7d",
   "metadata": {
    "execution": {
     "iopub.execute_input": "2024-08-10T23:27:42.409006Z",
     "iopub.status.busy": "2024-08-10T23:27:42.408598Z",
     "iopub.status.idle": "2024-08-10T23:27:42.416537Z",
     "shell.execute_reply": "2024-08-10T23:27:42.415289Z"
    },
    "papermill": {
     "duration": 0.070319,
     "end_time": "2024-08-10T23:27:42.418863",
     "exception": false,
     "start_time": "2024-08-10T23:27:42.348544",
     "status": "completed"
    },
    "tags": []
   },
   "outputs": [],
   "source": [
    "def build_model(input_dim, output_dim, num_classes):\n",
    "    model = Sequential()\n",
    "    model.add(Embedding(input_dim=input_dim, output_dim=output_dim))\n",
    "    model.add(LSTM(128, return_sequences=False))\n",
    "    model.add(Dropout(0.2))\n",
    "    model.add(Dense(128, activation='relu'))\n",
    "    model.add(Dropout(0.2))\n",
    "    model.add(Dense(num_classes, activation='softmax'))\n",
    "    model.compile(optimizer=Adam(learning_rate=0.001), loss='categorical_crossentropy', metrics=['accuracy'])\n",
    "    return model"
   ]
  },
  {
   "cell_type": "code",
   "execution_count": 22,
   "id": "201c6c8d",
   "metadata": {
    "execution": {
     "iopub.execute_input": "2024-08-10T23:27:42.539246Z",
     "iopub.status.busy": "2024-08-10T23:27:42.538845Z",
     "iopub.status.idle": "2024-08-10T23:41:21.160144Z",
     "shell.execute_reply": "2024-08-10T23:41:21.158495Z"
    },
    "papermill": {
     "duration": 818.68537,
     "end_time": "2024-08-10T23:41:21.162896",
     "exception": false,
     "start_time": "2024-08-10T23:27:42.477526",
     "status": "completed"
    },
    "tags": []
   },
   "outputs": [
    {
     "name": "stdout",
     "output_type": "stream",
     "text": [
      "Fold 1\n",
      "Epoch 1/10\n",
      "\u001b[1m52/52\u001b[0m \u001b[32m━━━━━━━━━━━━━━━━━━━━\u001b[0m\u001b[37m\u001b[0m \u001b[1m17s\u001b[0m 282ms/step - accuracy: 0.4193 - loss: 2.7464 - val_accuracy: 0.4933 - val_loss: 1.6127\n",
      "Epoch 2/10\n",
      "\u001b[1m52/52\u001b[0m \u001b[32m━━━━━━━━━━━━━━━━━━━━\u001b[0m\u001b[37m\u001b[0m \u001b[1m15s\u001b[0m 282ms/step - accuracy: 0.4799 - loss: 1.6281 - val_accuracy: 0.4933 - val_loss: 1.5945\n",
      "Epoch 3/10\n",
      "\u001b[1m52/52\u001b[0m \u001b[32m━━━━━━━━━━━━━━━━━━━━\u001b[0m\u001b[37m\u001b[0m \u001b[1m14s\u001b[0m 273ms/step - accuracy: 0.4894 - loss: 1.6045 - val_accuracy: 0.4933 - val_loss: 1.5924\n",
      "Epoch 4/10\n",
      "\u001b[1m52/52\u001b[0m \u001b[32m━━━━━━━━━━━━━━━━━━━━\u001b[0m\u001b[37m\u001b[0m \u001b[1m15s\u001b[0m 281ms/step - accuracy: 0.4873 - loss: 1.6109 - val_accuracy: 0.4933 - val_loss: 1.5672\n",
      "Epoch 5/10\n",
      "\u001b[1m52/52\u001b[0m \u001b[32m━━━━━━━━━━━━━━━━━━━━\u001b[0m\u001b[37m\u001b[0m \u001b[1m20s\u001b[0m 276ms/step - accuracy: 0.5127 - loss: 1.5529 - val_accuracy: 0.4896 - val_loss: 1.5366\n",
      "Epoch 6/10\n",
      "\u001b[1m52/52\u001b[0m \u001b[32m━━━━━━━━━━━━━━━━━━━━\u001b[0m\u001b[37m\u001b[0m \u001b[1m20s\u001b[0m 276ms/step - accuracy: 0.4939 - loss: 1.5337 - val_accuracy: 0.4933 - val_loss: 1.5187\n",
      "Epoch 7/10\n",
      "\u001b[1m52/52\u001b[0m \u001b[32m━━━━━━━━━━━━━━━━━━━━\u001b[0m\u001b[37m\u001b[0m \u001b[1m14s\u001b[0m 278ms/step - accuracy: 0.5109 - loss: 1.5153 - val_accuracy: 0.4933 - val_loss: 1.5085\n",
      "Epoch 8/10\n",
      "\u001b[1m52/52\u001b[0m \u001b[32m━━━━━━━━━━━━━━━━━━━━\u001b[0m\u001b[37m\u001b[0m \u001b[1m14s\u001b[0m 278ms/step - accuracy: 0.4754 - loss: 1.5213 - val_accuracy: 0.4969 - val_loss: 1.4789\n",
      "Epoch 9/10\n",
      "\u001b[1m52/52\u001b[0m \u001b[32m━━━━━━━━━━━━━━━━━━━━\u001b[0m\u001b[37m\u001b[0m \u001b[1m14s\u001b[0m 276ms/step - accuracy: 0.4783 - loss: 1.4840 - val_accuracy: 0.5116 - val_loss: 1.4641\n",
      "Epoch 10/10\n",
      "\u001b[1m52/52\u001b[0m \u001b[32m━━━━━━━━━━━━━━━━━━━━\u001b[0m\u001b[37m\u001b[0m \u001b[1m15s\u001b[0m 285ms/step - accuracy: 0.5073 - loss: 1.4416 - val_accuracy: 0.4920 - val_loss: 1.4803\n",
      "\u001b[1m26/26\u001b[0m \u001b[32m━━━━━━━━━━━━━━━━━━━━\u001b[0m\u001b[37m\u001b[0m \u001b[1m2s\u001b[0m 79ms/step - accuracy: 0.4063 - loss: 1.7593\n",
      "Validation Accuracy for Fold 1: 0.4920\n",
      "Fold 2\n",
      "Epoch 1/10\n",
      "\u001b[1m52/52\u001b[0m \u001b[32m━━━━━━━━━━━━━━━━━━━━\u001b[0m\u001b[37m\u001b[0m \u001b[1m18s\u001b[0m 282ms/step - accuracy: 0.4242 - loss: 2.7488 - val_accuracy: 0.5141 - val_loss: 1.5443\n",
      "Epoch 2/10\n",
      "\u001b[1m52/52\u001b[0m \u001b[32m━━━━━━━━━━━━━━━━━━━━\u001b[0m\u001b[37m\u001b[0m \u001b[1m15s\u001b[0m 281ms/step - accuracy: 0.4841 - loss: 1.6278 - val_accuracy: 0.5141 - val_loss: 1.5287\n",
      "Epoch 3/10\n",
      "\u001b[1m52/52\u001b[0m \u001b[32m━━━━━━━━━━━━━━━━━━━━\u001b[0m\u001b[37m\u001b[0m \u001b[1m20s\u001b[0m 282ms/step - accuracy: 0.4787 - loss: 1.5947 - val_accuracy: 0.5141 - val_loss: 1.5438\n",
      "Epoch 4/10\n",
      "\u001b[1m52/52\u001b[0m \u001b[32m━━━━━━━━━━━━━━━━━━━━\u001b[0m\u001b[37m\u001b[0m \u001b[1m14s\u001b[0m 272ms/step - accuracy: 0.4758 - loss: 1.5893 - val_accuracy: 0.5141 - val_loss: 1.5109\n",
      "Epoch 5/10\n",
      "\u001b[1m52/52\u001b[0m \u001b[32m━━━━━━━━━━━━━━━━━━━━\u001b[0m\u001b[37m\u001b[0m \u001b[1m21s\u001b[0m 283ms/step - accuracy: 0.4860 - loss: 1.5875 - val_accuracy: 0.5141 - val_loss: 1.4846\n",
      "Epoch 6/10\n",
      "\u001b[1m52/52\u001b[0m \u001b[32m━━━━━━━━━━━━━━━━━━━━\u001b[0m\u001b[37m\u001b[0m \u001b[1m14s\u001b[0m 277ms/step - accuracy: 0.4878 - loss: 1.5438 - val_accuracy: 0.5141 - val_loss: 1.4792\n",
      "Epoch 7/10\n",
      "\u001b[1m52/52\u001b[0m \u001b[32m━━━━━━━━━━━━━━━━━━━━\u001b[0m\u001b[37m\u001b[0m \u001b[1m15s\u001b[0m 283ms/step - accuracy: 0.5011 - loss: 1.5111 - val_accuracy: 0.5116 - val_loss: 1.4463\n",
      "Epoch 8/10\n",
      "\u001b[1m52/52\u001b[0m \u001b[32m━━━━━━━━━━━━━━━━━━━━\u001b[0m\u001b[37m\u001b[0m \u001b[1m14s\u001b[0m 274ms/step - accuracy: 0.5004 - loss: 1.4660 - val_accuracy: 0.4957 - val_loss: 1.4343\n",
      "Epoch 9/10\n",
      "\u001b[1m52/52\u001b[0m \u001b[32m━━━━━━━━━━━━━━━━━━━━\u001b[0m\u001b[37m\u001b[0m \u001b[1m14s\u001b[0m 276ms/step - accuracy: 0.5193 - loss: 1.4218 - val_accuracy: 0.4700 - val_loss: 1.4600\n",
      "Epoch 10/10\n",
      "\u001b[1m52/52\u001b[0m \u001b[32m━━━━━━━━━━━━━━━━━━━━\u001b[0m\u001b[37m\u001b[0m \u001b[1m15s\u001b[0m 282ms/step - accuracy: 0.4964 - loss: 1.4890 - val_accuracy: 0.5214 - val_loss: 1.3934\n",
      "\u001b[1m26/26\u001b[0m \u001b[32m━━━━━━━━━━━━━━━━━━━━\u001b[0m\u001b[37m\u001b[0m \u001b[1m2s\u001b[0m 77ms/step - accuracy: 0.4600 - loss: 1.5988\n",
      "Validation Accuracy for Fold 2: 0.5214\n",
      "Fold 3\n",
      "Epoch 1/10\n",
      "\u001b[1m52/52\u001b[0m \u001b[32m━━━━━━━━━━━━━━━━━━━━\u001b[0m\u001b[37m\u001b[0m \u001b[1m18s\u001b[0m 291ms/step - accuracy: 0.4254 - loss: 2.7662 - val_accuracy: 0.5141 - val_loss: 1.5398\n",
      "Epoch 2/10\n",
      "\u001b[1m52/52\u001b[0m \u001b[32m━━━━━━━━━━━━━━━━━━━━\u001b[0m\u001b[37m\u001b[0m \u001b[1m14s\u001b[0m 277ms/step - accuracy: 0.4710 - loss: 1.6690 - val_accuracy: 0.5141 - val_loss: 1.5313\n",
      "Epoch 3/10\n",
      "\u001b[1m52/52\u001b[0m \u001b[32m━━━━━━━━━━━━━━━━━━━━\u001b[0m\u001b[37m\u001b[0m \u001b[1m15s\u001b[0m 283ms/step - accuracy: 0.4918 - loss: 1.6180 - val_accuracy: 0.5141 - val_loss: 1.5252\n",
      "Epoch 4/10\n",
      "\u001b[1m52/52\u001b[0m \u001b[32m━━━━━━━━━━━━━━━━━━━━\u001b[0m\u001b[37m\u001b[0m \u001b[1m14s\u001b[0m 275ms/step - accuracy: 0.4863 - loss: 1.5885 - val_accuracy: 0.5141 - val_loss: 1.5303\n",
      "Epoch 5/10\n",
      "\u001b[1m52/52\u001b[0m \u001b[32m━━━━━━━━━━━━━━━━━━━━\u001b[0m\u001b[37m\u001b[0m \u001b[1m14s\u001b[0m 277ms/step - accuracy: 0.4945 - loss: 1.5899 - val_accuracy: 0.5141 - val_loss: 1.5118\n",
      "Epoch 6/10\n",
      "\u001b[1m52/52\u001b[0m \u001b[32m━━━━━━━━━━━━━━━━━━━━\u001b[0m\u001b[37m\u001b[0m \u001b[1m14s\u001b[0m 276ms/step - accuracy: 0.4909 - loss: 1.5832 - val_accuracy: 0.5141 - val_loss: 1.4908\n",
      "Epoch 7/10\n",
      "\u001b[1m52/52\u001b[0m \u001b[32m━━━━━━━━━━━━━━━━━━━━\u001b[0m\u001b[37m\u001b[0m \u001b[1m14s\u001b[0m 278ms/step - accuracy: 0.4939 - loss: 1.5031 - val_accuracy: 0.5141 - val_loss: 1.4829\n",
      "Epoch 8/10\n",
      "\u001b[1m52/52\u001b[0m \u001b[32m━━━━━━━━━━━━━━━━━━━━\u001b[0m\u001b[37m\u001b[0m \u001b[1m15s\u001b[0m 282ms/step - accuracy: 0.4950 - loss: 1.5189 - val_accuracy: 0.5177 - val_loss: 1.4374\n",
      "Epoch 9/10\n",
      "\u001b[1m52/52\u001b[0m \u001b[32m━━━━━━━━━━━━━━━━━━━━\u001b[0m\u001b[37m\u001b[0m \u001b[1m14s\u001b[0m 278ms/step - accuracy: 0.4790 - loss: 1.5186 - val_accuracy: 0.5471 - val_loss: 1.4040\n",
      "Epoch 10/10\n",
      "\u001b[1m52/52\u001b[0m \u001b[32m━━━━━━━━━━━━━━━━━━━━\u001b[0m\u001b[37m\u001b[0m \u001b[1m20s\u001b[0m 275ms/step - accuracy: 0.5017 - loss: 1.4791 - val_accuracy: 0.5569 - val_loss: 1.3791\n",
      "\u001b[1m26/26\u001b[0m \u001b[32m━━━━━━━━━━━━━━━━━━━━\u001b[0m\u001b[37m\u001b[0m \u001b[1m2s\u001b[0m 78ms/step - accuracy: 0.4898 - loss: 1.5583\n",
      "Validation Accuracy for Fold 3: 0.5569\n",
      "Fold 4\n",
      "Epoch 1/10\n",
      "\u001b[1m52/52\u001b[0m \u001b[32m━━━━━━━━━━━━━━━━━━━━\u001b[0m\u001b[37m\u001b[0m \u001b[1m18s\u001b[0m 291ms/step - accuracy: 0.4496 - loss: 2.7431 - val_accuracy: 0.4749 - val_loss: 1.6762\n",
      "Epoch 2/10\n",
      "\u001b[1m52/52\u001b[0m \u001b[32m━━━━━━━━━━━━━━━━━━━━\u001b[0m\u001b[37m\u001b[0m \u001b[1m14s\u001b[0m 277ms/step - accuracy: 0.4864 - loss: 1.6500 - val_accuracy: 0.4749 - val_loss: 1.6340\n",
      "Epoch 3/10\n",
      "\u001b[1m52/52\u001b[0m \u001b[32m━━━━━━━━━━━━━━━━━━━━\u001b[0m\u001b[37m\u001b[0m \u001b[1m14s\u001b[0m 276ms/step - accuracy: 0.4894 - loss: 1.5934 - val_accuracy: 0.4749 - val_loss: 1.6348\n",
      "Epoch 4/10\n",
      "\u001b[1m52/52\u001b[0m \u001b[32m━━━━━━━━━━━━━━━━━━━━\u001b[0m\u001b[37m\u001b[0m \u001b[1m21s\u001b[0m 278ms/step - accuracy: 0.4950 - loss: 1.5763 - val_accuracy: 0.4749 - val_loss: 1.6026\n",
      "Epoch 5/10\n",
      "\u001b[1m52/52\u001b[0m \u001b[32m━━━━━━━━━━━━━━━━━━━━\u001b[0m\u001b[37m\u001b[0m \u001b[1m15s\u001b[0m 284ms/step - accuracy: 0.5060 - loss: 1.5407 - val_accuracy: 0.4749 - val_loss: 1.6212\n",
      "Epoch 6/10\n",
      "\u001b[1m52/52\u001b[0m \u001b[32m━━━━━━━━━━━━━━━━━━━━\u001b[0m\u001b[37m\u001b[0m \u001b[1m14s\u001b[0m 277ms/step - accuracy: 0.4991 - loss: 1.5478 - val_accuracy: 0.4749 - val_loss: 1.6134\n",
      "Epoch 7/10\n",
      "\u001b[1m52/52\u001b[0m \u001b[32m━━━━━━━━━━━━━━━━━━━━\u001b[0m\u001b[37m\u001b[0m \u001b[1m14s\u001b[0m 279ms/step - accuracy: 0.4978 - loss: 1.5470 - val_accuracy: 0.5067 - val_loss: 1.5231\n",
      "Epoch 8/10\n",
      "\u001b[1m52/52\u001b[0m \u001b[32m━━━━━━━━━━━━━━━━━━━━\u001b[0m\u001b[37m\u001b[0m \u001b[1m21s\u001b[0m 279ms/step - accuracy: 0.5075 - loss: 1.5049 - val_accuracy: 0.5177 - val_loss: 1.5052\n",
      "Epoch 9/10\n",
      "\u001b[1m52/52\u001b[0m \u001b[32m━━━━━━━━━━━━━━━━━━━━\u001b[0m\u001b[37m\u001b[0m \u001b[1m15s\u001b[0m 284ms/step - accuracy: 0.5273 - loss: 1.4646 - val_accuracy: 0.5263 - val_loss: 1.5020\n",
      "Epoch 10/10\n",
      "\u001b[1m52/52\u001b[0m \u001b[32m━━━━━━━━━━━━━━━━━━━━\u001b[0m\u001b[37m\u001b[0m \u001b[1m14s\u001b[0m 277ms/step - accuracy: 0.5416 - loss: 1.3949 - val_accuracy: 0.5226 - val_loss: 1.4590\n",
      "\u001b[1m26/26\u001b[0m \u001b[32m━━━━━━━━━━━━━━━━━━━━\u001b[0m\u001b[37m\u001b[0m \u001b[1m2s\u001b[0m 78ms/step - accuracy: 0.4512 - loss: 1.7091\n",
      "Validation Accuracy for Fold 4: 0.5226\n",
      "Fold 5\n",
      "Epoch 1/10\n",
      "\u001b[1m52/52\u001b[0m \u001b[32m━━━━━━━━━━━━━━━━━━━━\u001b[0m\u001b[37m\u001b[0m \u001b[1m18s\u001b[0m 291ms/step - accuracy: 0.4248 - loss: 2.8004 - val_accuracy: 0.4969 - val_loss: 1.5856\n",
      "Epoch 2/10\n",
      "\u001b[1m52/52\u001b[0m \u001b[32m━━━━━━━━━━━━━━━━━━━━\u001b[0m\u001b[37m\u001b[0m \u001b[1m15s\u001b[0m 279ms/step - accuracy: 0.4861 - loss: 1.6520 - val_accuracy: 0.4969 - val_loss: 1.5749\n",
      "Epoch 3/10\n",
      "\u001b[1m52/52\u001b[0m \u001b[32m━━━━━━━━━━━━━━━━━━━━\u001b[0m\u001b[37m\u001b[0m \u001b[1m15s\u001b[0m 284ms/step - accuracy: 0.4847 - loss: 1.6376 - val_accuracy: 0.4969 - val_loss: 1.5578\n",
      "Epoch 4/10\n",
      "\u001b[1m52/52\u001b[0m \u001b[32m━━━━━━━━━━━━━━━━━━━━\u001b[0m\u001b[37m\u001b[0m \u001b[1m14s\u001b[0m 278ms/step - accuracy: 0.4945 - loss: 1.6043 - val_accuracy: 0.4969 - val_loss: 1.5582\n",
      "Epoch 5/10\n",
      "\u001b[1m52/52\u001b[0m \u001b[32m━━━━━━━━━━━━━━━━━━━━\u001b[0m\u001b[37m\u001b[0m \u001b[1m21s\u001b[0m 286ms/step - accuracy: 0.4913 - loss: 1.5956 - val_accuracy: 0.4969 - val_loss: 1.5247\n",
      "Epoch 6/10\n",
      "\u001b[1m52/52\u001b[0m \u001b[32m━━━━━━━━━━━━━━━━━━━━\u001b[0m\u001b[37m\u001b[0m \u001b[1m14s\u001b[0m 277ms/step - accuracy: 0.4766 - loss: 1.5865 - val_accuracy: 0.4969 - val_loss: 1.5612\n",
      "Epoch 7/10\n",
      "\u001b[1m52/52\u001b[0m \u001b[32m━━━━━━━━━━━━━━━━━━━━\u001b[0m\u001b[37m\u001b[0m \u001b[1m15s\u001b[0m 283ms/step - accuracy: 0.4950 - loss: 1.5840 - val_accuracy: 0.4969 - val_loss: 1.5265\n",
      "Epoch 8/10\n",
      "\u001b[1m52/52\u001b[0m \u001b[32m━━━━━━━━━━━━━━━━━━━━\u001b[0m\u001b[37m\u001b[0m \u001b[1m20s\u001b[0m 277ms/step - accuracy: 0.4835 - loss: 1.5322 - val_accuracy: 0.4969 - val_loss: 1.5079\n",
      "Epoch 9/10\n",
      "\u001b[1m52/52\u001b[0m \u001b[32m━━━━━━━━━━━━━━━━━━━━\u001b[0m\u001b[37m\u001b[0m \u001b[1m15s\u001b[0m 284ms/step - accuracy: 0.4970 - loss: 1.4826 - val_accuracy: 0.4969 - val_loss: 1.4896\n",
      "Epoch 10/10\n",
      "\u001b[1m52/52\u001b[0m \u001b[32m━━━━━━━━━━━━━━━━━━━━\u001b[0m\u001b[37m\u001b[0m \u001b[1m20s\u001b[0m 278ms/step - accuracy: 0.5069 - loss: 1.5126 - val_accuracy: 0.5153 - val_loss: 1.4772\n",
      "\u001b[1m26/26\u001b[0m \u001b[32m━━━━━━━━━━━━━━━━━━━━\u001b[0m\u001b[37m\u001b[0m \u001b[1m2s\u001b[0m 77ms/step - accuracy: 0.4784 - loss: 1.6312\n",
      "Validation Accuracy for Fold 5: 0.5153\n",
      "accuracies [0.492044061422348, 0.5214198231697083, 0.5569155216217041, 0.5226438045501709, 0.5152998566627502]\n"
     ]
    }
   ],
   "source": [
    "fold_no = 1\n",
    "accuracies = []\n",
    "\n",
    "for train_index, val_index in kf.split(X):\n",
    "    print(f'Fold {fold_no}')\n",
    "    \n",
    "    # splitting data\n",
    "    X_train, X_val = X[train_index], X[val_index]\n",
    "    Y_train, Y_val = Y[train_index], Y[val_index]\n",
    "    \n",
    "    model3 = build_model(input_dim=len(tokenizer.word_index) + 1, output_dim=128, num_classes=len(moa_tokenizer.word_index))\n",
    "    \n",
    "    # training\n",
    "    history = model3.fit(X_train, Y_train, epochs=10, batch_size=64, validation_data=(X_val, Y_val))\n",
    "    \n",
    "    # evaluating\n",
    "    loss, accuracy = model3.evaluate(X_val, Y_val)\n",
    "    print(f'Validation Accuracy for Fold {fold_no}: {accuracy:.4f}')\n",
    "    \n",
    "    accuracies.append(accuracy)\n",
    "    \n",
    "    model3.save(f'/kaggle/working/model3_fold{fold_no}.h5')\n",
    "    \n",
    "    fold_no += 1\n",
    "\n",
    "print(\"accuracies\", accuracies)\n",
    "model3.save(f'/kaggle/working/model3.h5')"
   ]
  },
  {
   "cell_type": "code",
   "execution_count": 23,
   "id": "cd3acc83",
   "metadata": {
    "execution": {
     "iopub.execute_input": "2024-08-10T23:41:21.824427Z",
     "iopub.status.busy": "2024-08-10T23:41:21.823990Z",
     "iopub.status.idle": "2024-08-10T23:41:23.883651Z",
     "shell.execute_reply": "2024-08-10T23:41:23.882054Z"
    },
    "papermill": {
     "duration": 2.392612,
     "end_time": "2024-08-10T23:41:23.886299",
     "exception": false,
     "start_time": "2024-08-10T23:41:21.493687",
     "status": "completed"
    },
    "tags": []
   },
   "outputs": [
    {
     "name": "stdout",
     "output_type": "stream",
     "text": [
      "\u001b[1m26/26\u001b[0m \u001b[32m━━━━━━━━━━━━━━━━━━━━\u001b[0m\u001b[37m\u001b[0m \u001b[1m2s\u001b[0m 76ms/step - accuracy: 0.4988 - loss: 1.4521\n",
      "Accuracy: 0.5043\n"
     ]
    }
   ],
   "source": [
    "#model3 = load_model('/kaggle/input/model3/keras/default/1/model3.h5')\n",
    "\n",
    "loss, accuracy = model3.evaluate(X_test, Y_test)\n",
    "print(f'Accuracy: {accuracy:.4f}')"
   ]
  },
  {
   "cell_type": "markdown",
   "id": "dfa4b797",
   "metadata": {
    "papermill": {
     "duration": 0.349147,
     "end_time": "2024-08-10T23:41:24.568188",
     "exception": false,
     "start_time": "2024-08-10T23:41:24.219041",
     "status": "completed"
    },
    "tags": []
   },
   "source": [
    "Checking if some of the fold models outperform the average model:"
   ]
  },
  {
   "cell_type": "code",
   "execution_count": 24,
   "id": "81bfca3c",
   "metadata": {
    "execution": {
     "iopub.execute_input": "2024-08-10T23:41:25.326123Z",
     "iopub.status.busy": "2024-08-10T23:41:25.325614Z",
     "iopub.status.idle": "2024-08-10T23:41:28.135881Z",
     "shell.execute_reply": "2024-08-10T23:41:28.134444Z"
    },
    "papermill": {
     "duration": 3.218409,
     "end_time": "2024-08-10T23:41:28.138422",
     "exception": false,
     "start_time": "2024-08-10T23:41:24.920013",
     "status": "completed"
    },
    "tags": []
   },
   "outputs": [
    {
     "name": "stdout",
     "output_type": "stream",
     "text": [
      "\u001b[1m26/26\u001b[0m \u001b[32m━━━━━━━━━━━━━━━━━━━━\u001b[0m\u001b[37m\u001b[0m \u001b[1m3s\u001b[0m 76ms/step - accuracy: 0.5408 - loss: 1.3837\n",
      "best performing fold: 0.5545\n"
     ]
    }
   ],
   "source": [
    "from keras.models import load_model\n",
    "fold = load_model('/kaggle/input/fold_3/keras/default/1/model3_fold3.h5')\n",
    "\n",
    "# Evaluate the final model on the entire test set\n",
    "final_loss, final_accuracy = fold.evaluate(X_test, Y_test)\n",
    "print(f'best performing fold: {final_accuracy:.4f}')"
   ]
  },
  {
   "cell_type": "markdown",
   "id": "3c5724c4",
   "metadata": {
    "papermill": {
     "duration": 0.330652,
     "end_time": "2024-08-10T23:41:28.802717",
     "exception": false,
     "start_time": "2024-08-10T23:41:28.472065",
     "status": "completed"
    },
    "tags": []
   },
   "source": [
    "The best accuracy we could achieve was 55.45% using the model fold, which corresponds to the model saved during 5th fold of k-fold cross-validation."
   ]
  },
  {
   "cell_type": "markdown",
   "id": "5f135a44",
   "metadata": {
    "papermill": {
     "duration": 0.334209,
     "end_time": "2024-08-10T23:41:29.469886",
     "exception": false,
     "start_time": "2024-08-10T23:41:29.135677",
     "status": "completed"
    },
    "tags": []
   },
   "source": [
    "Next possible steps:\n",
    " - changing number of folds\n",
    " - including lines without known mechanism of action"
   ]
  },
  {
   "cell_type": "markdown",
   "id": "94109e15",
   "metadata": {
    "papermill": {
     "duration": 0.331523,
     "end_time": "2024-08-10T23:41:30.136499",
     "exception": false,
     "start_time": "2024-08-10T23:41:29.804976",
     "status": "completed"
    },
    "tags": []
   },
   "source": [
    "sources:\n",
    " - https://www.kaggle.com/datasets/art3mis/chembl22/data\n",
    " - https://www.cheminformania.com/master-your-molecule-generator-seq2seq-rnn-models-with-smiles-in-keras/\n",
    " - https://www.cheminformania.com/learn-how-to-improve-smiles-based-molecular-autoencoders-with-heteroencoders/\n",
    " - https://www.kaggle.com/code/art3mis/220221-getting-started-with-smiles\n",
    " - https://ftp.ebi.ac.uk/pub/databases/chembl/ChEMBLdb/latest/\n",
    " - https://ftp.ebi.ac.uk/pub/databases/chembl/ChEMBLdb/latest/schema_documentation.html\n",
    " - https://www.epa.gov/sites/default/files/2015-05/documents/appendf.pdf"
   ]
  }
 ],
 "metadata": {
  "kaggle": {
   "accelerator": "none",
   "dataSources": [
    {
     "datasetId": 1948519,
     "sourceId": 3231651,
     "sourceType": "datasetVersion"
    },
    {
     "datasetId": 5502326,
     "sourceId": 9115887,
     "sourceType": "datasetVersion"
    },
    {
     "isSourceIdPinned": true,
     "modelId": 102255,
     "modelInstanceId": 77625,
     "sourceId": 92577,
     "sourceType": "modelInstanceVersion"
    },
    {
     "isSourceIdPinned": true,
     "modelId": 102256,
     "modelInstanceId": 77626,
     "sourceId": 92578,
     "sourceType": "modelInstanceVersion"
    },
    {
     "isSourceIdPinned": true,
     "modelId": 102258,
     "modelInstanceId": 77628,
     "sourceId": 92580,
     "sourceType": "modelInstanceVersion"
    },
    {
     "isSourceIdPinned": true,
     "modelId": 102261,
     "modelInstanceId": 77631,
     "sourceId": 92583,
     "sourceType": "modelInstanceVersion"
    },
    {
     "isSourceIdPinned": true,
     "modelId": 102262,
     "modelInstanceId": 77632,
     "sourceId": 92584,
     "sourceType": "modelInstanceVersion"
    }
   ],
   "dockerImageVersionId": 30746,
   "isGpuEnabled": false,
   "isInternetEnabled": true,
   "language": "python",
   "sourceType": "notebook"
  },
  "kernelspec": {
   "display_name": "Python 3",
   "language": "python",
   "name": "python3"
  },
  "language_info": {
   "codemirror_mode": {
    "name": "ipython",
    "version": 3
   },
   "file_extension": ".py",
   "mimetype": "text/x-python",
   "name": "python",
   "nbconvert_exporter": "python",
   "pygments_lexer": "ipython3",
   "version": "3.10.13"
  },
  "papermill": {
   "default_parameters": {},
   "duration": 1008.839404,
   "end_time": "2024-08-10T23:41:33.280688",
   "environment_variables": {},
   "exception": null,
   "input_path": "__notebook__.ipynb",
   "output_path": "__notebook__.ipynb",
   "parameters": {},
   "start_time": "2024-08-10T23:24:44.441284",
   "version": "2.5.0"
  }
 },
 "nbformat": 4,
 "nbformat_minor": 5
}
