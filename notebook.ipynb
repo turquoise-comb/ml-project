{
 "cells": [
  {
   "cell_type": "code",
   "execution_count": 1,
   "id": "6dd46ada",
   "metadata": {
    "_cell_guid": "b1076dfc-b9ad-4769-8c92-a6c4dae69d19",
    "_uuid": "8f2839f25d086af736a60e9eeb907d3b93b6e0e5",
    "execution": {
     "iopub.execute_input": "2024-08-05T23:12:42.113514Z",
     "iopub.status.busy": "2024-08-05T23:12:42.113043Z",
     "iopub.status.idle": "2024-08-05T23:12:43.030330Z",
     "shell.execute_reply": "2024-08-05T23:12:43.029060Z"
    },
    "papermill": {
     "duration": 0.926365,
     "end_time": "2024-08-05T23:12:43.033224",
     "exception": false,
     "start_time": "2024-08-05T23:12:42.106859",
     "status": "completed"
    },
    "tags": []
   },
   "outputs": [
    {
     "name": "stdout",
     "output_type": "stream",
     "text": [
      "/kaggle/input/chembl22/chembl_22_clean_1576904_sorted_std_final.smi\n",
      "/kaggle/input/chembl/chembl_34_chemreps.txt\n"
     ]
    }
   ],
   "source": [
    "import numpy as np # linear algebra\n",
    "import pandas as pd # data processing, CSV file I/O (e.g. pd.read_csv)\n",
    "\n",
    "# Input data files are available in the read-only \"../input/\" directory\n",
    "# For example, running this (by clicking run or pressing Shift+Enter) will list all files under the input directory\n",
    "\n",
    "import os\n",
    "for dirname, _, filenames in os.walk('/kaggle/input'):\n",
    "    for filename in filenames:\n",
    "        print(os.path.join(dirname, filename))\n",
    "\n",
    "# You can write up to 20GB to the current directory (/kaggle/working/) that gets preserved as output when you create a version using \"Save & Run All\" \n",
    "# You can also write temporary files to /kaggle/temp/, but they won't be saved outside of the current session"
   ]
  },
  {
   "cell_type": "markdown",
   "id": "697fe150",
   "metadata": {
    "papermill": {
     "duration": 0.003546,
     "end_time": "2024-08-05T23:12:43.040972",
     "exception": false,
     "start_time": "2024-08-05T23:12:43.037426",
     "status": "completed"
    },
    "tags": []
   },
   "source": [
    "# Drug Design with Small Molecule SMILES"
   ]
  },
  {
   "cell_type": "markdown",
   "id": "90b72f91",
   "metadata": {
    "papermill": {
     "duration": 0.003408,
     "end_time": "2024-08-05T23:12:43.048122",
     "exception": false,
     "start_time": "2024-08-05T23:12:43.044714",
     "status": "completed"
    },
    "tags": []
   },
   "source": [
    "## Introduction\n",
    "\n",
    "In this project, we will attempt to find out if a machine learning alghoritm can predict medical usage of different chemicals based off of their structure.\n",
    "### Why is this important?\n",
    "One of the main usages of computers and machine learning in medicine is drug design and prediction of different drug mechanisms. This is something we couldn't do manually due to complex structure of majority of biochemical molecules. Here, we will start with small molecules to check how accurate model can be produced using simplest methods.\n",
    "\n",
    "## Data\n",
    "\n",
    "#### Datasets to be used are the following:\n",
    "\n",
    "\n",
    "\n",
    "### Drug Design with Small Molecule SMILES - Dataset containing molecules in SMILES format\n",
    "https://www.kaggle.com/datasets/art3mis/chembl22/data\n",
    "\n",
    "\n"
   ]
  },
  {
   "cell_type": "code",
   "execution_count": 2,
   "id": "ea45c76f",
   "metadata": {
    "execution": {
     "iopub.execute_input": "2024-08-05T23:12:43.057498Z",
     "iopub.status.busy": "2024-08-05T23:12:43.056960Z",
     "iopub.status.idle": "2024-08-05T23:12:47.150538Z",
     "shell.execute_reply": "2024-08-05T23:12:47.149383Z"
    },
    "papermill": {
     "duration": 4.101237,
     "end_time": "2024-08-05T23:12:47.153035",
     "exception": false,
     "start_time": "2024-08-05T23:12:43.051798",
     "status": "completed"
    },
    "tags": []
   },
   "outputs": [
    {
     "data": {
      "text/html": [
       "<div>\n",
       "<style scoped>\n",
       "    .dataframe tbody tr th:only-of-type {\n",
       "        vertical-align: middle;\n",
       "    }\n",
       "\n",
       "    .dataframe tbody tr th {\n",
       "        vertical-align: top;\n",
       "    }\n",
       "\n",
       "    .dataframe thead th {\n",
       "        text-align: right;\n",
       "    }\n",
       "</style>\n",
       "<table border=\"1\" class=\"dataframe\">\n",
       "  <thead>\n",
       "    <tr style=\"text-align: right;\">\n",
       "      <th></th>\n",
       "      <th>0</th>\n",
       "      <th>1</th>\n",
       "    </tr>\n",
       "  </thead>\n",
       "  <tbody>\n",
       "    <tr>\n",
       "      <th>0</th>\n",
       "      <td>CCO</td>\n",
       "      <td>CHEMBL545</td>\n",
       "    </tr>\n",
       "    <tr>\n",
       "      <th>1</th>\n",
       "      <td>C</td>\n",
       "      <td>CHEMBL17564</td>\n",
       "    </tr>\n",
       "    <tr>\n",
       "      <th>2</th>\n",
       "      <td>CO</td>\n",
       "      <td>CHEMBL14688</td>\n",
       "    </tr>\n",
       "    <tr>\n",
       "      <th>3</th>\n",
       "      <td>NCCS</td>\n",
       "      <td>CHEMBL602</td>\n",
       "    </tr>\n",
       "    <tr>\n",
       "      <th>4</th>\n",
       "      <td>NCCN</td>\n",
       "      <td>CHEMBL816</td>\n",
       "    </tr>\n",
       "  </tbody>\n",
       "</table>\n",
       "</div>"
      ],
      "text/plain": [
       "      0            1\n",
       "0   CCO    CHEMBL545\n",
       "1     C  CHEMBL17564\n",
       "2    CO  CHEMBL14688\n",
       "3  NCCS    CHEMBL602\n",
       "4  NCCN    CHEMBL816"
      ]
     },
     "execution_count": 2,
     "metadata": {},
     "output_type": "execute_result"
    }
   ],
   "source": [
    "path1 = '/kaggle/input/chembl22/chembl_22_clean_1576904_sorted_std_final.smi'\n",
    "data1 = pd.read_csv(path1, sep='\\t', header=None)\n",
    "data1.head()"
   ]
  },
  {
   "cell_type": "markdown",
   "id": "414fbdbe",
   "metadata": {
    "papermill": {
     "duration": 0.004185,
     "end_time": "2024-08-05T23:12:47.161481",
     "exception": false,
     "start_time": "2024-08-05T23:12:47.157296",
     "status": "completed"
    },
    "tags": []
   },
   "source": [
    "Since dataset is well documented, we have the following information about the columns:\n",
    " - The first column is the SMILES string.\n",
    " - The second is a reference to the full ChEMBL entry for that particular molecule. \n"
   ]
  },
  {
   "cell_type": "markdown",
   "id": "2282588c",
   "metadata": {
    "papermill": {
     "duration": 0.003585,
     "end_time": "2024-08-05T23:12:47.169194",
     "exception": false,
     "start_time": "2024-08-05T23:12:47.165609",
     "status": "completed"
    },
    "tags": []
   },
   "source": [
    "#### What is SMILES?\n",
    "SMILES stands for “Simplified Molecular Input Line Entry System\". \n",
    "\n",
    "\n",
    "The purpose of SMILES is to translate the 3D molecular structure of different chemicals into a linear representation of the molecule so that a computer program can understand the structure.\n"
   ]
  },
  {
   "cell_type": "markdown",
   "id": "9a1681e5",
   "metadata": {
    "papermill": {
     "duration": 0.003522,
     "end_time": "2024-08-05T23:12:47.176666",
     "exception": false,
     "start_time": "2024-08-05T23:12:47.173144",
     "status": "completed"
    },
    "tags": []
   },
   "source": [
    "##### Visualization\n",
    "First off, let's start with checking how length of SMILES string behaves within the dataset."
   ]
  },
  {
   "cell_type": "code",
   "execution_count": 3,
   "id": "a9635a63",
   "metadata": {
    "execution": {
     "iopub.execute_input": "2024-08-05T23:12:47.185904Z",
     "iopub.status.busy": "2024-08-05T23:12:47.185518Z",
     "iopub.status.idle": "2024-08-05T23:12:48.042777Z",
     "shell.execute_reply": "2024-08-05T23:12:48.041711Z"
    },
    "papermill": {
     "duration": 0.864626,
     "end_time": "2024-08-05T23:12:48.045050",
     "exception": false,
     "start_time": "2024-08-05T23:12:47.180424",
     "status": "completed"
    },
    "tags": []
   },
   "outputs": [
    {
     "data": {
      "image/png": "[encoded data removed]",
      "text/plain": [
       "<Figure size 1000x600 with 1 Axes>"
      ]
     },
     "metadata": {},
     "output_type": "display_data"
    }
   ],
   "source": [
    "import matplotlib.pyplot as plt\n",
    "lengths = data1[0].apply(len)\n",
    "plt.figure(figsize=(10, 6))\n",
    "plt.hist(lengths, bins=30, edgecolor='black')\n",
    "plt.title('Distribution of SMILES Lengths')\n",
    "plt.xlabel('Length')\n",
    "plt.ylabel('Frequency')\n",
    "plt.show()"
   ]
  },
  {
   "cell_type": "markdown",
   "id": "6c45cf6e",
   "metadata": {
    "papermill": {
     "duration": 0.004121,
     "end_time": "2024-08-05T23:12:48.053545",
     "exception": false,
     "start_time": "2024-08-05T23:12:48.049424",
     "status": "completed"
    },
    "tags": []
   },
   "source": [
    "As we can see, majority of strings are shorter than 200 characters. Here, it would seem wise to use only the SMILES up to length 200, however most of the molecules that indeed have some medical usages are quite large. Therefore, we will try to work with everything available.\n"
   ]
  },
  {
   "cell_type": "code",
   "execution_count": null,
   "id": "1e1a738b",
   "metadata": {
    "papermill": {
     "duration": 0.003967,
     "end_time": "2024-08-05T23:12:48.061704",
     "exception": false,
     "start_time": "2024-08-05T23:12:48.057737",
     "status": "completed"
    },
    "tags": []
   },
   "outputs": [],
   "source": []
  },
  {
   "cell_type": "code",
   "execution_count": 4,
   "id": "f29dcc13",
   "metadata": {
    "execution": {
     "iopub.execute_input": "2024-08-05T23:12:48.071897Z",
     "iopub.status.busy": "2024-08-05T23:12:48.071497Z",
     "iopub.status.idle": "2024-08-05T23:12:48.545976Z",
     "shell.execute_reply": "2024-08-05T23:12:48.544734Z"
    },
    "papermill": {
     "duration": 0.482613,
     "end_time": "2024-08-05T23:12:48.548546",
     "exception": false,
     "start_time": "2024-08-05T23:12:48.065933",
     "status": "completed"
    },
    "tags": []
   },
   "outputs": [
    {
     "name": "stdout",
     "output_type": "stream",
     "text": [
      "The length of the longest element in the first column is: 1423\n"
     ]
    }
   ],
   "source": [
    "max_length = data1[0].apply(len).max()\n",
    "print(f\"The length of the longest element in the first column is: {max_length}\")\n",
    "\n",
    "#the length is ridiculous so we won't be able to use a string of set length for all smiles"
   ]
  },
  {
   "cell_type": "markdown",
   "id": "16c83460",
   "metadata": {
    "papermill": {
     "duration": 0.004325,
     "end_time": "2024-08-05T23:12:48.557478",
     "exception": false,
     "start_time": "2024-08-05T23:12:48.553153",
     "status": "completed"
    },
    "tags": []
   },
   "source": [
    "#### - Dataset containing additional information, including medical usage: \n",
    "### ChEMBL database\n",
    "ChEMBL data is from http://www.ebi.ac.uk/chembl - the version of ChEMBL is\n",
    "chembl_34.\n",
    "\n",
    "Since second column from the first dataset corresponds to ChEMBL molecule ID, we will find file from the database that contains both id and medical usage of a molecule."
   ]
  },
  {
   "cell_type": "code",
   "execution_count": 5,
   "id": "3875eb69",
   "metadata": {
    "execution": {
     "iopub.execute_input": "2024-08-05T23:12:48.568611Z",
     "iopub.status.busy": "2024-08-05T23:12:48.567759Z",
     "iopub.status.idle": "2024-08-05T23:13:07.584802Z",
     "shell.execute_reply": "2024-08-05T23:13:07.583607Z"
    },
    "papermill": {
     "duration": 19.025248,
     "end_time": "2024-08-05T23:13:07.587199",
     "exception": false,
     "start_time": "2024-08-05T23:12:48.561951",
     "status": "completed"
    },
    "tags": []
   },
   "outputs": [
    {
     "data": {
      "text/html": [
       "<div>\n",
       "<style scoped>\n",
       "    .dataframe tbody tr th:only-of-type {\n",
       "        vertical-align: middle;\n",
       "    }\n",
       "\n",
       "    .dataframe tbody tr th {\n",
       "        vertical-align: top;\n",
       "    }\n",
       "\n",
       "    .dataframe thead th {\n",
       "        text-align: right;\n",
       "    }\n",
       "</style>\n",
       "<table border=\"1\" class=\"dataframe\">\n",
       "  <thead>\n",
       "    <tr style=\"text-align: right;\">\n",
       "      <th></th>\n",
       "      <th>0</th>\n",
       "      <th>1</th>\n",
       "      <th>2</th>\n",
       "      <th>3</th>\n",
       "    </tr>\n",
       "  </thead>\n",
       "  <tbody>\n",
       "    <tr>\n",
       "      <th>0</th>\n",
       "      <td>chembl_id</td>\n",
       "      <td>canonical_smiles</td>\n",
       "      <td>standard_inchi</td>\n",
       "      <td>standard_inchi_key</td>\n",
       "    </tr>\n",
       "    <tr>\n",
       "      <th>1</th>\n",
       "      <td>CHEMBL153534</td>\n",
       "      <td>Cc1cc(-c2csc(N=C(N)N)n2)cn1C</td>\n",
       "      <td>InChI=1S/C10H13N5S/c1-6-3-7(4-15(6)2)8-5-16-10...</td>\n",
       "      <td>MFRNFCWYPYSFQQ-UHFFFAOYSA-N</td>\n",
       "    </tr>\n",
       "    <tr>\n",
       "      <th>2</th>\n",
       "      <td>CHEMBL440060</td>\n",
       "      <td>CC[C@H](C)[C@H](NC(=O)[C@H](CC(C)C)NC(=O)[C@@H...</td>\n",
       "      <td>InChI=1S/C123H212N44O34S/c1-19-63(12)96(164-11...</td>\n",
       "      <td>RSEQNZQKBMRQNM-VRGFNVLHSA-N</td>\n",
       "    </tr>\n",
       "    <tr>\n",
       "      <th>3</th>\n",
       "      <td>CHEMBL440245</td>\n",
       "      <td>CCCC[C@@H]1NC(=O)[C@@H](NC(=O)[C@H](CC(C)C)NC(...</td>\n",
       "      <td>InChI=1S/C160H268N50O41/c1-23-27-41-95-134(228...</td>\n",
       "      <td>FTKBTEIKPOYCEX-OZSLQWTKSA-N</td>\n",
       "    </tr>\n",
       "    <tr>\n",
       "      <th>4</th>\n",
       "      <td>CHEMBL440249</td>\n",
       "      <td>CC(C)C[C@@H]1NC(=O)CNC(=O)[C@H](c2ccc(O)cc2)NC...</td>\n",
       "      <td>InChI=1S/C124H154ClN21O39/c1-57(2)48-81-112(17...</td>\n",
       "      <td>UYSXXKGACMHPIM-KFGDMSGDSA-N</td>\n",
       "    </tr>\n",
       "  </tbody>\n",
       "</table>\n",
       "</div>"
      ],
      "text/plain": [
       "              0                                                  1  \\\n",
       "0     chembl_id                                   canonical_smiles   \n",
       "1  CHEMBL153534                       Cc1cc(-c2csc(N=C(N)N)n2)cn1C   \n",
       "2  CHEMBL440060  CC[C@H](C)[C@H](NC(=O)[C@H](CC(C)C)NC(=O)[C@@H...   \n",
       "3  CHEMBL440245  CCCC[C@@H]1NC(=O)[C@@H](NC(=O)[C@H](CC(C)C)NC(...   \n",
       "4  CHEMBL440249  CC(C)C[C@@H]1NC(=O)CNC(=O)[C@H](c2ccc(O)cc2)NC...   \n",
       "\n",
       "                                                   2  \\\n",
       "0                                     standard_inchi   \n",
       "1  InChI=1S/C10H13N5S/c1-6-3-7(4-15(6)2)8-5-16-10...   \n",
       "2  InChI=1S/C123H212N44O34S/c1-19-63(12)96(164-11...   \n",
       "3  InChI=1S/C160H268N50O41/c1-23-27-41-95-134(228...   \n",
       "4  InChI=1S/C124H154ClN21O39/c1-57(2)48-81-112(17...   \n",
       "\n",
       "                             3  \n",
       "0           standard_inchi_key  \n",
       "1  MFRNFCWYPYSFQQ-UHFFFAOYSA-N  \n",
       "2  RSEQNZQKBMRQNM-VRGFNVLHSA-N  \n",
       "3  FTKBTEIKPOYCEX-OZSLQWTKSA-N  \n",
       "4  UYSXXKGACMHPIM-KFGDMSGDSA-N  "
      ]
     },
     "execution_count": 5,
     "metadata": {},
     "output_type": "execute_result"
    }
   ],
   "source": [
    "path2 = '/kaggle/input/chembl/chembl_34_chemreps.txt'\n",
    "data2 = pd.read_csv(path2, sep='\\t', header=None)\n",
    "data2.head()"
   ]
  },
  {
   "cell_type": "markdown",
   "id": "6570bcb8",
   "metadata": {
    "papermill": {
     "duration": 0.00433,
     "end_time": "2024-08-05T23:13:07.596396",
     "exception": false,
     "start_time": "2024-08-05T23:13:07.592066",
     "status": "completed"
    },
    "tags": []
   },
   "source": [
    "tabs\n",
    "https://www.kaggle.com/datasets/art3mis/chembl22/data\n",
    "https://www.cheminformania.com/master-your-molecule-generator-seq2seq-rnn-models-with-smiles-in-keras/\n",
    "https://www.cheminformania.com/learn-how-to-improve-smiles-based-molecular-autoencoders-with-heteroencoders/\n",
    "https://www.kaggle.com/code/art3mis/220221-getting-started-with-smiles\n",
    "https://ftp.ebi.ac.uk/pub/databases/chembl/ChEMBLdb/latest/\n",
    "https://ftp.ebi.ac.uk/pub/databases/chembl/ChEMBLdb/latest/schema_documentation.html\n",
    "https://www.epa.gov/sites/default/files/2015-05/documents/appendf.pdf"
   ]
  }
 ],
 "metadata": {
  "kaggle": {
   "accelerator": "none",
   "dataSources": [
    {
     "datasetId": 1948519,
     "sourceId": 3231651,
     "sourceType": "datasetVersion"
    },
    {
     "datasetId": 5500893,
     "sourceId": 9113654,
     "sourceType": "datasetVersion"
    }
   ],
   "dockerImageVersionId": 30746,
   "isGpuEnabled": false,
   "isInternetEnabled": true,
   "language": "python",
   "sourceType": "notebook"
  },
  "kernelspec": {
   "display_name": "Python 3",
   "language": "python",
   "name": "python3"
  },
  "language_info": {
   "codemirror_mode": {
    "name": "ipython",
    "version": 3
   },
   "file_extension": ".py",
   "mimetype": "text/x-python",
   "name": "python",
   "nbconvert_exporter": "python",
   "pygments_lexer": "ipython3",
   "version": "3.10.13"
  },
  "papermill": {
   "default_parameters": {},
   "duration": 29.072647,
   "end_time": "2024-08-05T23:13:08.423172",
   "environment_variables": {},
   "exception": null,
   "input_path": "__notebook__.ipynb",
   "output_path": "__notebook__.ipynb",
   "parameters": {},
   "start_time": "2024-08-05T23:12:39.350525",
   "version": "2.5.0"
  }
 },
 "nbformat": 4,
 "nbformat_minor": 5
}
