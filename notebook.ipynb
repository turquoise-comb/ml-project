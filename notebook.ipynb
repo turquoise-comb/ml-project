{
 "cells": [
  {
   "cell_type": "code",
   "execution_count": 1,
   "id": "253935d7",
   "metadata": {
    "_cell_guid": "b1076dfc-b9ad-4769-8c92-a6c4dae69d19",
    "_uuid": "8f2839f25d086af736a60e9eeb907d3b93b6e0e5",
    "execution": {
     "iopub.execute_input": "2024-08-09T22:59:04.226643Z",
     "iopub.status.busy": "2024-08-09T22:59:04.226228Z",
     "iopub.status.idle": "2024-08-09T22:59:21.181918Z",
     "shell.execute_reply": "2024-08-09T22:59:21.180505Z"
    },
    "papermill": {
     "duration": 16.974454,
     "end_time": "2024-08-09T22:59:21.184632",
     "exception": false,
     "start_time": "2024-08-09T22:59:04.210178",
     "status": "completed"
    },
    "tags": []
   },
   "outputs": [
    {
     "name": "stderr",
     "output_type": "stream",
     "text": [
      "2024-08-09 22:59:07.495080: E external/local_xla/xla/stream_executor/cuda/cuda_dnn.cc:9261] Unable to register cuDNN factory: Attempting to register factory for plugin cuDNN when one has already been registered\n",
      "2024-08-09 22:59:07.495282: E external/local_xla/xla/stream_executor/cuda/cuda_fft.cc:607] Unable to register cuFFT factory: Attempting to register factory for plugin cuFFT when one has already been registered\n",
      "2024-08-09 22:59:07.662789: E external/local_xla/xla/stream_executor/cuda/cuda_blas.cc:1515] Unable to register cuBLAS factory: Attempting to register factory for plugin cuBLAS when one has already been registered\n"
     ]
    },
    {
     "name": "stdout",
     "output_type": "stream",
     "text": [
      "/kaggle/input/drugmechanisms/DOWNLOAD-adHR51GpyZwztvXIVQ3rkc5LgNb7lm3YyO0Bnu7QscE=.tsv\n",
      "/kaggle/input/m3_fold3/keras/default/1/model3_fold3.h5\n",
      "/kaggle/input/model1/keras/default/1/model1.h5\n",
      "/kaggle/input/m3fold2/keras/default/1/model3_fold2.h5\n",
      "/kaggle/input/m3_fold4/keras/default/1/model3_fold4.h5\n",
      "/kaggle/input/model3/keras/default/1/model3.h5\n",
      "/kaggle/input/chembl22/chembl_22_clean_1576904_sorted_std_final.smi\n",
      "/kaggle/input/m3_fold5/keras/default/1/model3_fold5.h5\n",
      "/kaggle/input/m3_fold1/keras/default/1/model3_fold1.h5\n"
     ]
    }
   ],
   "source": [
    "import numpy as np\n",
    "import pandas as pd\n",
    "import tensorflow as tf\n",
    "from tensorflow.keras.preprocessing.text import Tokenizer \n",
    "from tensorflow.keras.preprocessing.sequence import pad_sequences \n",
    "from sklearn.model_selection import train_test_split\n",
    "\n",
    "import os\n",
    "\n",
    "for dirname, _, filenames in os.walk('/kaggle/input'):\n",
    "    for filename in filenames:\n",
    "        print(os.path.join(dirname, filename))"
   ]
  },
  {
   "cell_type": "markdown",
   "id": "013da381",
   "metadata": {
    "papermill": {
     "duration": 0.012987,
     "end_time": "2024-08-09T22:59:21.211182",
     "exception": false,
     "start_time": "2024-08-09T22:59:21.198195",
     "status": "completed"
    },
    "tags": []
   },
   "source": [
    "# Drug Design with Small Molecule SMILES"
   ]
  },
  {
   "cell_type": "markdown",
   "id": "c7161f55",
   "metadata": {
    "papermill": {
     "duration": 0.013666,
     "end_time": "2024-08-09T22:59:21.238121",
     "exception": false,
     "start_time": "2024-08-09T22:59:21.224455",
     "status": "completed"
    },
    "tags": []
   },
   "source": [
    "## Introduction\n",
    "\n",
    "In this project, we will attempt to find out if a machine learning alghoritm can predict medical usage of different chemicals based off of their structure.\n",
    "### Why is this important?\n",
    "One of the main usages of computers and machine learning in medicine is drug design and prediction of different drug mechanisms. This is something we couldn't do manually due to complex structure of majority of biochemical molecules. Here, we will start with small molecules to check how accurate model can be produced using simplest methods.\n",
    "\n",
    "## Data\n",
    "\n",
    "#### Datasets to be used are the following:\n",
    "\n",
    "\n",
    "\n",
    "### Drug Design with Small Molecule SMILES - Dataset containing molecules in SMILES format\n",
    "https://www.kaggle.com/datasets/art3mis/chembl22/data\n",
    "\n",
    "\n"
   ]
  },
  {
   "cell_type": "code",
   "execution_count": 2,
   "id": "c7b83b83",
   "metadata": {
    "execution": {
     "iopub.execute_input": "2024-08-09T22:59:21.267248Z",
     "iopub.status.busy": "2024-08-09T22:59:21.266419Z",
     "iopub.status.idle": "2024-08-09T22:59:25.519485Z",
     "shell.execute_reply": "2024-08-09T22:59:25.518354Z"
    },
    "papermill": {
     "duration": 4.27043,
     "end_time": "2024-08-09T22:59:25.522035",
     "exception": false,
     "start_time": "2024-08-09T22:59:21.251605",
     "status": "completed"
    },
    "tags": []
   },
   "outputs": [
    {
     "data": {
      "text/html": [
       "<div>\n",
       "<style scoped>\n",
       "    .dataframe tbody tr th:only-of-type {\n",
       "        vertical-align: middle;\n",
       "    }\n",
       "\n",
       "    .dataframe tbody tr th {\n",
       "        vertical-align: top;\n",
       "    }\n",
       "\n",
       "    .dataframe thead th {\n",
       "        text-align: right;\n",
       "    }\n",
       "</style>\n",
       "<table border=\"1\" class=\"dataframe\">\n",
       "  <thead>\n",
       "    <tr style=\"text-align: right;\">\n",
       "      <th></th>\n",
       "      <th>0</th>\n",
       "      <th>1</th>\n",
       "    </tr>\n",
       "  </thead>\n",
       "  <tbody>\n",
       "    <tr>\n",
       "      <th>0</th>\n",
       "      <td>CCO</td>\n",
       "      <td>CHEMBL545</td>\n",
       "    </tr>\n",
       "    <tr>\n",
       "      <th>1</th>\n",
       "      <td>C</td>\n",
       "      <td>CHEMBL17564</td>\n",
       "    </tr>\n",
       "    <tr>\n",
       "      <th>2</th>\n",
       "      <td>CO</td>\n",
       "      <td>CHEMBL14688</td>\n",
       "    </tr>\n",
       "    <tr>\n",
       "      <th>3</th>\n",
       "      <td>NCCS</td>\n",
       "      <td>CHEMBL602</td>\n",
       "    </tr>\n",
       "    <tr>\n",
       "      <th>4</th>\n",
       "      <td>NCCN</td>\n",
       "      <td>CHEMBL816</td>\n",
       "    </tr>\n",
       "  </tbody>\n",
       "</table>\n",
       "</div>"
      ],
      "text/plain": [
       "      0            1\n",
       "0   CCO    CHEMBL545\n",
       "1     C  CHEMBL17564\n",
       "2    CO  CHEMBL14688\n",
       "3  NCCS    CHEMBL602\n",
       "4  NCCN    CHEMBL816"
      ]
     },
     "execution_count": 2,
     "metadata": {},
     "output_type": "execute_result"
    }
   ],
   "source": [
    "path1 = '/kaggle/input/chembl22/chembl_22_clean_1576904_sorted_std_final.smi'\n",
    "data1 = pd.read_csv(path1, sep='\\t', header=None)\n",
    "data1.head()"
   ]
  },
  {
   "cell_type": "markdown",
   "id": "758e8980",
   "metadata": {
    "papermill": {
     "duration": 0.013318,
     "end_time": "2024-08-09T22:59:25.549912",
     "exception": false,
     "start_time": "2024-08-09T22:59:25.536594",
     "status": "completed"
    },
    "tags": []
   },
   "source": [
    "Since dataset is well documented, we have the following information about the columns:\n",
    " - The first column is the SMILES string.\n",
    " - The second is a reference to the full ChEMBL entry for that particular molecule. \n"
   ]
  },
  {
   "cell_type": "markdown",
   "id": "6692dd9e",
   "metadata": {
    "papermill": {
     "duration": 0.013441,
     "end_time": "2024-08-09T22:59:25.576930",
     "exception": false,
     "start_time": "2024-08-09T22:59:25.563489",
     "status": "completed"
    },
    "tags": []
   },
   "source": [
    "#### What is SMILES?\n",
    "SMILES stands for “Simplified Molecular Input Line Entry System\". \n",
    "\n",
    "\n",
    "The purpose of SMILES is to translate the 3D molecular structure of different chemicals into a linear representation of the molecule so that a computer program can understand the structure.\n"
   ]
  },
  {
   "cell_type": "markdown",
   "id": "1bb5a636",
   "metadata": {
    "papermill": {
     "duration": 0.013211,
     "end_time": "2024-08-09T22:59:25.603649",
     "exception": false,
     "start_time": "2024-08-09T22:59:25.590438",
     "status": "completed"
    },
    "tags": []
   },
   "source": [
    "![](https://pubchem.ncbi.nlm.nih.gov/image/imgsrv.fcgi?cid=5288826&t=l)"
   ]
  },
  {
   "cell_type": "markdown",
   "id": "dcd0fe6c",
   "metadata": {
    "papermill": {
     "duration": 0.013715,
     "end_time": "2024-08-09T22:59:25.630888",
     "exception": false,
     "start_time": "2024-08-09T22:59:25.617173",
     "status": "completed"
    },
    "tags": []
   },
   "source": [
    "Morphine, shown in picture, has SMILES format Oc1ccc2CC(N3C)C4C=CC(O)C5Oc1c2C45CC3."
   ]
  },
  {
   "cell_type": "markdown",
   "id": "2328c372",
   "metadata": {
    "papermill": {
     "duration": 0.013479,
     "end_time": "2024-08-09T22:59:25.658254",
     "exception": false,
     "start_time": "2024-08-09T22:59:25.644775",
     "status": "completed"
    },
    "tags": []
   },
   "source": [
    "##### Visualization\n",
    "First off, let's start with checking how length of SMILES string behaves within the dataset."
   ]
  },
  {
   "cell_type": "code",
   "execution_count": 3,
   "id": "8bb726c7",
   "metadata": {
    "execution": {
     "iopub.execute_input": "2024-08-09T22:59:25.687901Z",
     "iopub.status.busy": "2024-08-09T22:59:25.687447Z",
     "iopub.status.idle": "2024-08-09T22:59:27.149369Z",
     "shell.execute_reply": "2024-08-09T22:59:27.148177Z"
    },
    "papermill": {
     "duration": 1.480226,
     "end_time": "2024-08-09T22:59:27.152053",
     "exception": false,
     "start_time": "2024-08-09T22:59:25.671827",
     "status": "completed"
    },
    "tags": []
   },
   "outputs": [
    {
     "data": {
      "image/png": "[encoded data removed]",
      "text/plain": [
       "<Figure size 1000x600 with 1 Axes>"
      ]
     },
     "metadata": {},
     "output_type": "display_data"
    }
   ],
   "source": [
    "import matplotlib.pyplot as plt\n",
    "lengths = data1[0].apply(len)\n",
    "max_length_index = lengths.idxmax()\n",
    "plt.figure(figsize=(10, 6))\n",
    "plt.hist(lengths, bins=30, edgecolor='black')\n",
    "plt.title('Distribution of SMILES Lengths')\n",
    "plt.xlabel('Length')\n",
    "plt.ylabel('Frequency')\n",
    "plt.show()"
   ]
  },
  {
   "cell_type": "markdown",
   "id": "96b6c1cd",
   "metadata": {
    "papermill": {
     "duration": 0.014103,
     "end_time": "2024-08-09T22:59:27.180445",
     "exception": false,
     "start_time": "2024-08-09T22:59:27.166342",
     "status": "completed"
    },
    "tags": []
   },
   "source": [
    "As we can see, majority of strings are shorter than 200 characters. Here, it would seem wise to use only the SMILES up to length 200, however most of the molecules that indeed have some medical usages are quite large. Therefore, we will try to work with everything available.\n"
   ]
  },
  {
   "cell_type": "code",
   "execution_count": 4,
   "id": "b3ca5b0d",
   "metadata": {
    "execution": {
     "iopub.execute_input": "2024-08-09T22:59:27.210869Z",
     "iopub.status.busy": "2024-08-09T22:59:27.210457Z",
     "iopub.status.idle": "2024-08-09T22:59:28.246910Z",
     "shell.execute_reply": "2024-08-09T22:59:28.245688Z"
    },
    "papermill": {
     "duration": 1.054963,
     "end_time": "2024-08-09T22:59:28.249518",
     "exception": false,
     "start_time": "2024-08-09T22:59:27.194555",
     "status": "completed"
    },
    "tags": []
   },
   "outputs": [
    {
     "name": "stdout",
     "output_type": "stream",
     "text": [
      "The length of the longest element in the first column is: 1423\n",
      "That entry is: CC1=CN(C2CC(OP(O)(=O)OCC3OC(C(O)C3OP(O)(=O)OCC3OC(C(O)C3OP(O)(=O)OCC3OC(C(O)C3OP(O)(=O)OCC3OC(CC3OP(O)(=O)OCC34COCOC(C3O)C(O4)N3C=C(C)C(=O)NC3=O)N3C=C(C)C(=O)NC3=O)N3C=CC(N)=NC3=O)n3cnc4c(N)ncnc34)n3cnc4c3NC(N)=NC4=O)C(COP(O)(=O)OC3C(COP(O)(=O)OC4C(COP(O)(=O)OC5C(COP(O)(=O)OC6C(COP(O)(=O)OC7CC(OC7COP(O)(=O)OC7CC(OC7COP(O)(=O)OC7C(COP(O)(=O)OC8C(COP(O)(=O)OC9C(COP(O)(=O)OC%10C(COP(O)(=O)OC%11C(COP(O)(=O)OC%12C(COP(O)(=O)OC%13C(COP(O)(=O)OC%14C(COP(O)(=O)OC%15CC(OC%15COP(O)(=O)OC%15C(COP(O)(=O)OC%16C(COP(O)(=O)OC%17CC(OC%17COP(O)(=O)OC%17C(COP(O)(=O)OC%18C(COP(O)(=O)OC%19C(COP(O)(=O)OC%20CC(OC%20COP(O)(=O)OC%20C(COP(O)(=O)OC%21C(COc%22ccc%23c(Oc%24cc(O)ccc%24C%23%23OC(=O)c%24ccccc%23%24)c%22)OC(C%21O)n%21cnc%22c(N)ncnc%21%22)OC(C%20O)n%20cnc%21c%20N=C(N)NC%21=O)N%20C=C(C)C(=O)NC%20=O)OC(C%19O)N%19C=CC(N)=NC%19=O)OC(C%18O)N%18C=CC(N)=NC%18=O)OC(C%17O)n%17cnc%18c%17N=C(N)NC%18=O)N%17C=C(C)C(=O)NC%17=O)OC(C%16O)n%16cnc%17c%16N=C(N)NC%17=O)OC(C%15O)n%15cnc%16c%15N=C(N)NC%16=O)N%15C=C(C)C(=O)NC%15=O)OC(C%14O)n%14cnc%15c(N)ncnc%14%15)OC(C%13O)n%13cnc%14c%13N=C(N)NC%14=O)OC(C%12O)n%12cnc%13c%12N=C(N)NC%13=O)OC(C%11O)n%11cnc%12c%11N=C(N)NC%12=O)OC(C%10O)N%10C=CC(N)=NC%10=O)OC(C9O)n9cnc%10c(N)ncnc9%10)OC(C8O)n8cnc9c8N=C(N)NC9=O)OC(C7O)n7cnc8c7N=C(N)NC8=O)N7C=C(C)C(=O)NC7=O)N7C=C(C)C(=O)NC7=O)OC(C6O)n6cnc7c6N=C(N)NC7=O)OC(C5O)n5cnc6c5N=C(N)NC6=O)OC(C4O)n4cnc5c4N=C(N)NC5=O)OC(C3O)n3cnc4c3NC(N)=NC4=O)O2)C(=C)NC1=O\n"
     ]
    }
   ],
   "source": [
    "max_length = data1[0].apply(len).max()\n",
    "print(f\"The length of the longest element in the first column is: {max_length}\")\n",
    "print(f\"That entry is: {data1[0][max_length_index]}\")"
   ]
  },
  {
   "cell_type": "markdown",
   "id": "358df1ec",
   "metadata": {
    "papermill": {
     "duration": 0.014206,
     "end_time": "2024-08-09T22:59:28.277958",
     "exception": false,
     "start_time": "2024-08-09T22:59:28.263752",
     "status": "completed"
    },
    "tags": []
   },
   "source": [
    "However, we can't really use a string of length 1423 to store each molecule. This showcases why drug prediction is not so straightforward: meaningful data cannot be handled in a simple way. Here, we will have to settle for molecules up to 200 length (which covers majority of the dataset). "
   ]
  },
  {
   "cell_type": "markdown",
   "id": "d1ca4bb7",
   "metadata": {
    "papermill": {
     "duration": 0.014082,
     "end_time": "2024-08-09T22:59:28.306376",
     "exception": false,
     "start_time": "2024-08-09T22:59:28.292294",
     "status": "completed"
    },
    "tags": []
   },
   "source": [
    "#### - Dataset containing additional information, including medical usage: \n",
    "### ChEMBL database\n",
    "ChEMBL data is from http://www.ebi.ac.uk/chembl - the version of ChEMBL is\n",
    "chembl_34.\n",
    "\n",
    "Since second column from the first dataset corresponds to ChEMBL molecule ID, we will find file from the database that contains both id and medical usage of a molecule."
   ]
  },
  {
   "cell_type": "code",
   "execution_count": 5,
   "id": "a0fc013f",
   "metadata": {
    "execution": {
     "iopub.execute_input": "2024-08-09T22:59:28.337022Z",
     "iopub.status.busy": "2024-08-09T22:59:28.336584Z",
     "iopub.status.idle": "2024-08-09T22:59:28.518752Z",
     "shell.execute_reply": "2024-08-09T22:59:28.517469Z"
    },
    "papermill": {
     "duration": 0.20093,
     "end_time": "2024-08-09T22:59:28.521604",
     "exception": false,
     "start_time": "2024-08-09T22:59:28.320674",
     "status": "completed"
    },
    "tags": []
   },
   "outputs": [
    {
     "data": {
      "text/html": [
       "<div>\n",
       "<style scoped>\n",
       "    .dataframe tbody tr th:only-of-type {\n",
       "        vertical-align: middle;\n",
       "    }\n",
       "\n",
       "    .dataframe tbody tr th {\n",
       "        vertical-align: top;\n",
       "    }\n",
       "\n",
       "    .dataframe thead th {\n",
       "        text-align: right;\n",
       "    }\n",
       "</style>\n",
       "<table border=\"1\" class=\"dataframe\">\n",
       "  <thead>\n",
       "    <tr style=\"text-align: right;\">\n",
       "      <th></th>\n",
       "      <th>Parent Molecule ChEMBL ID</th>\n",
       "      <th>Parent Molecule Name</th>\n",
       "      <th>Parent Molecule Type</th>\n",
       "      <th>Max Phase</th>\n",
       "      <th>First Approval</th>\n",
       "      <th>USAN Stem</th>\n",
       "      <th>Smiles</th>\n",
       "      <th>Mechanism of Action</th>\n",
       "      <th>Mechanism Comment</th>\n",
       "      <th>Selectivity Comment</th>\n",
       "      <th>...</th>\n",
       "      <th>Binding Site Comment</th>\n",
       "      <th>References</th>\n",
       "      <th>Synonyms</th>\n",
       "      <th>ATC Codes</th>\n",
       "      <th>Level 4 ATC Codes</th>\n",
       "      <th>Level 3 ATC Codes</th>\n",
       "      <th>Level 2 ATC Codes</th>\n",
       "      <th>Level 1 ATC Codes</th>\n",
       "      <th>Parent Molecule ChEMBL ID.1</th>\n",
       "      <th>Np Likeness Score</th>\n",
       "    </tr>\n",
       "  </thead>\n",
       "  <tbody>\n",
       "    <tr>\n",
       "      <th>0</th>\n",
       "      <td>CHEMBL1200908</td>\n",
       "      <td>HALOBETASOL PROPIONATE</td>\n",
       "      <td>Small molecule</td>\n",
       "      <td>4.0</td>\n",
       "      <td>1990.0</td>\n",
       "      <td>NaN</td>\n",
       "      <td>CCC(=O)O[C@]1(C(=O)CCl)[C@@H](C)C[C@H]2[C@@H]3...</td>\n",
       "      <td>Glucocorticoid receptor agonist</td>\n",
       "      <td>NaN</td>\n",
       "      <td>NaN</td>\n",
       "      <td>...</td>\n",
       "      <td>NaN</td>\n",
       "      <td>{'CHEMBL1200908': [{'ref_id': '19293512', 'ref...</td>\n",
       "      <td>Halobetasol propionate (MI, USAN, USP)|Ulobeta...</td>\n",
       "      <td>D07AC21</td>\n",
       "      <td>D07AC - Corticosteroids, potent (group III)</td>\n",
       "      <td>D07A - CORTICOSTEROIDS, PLAIN</td>\n",
       "      <td>D07 - CORTICOSTEROIDS, DERMATOLOGICAL PREPARAT...</td>\n",
       "      <td>D - DERMATOLOGICALS</td>\n",
       "      <td>CHEMBL1200908</td>\n",
       "      <td>1.74</td>\n",
       "    </tr>\n",
       "    <tr>\n",
       "      <th>1</th>\n",
       "      <td>CHEMBL2108655</td>\n",
       "      <td>TOLEVAMER POTASSIUM SODIUM</td>\n",
       "      <td>Small molecule</td>\n",
       "      <td>3.0</td>\n",
       "      <td>NaN</td>\n",
       "      <td>'-mer'</td>\n",
       "      <td>NaN</td>\n",
       "      <td>Toxin B binding agent</td>\n",
       "      <td>NaN</td>\n",
       "      <td>NaN</td>\n",
       "      <td>...</td>\n",
       "      <td>NaN</td>\n",
       "      <td>{'CHEMBL2108655': [{'ref_id': '16838228', 'ref...</td>\n",
       "      <td>Tolevamer potassium sodium (USAN)|</td>\n",
       "      <td>NaN</td>\n",
       "      <td>NaN</td>\n",
       "      <td>NaN</td>\n",
       "      <td>NaN</td>\n",
       "      <td>NaN</td>\n",
       "      <td>CHEMBL2108655</td>\n",
       "      <td>NaN</td>\n",
       "    </tr>\n",
       "    <tr>\n",
       "      <th>2</th>\n",
       "      <td>CHEMBL2109256</td>\n",
       "      <td>SGN-30</td>\n",
       "      <td>Antibody</td>\n",
       "      <td>3.0</td>\n",
       "      <td>NaN</td>\n",
       "      <td>NaN</td>\n",
       "      <td>NaN</td>\n",
       "      <td>Tumor necrosis factor receptor superfamily mem...</td>\n",
       "      <td>After binding to CD30, this agent interferes w...</td>\n",
       "      <td>NaN</td>\n",
       "      <td>...</td>\n",
       "      <td>NaN</td>\n",
       "      <td>{'CHEMBL2109256': []}</td>\n",
       "      <td>Sgn-30</td>\n",
       "      <td>NaN</td>\n",
       "      <td>NaN</td>\n",
       "      <td>NaN</td>\n",
       "      <td>NaN</td>\n",
       "      <td>NaN</td>\n",
       "      <td>CHEMBL2109256</td>\n",
       "      <td>NaN</td>\n",
       "    </tr>\n",
       "    <tr>\n",
       "      <th>3</th>\n",
       "      <td>CHEMBL3545295</td>\n",
       "      <td>AVE0847</td>\n",
       "      <td>Small molecule</td>\n",
       "      <td>1.0</td>\n",
       "      <td>NaN</td>\n",
       "      <td>NaN</td>\n",
       "      <td>NaN</td>\n",
       "      <td>Peroxisome proliferator-activated receptor gam...</td>\n",
       "      <td>Development discontinued (http://fr.reuters.co...</td>\n",
       "      <td>NaN</td>\n",
       "      <td>...</td>\n",
       "      <td>NaN</td>\n",
       "      <td>{'CHEMBL3545295': [{'ref_id': 'https://ncats.n...</td>\n",
       "      <td>Ave0847</td>\n",
       "      <td>NaN</td>\n",
       "      <td>NaN</td>\n",
       "      <td>NaN</td>\n",
       "      <td>NaN</td>\n",
       "      <td>NaN</td>\n",
       "      <td>CHEMBL3545295</td>\n",
       "      <td>NaN</td>\n",
       "    </tr>\n",
       "    <tr>\n",
       "      <th>4</th>\n",
       "      <td>CHEMBL3545176</td>\n",
       "      <td>DB959</td>\n",
       "      <td>Small molecule</td>\n",
       "      <td>2.0</td>\n",
       "      <td>NaN</td>\n",
       "      <td>NaN</td>\n",
       "      <td>NaN</td>\n",
       "      <td>Peroxisome proliferator-activated receptor gam...</td>\n",
       "      <td>Ph1b study completed in 2011 (no trial ID). Co...</td>\n",
       "      <td>NaN</td>\n",
       "      <td>...</td>\n",
       "      <td>NaN</td>\n",
       "      <td>{'CHEMBL3545176': [{'ref_id': 'http://www.dara...</td>\n",
       "      <td>Db959</td>\n",
       "      <td>NaN</td>\n",
       "      <td>NaN</td>\n",
       "      <td>NaN</td>\n",
       "      <td>NaN</td>\n",
       "      <td>NaN</td>\n",
       "      <td>CHEMBL3545176</td>\n",
       "      <td>NaN</td>\n",
       "    </tr>\n",
       "  </tbody>\n",
       "</table>\n",
       "<p>5 rows × 26 columns</p>\n",
       "</div>"
      ],
      "text/plain": [
       "  Parent Molecule ChEMBL ID        Parent Molecule Name Parent Molecule Type  \\\n",
       "0             CHEMBL1200908      HALOBETASOL PROPIONATE       Small molecule   \n",
       "1             CHEMBL2108655  TOLEVAMER POTASSIUM SODIUM       Small molecule   \n",
       "2             CHEMBL2109256                      SGN-30             Antibody   \n",
       "3             CHEMBL3545295                     AVE0847       Small molecule   \n",
       "4             CHEMBL3545176                       DB959       Small molecule   \n",
       "\n",
       "   Max Phase  First Approval USAN Stem  \\\n",
       "0        4.0          1990.0       NaN   \n",
       "1        3.0             NaN    '-mer'   \n",
       "2        3.0             NaN       NaN   \n",
       "3        1.0             NaN       NaN   \n",
       "4        2.0             NaN       NaN   \n",
       "\n",
       "                                              Smiles  \\\n",
       "0  CCC(=O)O[C@]1(C(=O)CCl)[C@@H](C)C[C@H]2[C@@H]3...   \n",
       "1                                                NaN   \n",
       "2                                                NaN   \n",
       "3                                                NaN   \n",
       "4                                                NaN   \n",
       "\n",
       "                                 Mechanism of Action  \\\n",
       "0                    Glucocorticoid receptor agonist   \n",
       "1                              Toxin B binding agent   \n",
       "2  Tumor necrosis factor receptor superfamily mem...   \n",
       "3  Peroxisome proliferator-activated receptor gam...   \n",
       "4  Peroxisome proliferator-activated receptor gam...   \n",
       "\n",
       "                                   Mechanism Comment Selectivity Comment  ...  \\\n",
       "0                                                NaN                 NaN  ...   \n",
       "1                                                NaN                 NaN  ...   \n",
       "2  After binding to CD30, this agent interferes w...                 NaN  ...   \n",
       "3  Development discontinued (http://fr.reuters.co...                 NaN  ...   \n",
       "4  Ph1b study completed in 2011 (no trial ID). Co...                 NaN  ...   \n",
       "\n",
       "  Binding Site Comment                                         References  \\\n",
       "0                  NaN  {'CHEMBL1200908': [{'ref_id': '19293512', 'ref...   \n",
       "1                  NaN  {'CHEMBL2108655': [{'ref_id': '16838228', 'ref...   \n",
       "2                  NaN                              {'CHEMBL2109256': []}   \n",
       "3                  NaN  {'CHEMBL3545295': [{'ref_id': 'https://ncats.n...   \n",
       "4                  NaN  {'CHEMBL3545176': [{'ref_id': 'http://www.dara...   \n",
       "\n",
       "                                            Synonyms ATC Codes  \\\n",
       "0  Halobetasol propionate (MI, USAN, USP)|Ulobeta...   D07AC21   \n",
       "1                 Tolevamer potassium sodium (USAN)|       NaN   \n",
       "2                                             Sgn-30       NaN   \n",
       "3                                            Ave0847       NaN   \n",
       "4                                              Db959       NaN   \n",
       "\n",
       "                             Level 4 ATC Codes              Level 3 ATC Codes  \\\n",
       "0  D07AC - Corticosteroids, potent (group III)  D07A - CORTICOSTEROIDS, PLAIN   \n",
       "1                                          NaN                            NaN   \n",
       "2                                          NaN                            NaN   \n",
       "3                                          NaN                            NaN   \n",
       "4                                          NaN                            NaN   \n",
       "\n",
       "                                   Level 2 ATC Codes    Level 1 ATC Codes  \\\n",
       "0  D07 - CORTICOSTEROIDS, DERMATOLOGICAL PREPARAT...  D - DERMATOLOGICALS   \n",
       "1                                                NaN                  NaN   \n",
       "2                                                NaN                  NaN   \n",
       "3                                                NaN                  NaN   \n",
       "4                                                NaN                  NaN   \n",
       "\n",
       "  Parent Molecule ChEMBL ID.1 Np Likeness Score  \n",
       "0               CHEMBL1200908              1.74  \n",
       "1               CHEMBL2108655               NaN  \n",
       "2               CHEMBL2109256               NaN  \n",
       "3               CHEMBL3545295               NaN  \n",
       "4               CHEMBL3545176               NaN  \n",
       "\n",
       "[5 rows x 26 columns]"
      ]
     },
     "execution_count": 5,
     "metadata": {},
     "output_type": "execute_result"
    }
   ],
   "source": [
    "path2 = '/kaggle/input/drugmechanisms/DOWNLOAD-adHR51GpyZwztvXIVQ3rkc5LgNb7lm3YyO0Bnu7QscE=.tsv'\n",
    "data2 = pd.read_csv(path2, sep='\\t')\n",
    "data2.head()"
   ]
  },
  {
   "cell_type": "markdown",
   "id": "3ede3553",
   "metadata": {
    "papermill": {
     "duration": 0.015303,
     "end_time": "2024-08-09T22:59:28.551677",
     "exception": false,
     "start_time": "2024-08-09T22:59:28.536374",
     "status": "completed"
    },
    "tags": []
   },
   "source": [
    "tabs\n",
    "https://www.kaggle.com/datasets/art3mis/chembl22/data\n",
    "https://www.cheminformania.com/master-your-molecule-generator-seq2seq-rnn-models-with-smiles-in-keras/\n",
    "https://www.cheminformania.com/learn-how-to-improve-smiles-based-molecular-autoencoders-with-heteroencoders/\n",
    "https://www.kaggle.com/code/art3mis/220221-getting-started-with-smiles\n",
    "https://ftp.ebi.ac.uk/pub/databases/chembl/ChEMBLdb/latest/\n",
    "https://ftp.ebi.ac.uk/pub/databases/chembl/ChEMBLdb/latest/schema_documentation.html\n",
    "https://www.epa.gov/sites/default/files/2015-05/documents/appendf.pdf"
   ]
  },
  {
   "cell_type": "markdown",
   "id": "06f34be2",
   "metadata": {
    "papermill": {
     "duration": 0.014823,
     "end_time": "2024-08-09T22:59:28.581535",
     "exception": false,
     "start_time": "2024-08-09T22:59:28.566712",
     "status": "completed"
    },
    "tags": []
   },
   "source": [
    "## Data preparation"
   ]
  },
  {
   "cell_type": "markdown",
   "id": "8e6cbea9",
   "metadata": {
    "papermill": {
     "duration": 0.0145,
     "end_time": "2024-08-09T22:59:28.610961",
     "exception": false,
     "start_time": "2024-08-09T22:59:28.596461",
     "status": "completed"
    },
    "tags": []
   },
   "source": [
    "Since our second dataset is much smaller (includes only confirmed activity of drugs), if we use inner join our model\n",
    " - will have less data to work with\n",
    " - will not be able to cope with molecules not simmilar to those with confirned drug activity\n",
    " \n",
    " To demonstrate size difference within sets:"
   ]
  },
  {
   "cell_type": "code",
   "execution_count": 6,
   "id": "1b039f6d",
   "metadata": {
    "execution": {
     "iopub.execute_input": "2024-08-09T22:59:28.643210Z",
     "iopub.status.busy": "2024-08-09T22:59:28.642767Z",
     "iopub.status.idle": "2024-08-09T22:59:28.649185Z",
     "shell.execute_reply": "2024-08-09T22:59:28.648134Z"
    },
    "papermill": {
     "duration": 0.026027,
     "end_time": "2024-08-09T22:59:28.651806",
     "exception": false,
     "start_time": "2024-08-09T22:59:28.625779",
     "status": "completed"
    },
    "tags": []
   },
   "outputs": [
    {
     "name": "stdout",
     "output_type": "stream",
     "text": [
      "1576904\n",
      "6914\n"
     ]
    }
   ],
   "source": [
    "print(data1.shape[0])\n",
    "print(data2.shape[0])\n"
   ]
  },
  {
   "cell_type": "markdown",
   "id": "5f867ad1",
   "metadata": {
    "papermill": {
     "duration": 0.014574,
     "end_time": "2024-08-09T22:59:28.681340",
     "exception": false,
     "start_time": "2024-08-09T22:59:28.666766",
     "status": "completed"
    },
    "tags": []
   },
   "source": [
    "Therefore, we will perform left join on our datasets. Technically, data1 is a subset of data2, but the way kaggle dataset was filtered to make it more usable for machine learning is not clearly documented, so the same filtering cannot be performed on data2 manually to obtain equally good results. Since usability of data1 is marked by kaggle to be 10.0, we will just use the molecules present in that set."
   ]
  },
  {
   "cell_type": "code",
   "execution_count": 7,
   "id": "49fd24b2",
   "metadata": {
    "execution": {
     "iopub.execute_input": "2024-08-09T22:59:28.713914Z",
     "iopub.status.busy": "2024-08-09T22:59:28.712778Z",
     "iopub.status.idle": "2024-08-09T22:59:29.791883Z",
     "shell.execute_reply": "2024-08-09T22:59:29.790647Z"
    },
    "papermill": {
     "duration": 1.098414,
     "end_time": "2024-08-09T22:59:29.794662",
     "exception": false,
     "start_time": "2024-08-09T22:59:28.696248",
     "status": "completed"
    },
    "tags": []
   },
   "outputs": [
    {
     "data": {
      "text/html": [
       "<div>\n",
       "<style scoped>\n",
       "    .dataframe tbody tr th:only-of-type {\n",
       "        vertical-align: middle;\n",
       "    }\n",
       "\n",
       "    .dataframe tbody tr th {\n",
       "        vertical-align: top;\n",
       "    }\n",
       "\n",
       "    .dataframe thead th {\n",
       "        text-align: right;\n",
       "    }\n",
       "</style>\n",
       "<table border=\"1\" class=\"dataframe\">\n",
       "  <thead>\n",
       "    <tr style=\"text-align: right;\">\n",
       "      <th></th>\n",
       "      <th>0</th>\n",
       "      <th>ID</th>\n",
       "      <th>Parent Molecule Name</th>\n",
       "      <th>Parent Molecule Type</th>\n",
       "      <th>Max Phase</th>\n",
       "      <th>First Approval</th>\n",
       "      <th>USAN Stem</th>\n",
       "      <th>Smiles</th>\n",
       "      <th>Mechanism of Action</th>\n",
       "      <th>Mechanism Comment</th>\n",
       "      <th>...</th>\n",
       "      <th>Binding Site Comment</th>\n",
       "      <th>References</th>\n",
       "      <th>Synonyms</th>\n",
       "      <th>ATC Codes</th>\n",
       "      <th>Level 4 ATC Codes</th>\n",
       "      <th>Level 3 ATC Codes</th>\n",
       "      <th>Level 2 ATC Codes</th>\n",
       "      <th>Level 1 ATC Codes</th>\n",
       "      <th>Parent Molecule ChEMBL ID.1</th>\n",
       "      <th>Np Likeness Score</th>\n",
       "    </tr>\n",
       "  </thead>\n",
       "  <tbody>\n",
       "    <tr>\n",
       "      <th>0</th>\n",
       "      <td>NCCS</td>\n",
       "      <td>CHEMBL602</td>\n",
       "      <td>CYSTEAMINE</td>\n",
       "      <td>Small molecule</td>\n",
       "      <td>4.0</td>\n",
       "      <td>1994.0</td>\n",
       "      <td>NaN</td>\n",
       "      <td>NCCS</td>\n",
       "      <td>Cystine reducing agent</td>\n",
       "      <td>NaN</td>\n",
       "      <td>...</td>\n",
       "      <td>NaN</td>\n",
       "      <td>{'CHEMBL2062263': [{'ref_id': 'setid=f495b76d-...</td>\n",
       "      <td>Cysteamine (MI, USAN)|Mercaptamine (BAN, DCF, ...</td>\n",
       "      <td>A16AA04 | S01XA21</td>\n",
       "      <td>A16AA - Amino acids and derivatives | S01XA - ...</td>\n",
       "      <td>A16A - OTHER ALIMENTARY TRACT AND METABOLISM P...</td>\n",
       "      <td>A16 - OTHER ALIMENTARY TRACT AND METABOLISM PR...</td>\n",
       "      <td>A - ALIMENTARY TRACT AND METABOLISM | S - SENS...</td>\n",
       "      <td>CHEMBL602</td>\n",
       "      <td>0.18</td>\n",
       "    </tr>\n",
       "    <tr>\n",
       "      <th>1</th>\n",
       "      <td>NC(N)=N</td>\n",
       "      <td>CHEMBL821</td>\n",
       "      <td>GUANIDINE</td>\n",
       "      <td>Small molecule</td>\n",
       "      <td>4.0</td>\n",
       "      <td>1939.0</td>\n",
       "      <td>'guan-'</td>\n",
       "      <td>N=C(N)N</td>\n",
       "      <td>Voltage-gated potassium channel blocker</td>\n",
       "      <td>NaN</td>\n",
       "      <td>...</td>\n",
       "      <td>NaN</td>\n",
       "      <td>{'CHEMBL1200728': [{'ref_id': 'setid=903fbd33-...</td>\n",
       "      <td>Guanidine (MI)|</td>\n",
       "      <td>NaN</td>\n",
       "      <td>NaN</td>\n",
       "      <td>NaN</td>\n",
       "      <td>NaN</td>\n",
       "      <td>NaN</td>\n",
       "      <td>CHEMBL821</td>\n",
       "      <td>0.32</td>\n",
       "    </tr>\n",
       "    <tr>\n",
       "      <th>2</th>\n",
       "      <td>NC(N)=O</td>\n",
       "      <td>CHEMBL985</td>\n",
       "      <td>UREA</td>\n",
       "      <td>Small molecule</td>\n",
       "      <td>4.0</td>\n",
       "      <td>1996.0</td>\n",
       "      <td>NaN</td>\n",
       "      <td>NC(N)=O</td>\n",
       "      <td>Diagnostic agent</td>\n",
       "      <td>NaN</td>\n",
       "      <td>...</td>\n",
       "      <td>NaN</td>\n",
       "      <td>{'CHEMBL2096635': [{'ref_id': 'setid=13148b04-...</td>\n",
       "      <td>Urea (JAN, MI, USP)|Urea c 14 (USP)|Urea (13c)...</td>\n",
       "      <td>D02AE01 | B05BC02 | D02AE51</td>\n",
       "      <td>D02AE - Carbamide products | B05BC - Solutions...</td>\n",
       "      <td>D02A - EMOLLIENTS AND PROTECTIVES | B05B - I.V...</td>\n",
       "      <td>D02 - EMOLLIENTS AND PROTECTIVES | B05 - BLOOD...</td>\n",
       "      <td>D - DERMATOLOGICALS | B - BLOOD AND BLOOD FORM...</td>\n",
       "      <td>CHEMBL985</td>\n",
       "      <td>-0.22</td>\n",
       "    </tr>\n",
       "    <tr>\n",
       "      <th>3</th>\n",
       "      <td>OCCO</td>\n",
       "      <td>CHEMBL457299</td>\n",
       "      <td>MACROGOL</td>\n",
       "      <td>Small molecule</td>\n",
       "      <td>4.0</td>\n",
       "      <td>NaN</td>\n",
       "      <td>NaN</td>\n",
       "      <td>OCCO</td>\n",
       "      <td>Osmotic laxative</td>\n",
       "      <td>NaN</td>\n",
       "      <td>...</td>\n",
       "      <td>NaN</td>\n",
       "      <td>{'CHEMBL457299': [{'ref_id': 'https://bnf.nice...</td>\n",
       "      <td>Macrogol (INN)|Polyethylene oxide (USP)|</td>\n",
       "      <td>A06AD15 | A06AD65</td>\n",
       "      <td>A06AD - Osmotically acting laxatives | A06AD -...</td>\n",
       "      <td>A06A - DRUGS FOR CONSTIPATION | A06A - DRUGS F...</td>\n",
       "      <td>A06 - DRUGS FOR CONSTIPATION | A06 - DRUGS FOR...</td>\n",
       "      <td>A - ALIMENTARY TRACT AND METABOLISM | A - ALIM...</td>\n",
       "      <td>CHEMBL457299</td>\n",
       "      <td>0.66</td>\n",
       "    </tr>\n",
       "    <tr>\n",
       "      <th>4</th>\n",
       "      <td>CS(C)=O</td>\n",
       "      <td>CHEMBL504</td>\n",
       "      <td>DIMETHYL SULFOXIDE</td>\n",
       "      <td>Small molecule</td>\n",
       "      <td>4.0</td>\n",
       "      <td>1978.0</td>\n",
       "      <td>NaN</td>\n",
       "      <td>C[S+](C)[O-]</td>\n",
       "      <td>Unknown</td>\n",
       "      <td>NaN</td>\n",
       "      <td>...</td>\n",
       "      <td>NaN</td>\n",
       "      <td>{'CHEMBL504': [{'ref_id': '17661513', 'ref_url...</td>\n",
       "      <td>Dimethyl sulfoxide (BAN, INN, MI, USAN, USP)|</td>\n",
       "      <td>G04BX13 | M02AX03</td>\n",
       "      <td>G04BX - Other urologicals | M02AX - Other topi...</td>\n",
       "      <td>G04B - UROLOGICALS | M02A - TOPICAL PRODUCTS F...</td>\n",
       "      <td>G04 - UROLOGICALS | M02 - TOPICAL PRODUCTS FOR...</td>\n",
       "      <td>G - GENITO URINARY SYSTEM AND SEX HORMONES | M...</td>\n",
       "      <td>CHEMBL504</td>\n",
       "      <td>0.11</td>\n",
       "    </tr>\n",
       "  </tbody>\n",
       "</table>\n",
       "<p>5 rows × 27 columns</p>\n",
       "</div>"
      ],
      "text/plain": [
       "         0            ID Parent Molecule Name Parent Molecule Type  Max Phase  \\\n",
       "0     NCCS     CHEMBL602           CYSTEAMINE       Small molecule        4.0   \n",
       "1  NC(N)=N     CHEMBL821            GUANIDINE       Small molecule        4.0   \n",
       "2  NC(N)=O     CHEMBL985                 UREA       Small molecule        4.0   \n",
       "3     OCCO  CHEMBL457299             MACROGOL       Small molecule        4.0   \n",
       "4  CS(C)=O     CHEMBL504   DIMETHYL SULFOXIDE       Small molecule        4.0   \n",
       "\n",
       "   First Approval USAN Stem        Smiles  \\\n",
       "0          1994.0       NaN          NCCS   \n",
       "1          1939.0   'guan-'       N=C(N)N   \n",
       "2          1996.0       NaN       NC(N)=O   \n",
       "3             NaN       NaN          OCCO   \n",
       "4          1978.0       NaN  C[S+](C)[O-]   \n",
       "\n",
       "                       Mechanism of Action Mechanism Comment  ...  \\\n",
       "0                   Cystine reducing agent               NaN  ...   \n",
       "1  Voltage-gated potassium channel blocker               NaN  ...   \n",
       "2                         Diagnostic agent               NaN  ...   \n",
       "3                         Osmotic laxative               NaN  ...   \n",
       "4                                  Unknown               NaN  ...   \n",
       "\n",
       "  Binding Site Comment                                         References  \\\n",
       "0                  NaN  {'CHEMBL2062263': [{'ref_id': 'setid=f495b76d-...   \n",
       "1                  NaN  {'CHEMBL1200728': [{'ref_id': 'setid=903fbd33-...   \n",
       "2                  NaN  {'CHEMBL2096635': [{'ref_id': 'setid=13148b04-...   \n",
       "3                  NaN  {'CHEMBL457299': [{'ref_id': 'https://bnf.nice...   \n",
       "4                  NaN  {'CHEMBL504': [{'ref_id': '17661513', 'ref_url...   \n",
       "\n",
       "                                            Synonyms  \\\n",
       "0  Cysteamine (MI, USAN)|Mercaptamine (BAN, DCF, ...   \n",
       "1                                    Guanidine (MI)|   \n",
       "2  Urea (JAN, MI, USP)|Urea c 14 (USP)|Urea (13c)...   \n",
       "3           Macrogol (INN)|Polyethylene oxide (USP)|   \n",
       "4      Dimethyl sulfoxide (BAN, INN, MI, USAN, USP)|   \n",
       "\n",
       "                     ATC Codes  \\\n",
       "0            A16AA04 | S01XA21   \n",
       "1                          NaN   \n",
       "2  D02AE01 | B05BC02 | D02AE51   \n",
       "3            A06AD15 | A06AD65   \n",
       "4            G04BX13 | M02AX03   \n",
       "\n",
       "                                   Level 4 ATC Codes  \\\n",
       "0  A16AA - Amino acids and derivatives | S01XA - ...   \n",
       "1                                                NaN   \n",
       "2  D02AE - Carbamide products | B05BC - Solutions...   \n",
       "3  A06AD - Osmotically acting laxatives | A06AD -...   \n",
       "4  G04BX - Other urologicals | M02AX - Other topi...   \n",
       "\n",
       "                                   Level 3 ATC Codes  \\\n",
       "0  A16A - OTHER ALIMENTARY TRACT AND METABOLISM P...   \n",
       "1                                                NaN   \n",
       "2  D02A - EMOLLIENTS AND PROTECTIVES | B05B - I.V...   \n",
       "3  A06A - DRUGS FOR CONSTIPATION | A06A - DRUGS F...   \n",
       "4  G04B - UROLOGICALS | M02A - TOPICAL PRODUCTS F...   \n",
       "\n",
       "                                   Level 2 ATC Codes  \\\n",
       "0  A16 - OTHER ALIMENTARY TRACT AND METABOLISM PR...   \n",
       "1                                                NaN   \n",
       "2  D02 - EMOLLIENTS AND PROTECTIVES | B05 - BLOOD...   \n",
       "3  A06 - DRUGS FOR CONSTIPATION | A06 - DRUGS FOR...   \n",
       "4  G04 - UROLOGICALS | M02 - TOPICAL PRODUCTS FOR...   \n",
       "\n",
       "                                   Level 1 ATC Codes  \\\n",
       "0  A - ALIMENTARY TRACT AND METABOLISM | S - SENS...   \n",
       "1                                                NaN   \n",
       "2  D - DERMATOLOGICALS | B - BLOOD AND BLOOD FORM...   \n",
       "3  A - ALIMENTARY TRACT AND METABOLISM | A - ALIM...   \n",
       "4  G - GENITO URINARY SYSTEM AND SEX HORMONES | M...   \n",
       "\n",
       "  Parent Molecule ChEMBL ID.1 Np Likeness Score  \n",
       "0                   CHEMBL602              0.18  \n",
       "1                   CHEMBL821              0.32  \n",
       "2                   CHEMBL985             -0.22  \n",
       "3                CHEMBL457299              0.66  \n",
       "4                   CHEMBL504              0.11  \n",
       "\n",
       "[5 rows x 27 columns]"
      ]
     },
     "execution_count": 7,
     "metadata": {},
     "output_type": "execute_result"
    }
   ],
   "source": [
    "data1.rename(columns={data1.columns[1]: 'ID'}, inplace=True)\n",
    "data2.rename(columns={data2.columns[0]: 'ID'}, inplace=True)\n",
    "\n",
    "merged_data = pd.merge(data1, data2, on='ID', how='inner')\n",
    "\n",
    "merged_data.head()"
   ]
  },
  {
   "cell_type": "code",
   "execution_count": 8,
   "id": "f14d1b96",
   "metadata": {
    "execution": {
     "iopub.execute_input": "2024-08-09T22:59:29.828003Z",
     "iopub.status.busy": "2024-08-09T22:59:29.826814Z",
     "iopub.status.idle": "2024-08-09T22:59:29.833257Z",
     "shell.execute_reply": "2024-08-09T22:59:29.831979Z"
    },
    "papermill": {
     "duration": 0.026463,
     "end_time": "2024-08-09T22:59:29.836400",
     "exception": false,
     "start_time": "2024-08-09T22:59:29.809937",
     "status": "completed"
    },
    "tags": []
   },
   "outputs": [
    {
     "name": "stdout",
     "output_type": "stream",
     "text": [
      "4126\n"
     ]
    }
   ],
   "source": [
    "print(merged_data.shape[0])\n"
   ]
  },
  {
   "cell_type": "code",
   "execution_count": 9,
   "id": "b03ae0c7",
   "metadata": {
    "execution": {
     "iopub.execute_input": "2024-08-09T22:59:29.869593Z",
     "iopub.status.busy": "2024-08-09T22:59:29.869165Z",
     "iopub.status.idle": "2024-08-09T22:59:29.885181Z",
     "shell.execute_reply": "2024-08-09T22:59:29.884059Z"
    },
    "papermill": {
     "duration": 0.036011,
     "end_time": "2024-08-09T22:59:29.888055",
     "exception": false,
     "start_time": "2024-08-09T22:59:29.852044",
     "status": "completed"
    },
    "tags": []
   },
   "outputs": [
    {
     "data": {
      "text/html": [
       "<div>\n",
       "<style scoped>\n",
       "    .dataframe tbody tr th:only-of-type {\n",
       "        vertical-align: middle;\n",
       "    }\n",
       "\n",
       "    .dataframe tbody tr th {\n",
       "        vertical-align: top;\n",
       "    }\n",
       "\n",
       "    .dataframe thead th {\n",
       "        text-align: right;\n",
       "    }\n",
       "</style>\n",
       "<table border=\"1\" class=\"dataframe\">\n",
       "  <thead>\n",
       "    <tr style=\"text-align: right;\">\n",
       "      <th></th>\n",
       "      <th>smiles</th>\n",
       "      <th>ID</th>\n",
       "      <th>Parent Molecule Type</th>\n",
       "      <th>Mechanism of Action</th>\n",
       "    </tr>\n",
       "  </thead>\n",
       "  <tbody>\n",
       "    <tr>\n",
       "      <th>0</th>\n",
       "      <td>NCCS</td>\n",
       "      <td>CHEMBL602</td>\n",
       "      <td>Small molecule</td>\n",
       "      <td>Cystine reducing agent</td>\n",
       "    </tr>\n",
       "    <tr>\n",
       "      <th>1</th>\n",
       "      <td>NC(N)=N</td>\n",
       "      <td>CHEMBL821</td>\n",
       "      <td>Small molecule</td>\n",
       "      <td>Voltage-gated potassium channel blocker</td>\n",
       "    </tr>\n",
       "    <tr>\n",
       "      <th>2</th>\n",
       "      <td>NC(N)=O</td>\n",
       "      <td>CHEMBL985</td>\n",
       "      <td>Small molecule</td>\n",
       "      <td>Diagnostic agent</td>\n",
       "    </tr>\n",
       "    <tr>\n",
       "      <th>3</th>\n",
       "      <td>OCCO</td>\n",
       "      <td>CHEMBL457299</td>\n",
       "      <td>Small molecule</td>\n",
       "      <td>Osmotic laxative</td>\n",
       "    </tr>\n",
       "    <tr>\n",
       "      <th>4</th>\n",
       "      <td>CS(C)=O</td>\n",
       "      <td>CHEMBL504</td>\n",
       "      <td>Small molecule</td>\n",
       "      <td>Unknown</td>\n",
       "    </tr>\n",
       "  </tbody>\n",
       "</table>\n",
       "</div>"
      ],
      "text/plain": [
       "    smiles            ID Parent Molecule Type  \\\n",
       "0     NCCS     CHEMBL602       Small molecule   \n",
       "1  NC(N)=N     CHEMBL821       Small molecule   \n",
       "2  NC(N)=O     CHEMBL985       Small molecule   \n",
       "3     OCCO  CHEMBL457299       Small molecule   \n",
       "4  CS(C)=O     CHEMBL504       Small molecule   \n",
       "\n",
       "                       Mechanism of Action  \n",
       "0                   Cystine reducing agent  \n",
       "1  Voltage-gated potassium channel blocker  \n",
       "2                         Diagnostic agent  \n",
       "3                         Osmotic laxative  \n",
       "4                                  Unknown  "
      ]
     },
     "execution_count": 9,
     "metadata": {},
     "output_type": "execute_result"
    }
   ],
   "source": [
    "merged_data.rename(columns={merged_data.columns[0]: 'smiles'}, inplace=True)\n",
    "final = merged_data[['smiles', 'ID', 'Parent Molecule Type', 'Mechanism of Action']]\n",
    "final.head()"
   ]
  },
  {
   "cell_type": "markdown",
   "id": "7edf4f38",
   "metadata": {
    "papermill": {
     "duration": 0.015472,
     "end_time": "2024-08-09T22:59:29.919852",
     "exception": false,
     "start_time": "2024-08-09T22:59:29.904380",
     "status": "completed"
    },
    "tags": []
   },
   "source": [
    "Tidying up the data in final table:"
   ]
  },
  {
   "cell_type": "code",
   "execution_count": 10,
   "id": "d3f89d36",
   "metadata": {
    "execution": {
     "iopub.execute_input": "2024-08-09T22:59:29.953591Z",
     "iopub.status.busy": "2024-08-09T22:59:29.953164Z",
     "iopub.status.idle": "2024-08-09T22:59:30.088428Z",
     "shell.execute_reply": "2024-08-09T22:59:30.086926Z"
    },
    "papermill": {
     "duration": 0.155633,
     "end_time": "2024-08-09T22:59:30.091433",
     "exception": false,
     "start_time": "2024-08-09T22:59:29.935800",
     "status": "completed"
    },
    "tags": []
   },
   "outputs": [],
   "source": [
    "# remains of good old times when we tried to use left join. Alas, the memory ran out\n",
    "#final['Mechanism of Action'] = final['Mechanism of Action'].fillna('No MOA')\n",
    "#final['Parent Molecule Type'] = final['Parent Molecule Type'].fillna('No MOA')\n",
    "\n",
    "final.loc[final['Mechanism of Action'].str.contains('receptor agonist', case=False, na=False), 'Mechanism of Action'] = 'receptor agonist'\n",
    "final.loc[final['Mechanism of Action'].str.contains('inhibitor', case=False, na=False), 'Mechanism of Action'] = 'inhibitor'\n",
    "final.loc[final['Mechanism of Action'].str.contains('receptor antagonist', case=False, na=False), 'Mechanism of Action'] = 'receptor antagonist'\n",
    "\n",
    "condition = final['Mechanism of Action'].str.contains('agonist', case=False, na=False) & \\\n",
    "            ~final['Mechanism of Action'].str.contains('receptor agonist', case=False, na=False)\n",
    "final.loc[condition, 'Mechanism of Action'] = 'agonist'\n",
    "\n",
    "final.loc[final['Mechanism of Action'].str.contains('blocker', case=False, na=False), 'Mechanism of Action'] = 'blocker'\n",
    "final.loc[final['Mechanism of Action'].str.contains('receptor modulator', case=False, na=False), 'Mechanism of Action'] = 'receptor modulator'\n",
    "final.loc[final['Mechanism of Action'].str.contains('disrupting agent', case=False, na=False), 'Mechanism of Action'] = 'disrupting agent'\n",
    "\n",
    "\n",
    "condition2 = final['Mechanism of Action'].str.contains('potassium channel', case=False, na=False) & final['Mechanism of Action'].str.contains('opener', case=False, na=False)\n",
    "final.loc[condition2, 'Mechanism of Action'] = 'potassium channel opener'\n",
    "\n",
    "\n",
    "condition3 = final['Mechanism of Action'].str.contains('receptor', case=False, na=False) & final['Mechanism of Action'].str.contains('modulator', case=False, na=False)\n",
    "final.loc[condition3, 'Mechanism of Action'] = 'receptor  modulator'\n",
    "\n",
    "\n",
    "condition4 = final['Mechanism of Action'].str.contains('calcium channel', case=False, na=False) & final['Mechanism of Action'].str.contains('modulator', case=False, na=False)\n",
    "final.loc[condition4, 'Mechanism of Action'] = 'calcium channel  modulator'\n",
    "\n",
    "final.loc[final['Mechanism of Action'].str.contains('activator', case=False, na=False), 'Mechanism of Action'] = 'activator'\n",
    "\n",
    "final.loc[final['Mechanism of Action'].str.contains('sequestering agent', case=False, na=False), 'Mechanism of Action'] = 'sequestering agent'\n",
    "final.loc[final['Mechanism of Action'].str.contains('binding agent', case=False, na=False), 'Mechanism of Action'] = 'binding agent'\n",
    "\n",
    "condition5 = final['Mechanism of Action'].str.contains('modulator', case=False, na=False) & \\\n",
    "            ~final['Mechanism of Action'].str.contains('calcium channel', case=False, na=False) & \\\n",
    "            ~final['Mechanism of Action'].str.contains('receptor', case=False, na=False)\n",
    "final.loc[condition5, 'Mechanism of Action'] = 'modulator'\n",
    " \n",
    "    \n",
    "final.loc[final['Mechanism of Action'].str.contains('chelating agent', case=False, na=False), 'Mechanism of Action'] = 'chelating agent'\n",
    "    \n",
    "condition6 = final['Mechanism of Action'].str.contains('antioxidant', case=False, na=False) | final['Mechanism of Action'].str.contains('anti-oxidant', case=False, na=False)\n",
    "final.loc[condition6, 'Mechanism of Action'] = 'antioxidant'\n",
    "\n",
    "final.loc[final['Mechanism of Action'].str.contains('stabiliser', case=False, na=False), 'Mechanism of Action'] = 'stabiliser'\n"
   ]
  },
  {
   "cell_type": "code",
   "execution_count": 11,
   "id": "e10d2225",
   "metadata": {
    "execution": {
     "iopub.execute_input": "2024-08-09T22:59:30.126801Z",
     "iopub.status.busy": "2024-08-09T22:59:30.126383Z",
     "iopub.status.idle": "2024-08-09T22:59:30.133696Z",
     "shell.execute_reply": "2024-08-09T22:59:30.132568Z"
    },
    "papermill": {
     "duration": 0.027885,
     "end_time": "2024-08-09T22:59:30.136452",
     "exception": false,
     "start_time": "2024-08-09T22:59:30.108567",
     "status": "completed"
    },
    "tags": []
   },
   "outputs": [
    {
     "name": "stdout",
     "output_type": "stream",
     "text": [
      "4126\n",
      "Index(['smiles', 'ID', 'Parent Molecule Type', 'Mechanism of Action'], dtype='object')\n"
     ]
    }
   ],
   "source": [
    "final.head()\n",
    "print(final.shape[0])\n",
    "print(final.columns)\n"
   ]
  },
  {
   "cell_type": "code",
   "execution_count": 12,
   "id": "8f2e87a0",
   "metadata": {
    "execution": {
     "iopub.execute_input": "2024-08-09T22:59:30.172251Z",
     "iopub.status.busy": "2024-08-09T22:59:30.171832Z",
     "iopub.status.idle": "2024-08-09T22:59:30.374097Z",
     "shell.execute_reply": "2024-08-09T22:59:30.372750Z"
    },
    "papermill": {
     "duration": 0.222856,
     "end_time": "2024-08-09T22:59:30.376911",
     "exception": false,
     "start_time": "2024-08-09T22:59:30.154055",
     "status": "completed"
    },
    "tags": []
   },
   "outputs": [],
   "source": [
    "\n",
    "\n",
    "smiles = final['smiles'].values\n",
    "moa = final['Mechanism of Action'].values\n",
    "\n",
    "maxlen = 200  # unfortunately, length was filtered due to lack of memory. \n",
    "#unknown length encoding unfortunately failed\n",
    "tokenizer = Tokenizer(char_level=True, lower=False)\n",
    "tokenizer.fit_on_texts(smiles)\n",
    "sequences = tokenizer.texts_to_sequences(smiles)\n",
    "X = pad_sequences(sequences, maxlen=maxlen)\n",
    "\n"
   ]
  },
  {
   "cell_type": "code",
   "execution_count": 13,
   "id": "4332600e",
   "metadata": {
    "execution": {
     "iopub.execute_input": "2024-08-09T22:59:30.411592Z",
     "iopub.status.busy": "2024-08-09T22:59:30.410622Z",
     "iopub.status.idle": "2024-08-09T22:59:30.507528Z",
     "shell.execute_reply": "2024-08-09T22:59:30.506268Z"
    },
    "papermill": {
     "duration": 0.117719,
     "end_time": "2024-08-09T22:59:30.510527",
     "exception": false,
     "start_time": "2024-08-09T22:59:30.392808",
     "status": "completed"
    },
    "tags": []
   },
   "outputs": [],
   "source": [
    "# Step 3: Encode the MoA labels\n",
    "from tensorflow.keras.utils import to_categorical  \n",
    "moa_tokenizer = Tokenizer(lower=True)\n",
    "moa_tokenizer.fit_on_texts(moa)\n",
    "Y = moa_tokenizer.texts_to_sequences(moa)\n",
    "Y = np.array([y[0] - 1 for y in Y])  # Convert to zero-based index\n",
    "Y = to_categorical(Y, num_classes=len(moa_tokenizer.word_index))"
   ]
  },
  {
   "cell_type": "code",
   "execution_count": 14,
   "id": "cbfbf3ad",
   "metadata": {
    "execution": {
     "iopub.execute_input": "2024-08-09T22:59:30.544646Z",
     "iopub.status.busy": "2024-08-09T22:59:30.544253Z",
     "iopub.status.idle": "2024-08-09T22:59:30.559188Z",
     "shell.execute_reply": "2024-08-09T22:59:30.557897Z"
    },
    "papermill": {
     "duration": 0.035574,
     "end_time": "2024-08-09T22:59:30.562115",
     "exception": false,
     "start_time": "2024-08-09T22:59:30.526541",
     "status": "completed"
    },
    "tags": []
   },
   "outputs": [
    {
     "name": "stdout",
     "output_type": "stream",
     "text": [
      "Shape of Y: (4126, 131)\n",
      "First few one-hot encoded labels:\n",
      " [[0. 0. 0. 0. 0. 0. 0. 0. 0. 0. 0. 0. 0. 0. 0. 0. 0. 0. 0. 0. 0. 0. 0. 0.\n",
      "  0. 0. 0. 0. 0. 0. 0. 0. 0. 0. 0. 0. 0. 0. 0. 0. 0. 0. 0. 0. 0. 0. 0. 0.\n",
      "  0. 0. 0. 0. 0. 0. 0. 0. 0. 0. 0. 0. 0. 0. 0. 0. 0. 0. 0. 0. 0. 0. 1. 0.\n",
      "  0. 0. 0. 0. 0. 0. 0. 0. 0. 0. 0. 0. 0. 0. 0. 0. 0. 0. 0. 0. 0. 0. 0. 0.\n",
      "  0. 0. 0. 0. 0. 0. 0. 0. 0. 0. 0. 0. 0. 0. 0. 0. 0. 0. 0. 0. 0. 0. 0. 0.\n",
      "  0. 0. 0. 0. 0. 0. 0. 0. 0. 0. 0.]\n",
      " [0. 0. 0. 0. 0. 1. 0. 0. 0. 0. 0. 0. 0. 0. 0. 0. 0. 0. 0. 0. 0. 0. 0. 0.\n",
      "  0. 0. 0. 0. 0. 0. 0. 0. 0. 0. 0. 0. 0. 0. 0. 0. 0. 0. 0. 0. 0. 0. 0. 0.\n",
      "  0. 0. 0. 0. 0. 0. 0. 0. 0. 0. 0. 0. 0. 0. 0. 0. 0. 0. 0. 0. 0. 0. 0. 0.\n",
      "  0. 0. 0. 0. 0. 0. 0. 0. 0. 0. 0. 0. 0. 0. 0. 0. 0. 0. 0. 0. 0. 0. 0. 0.\n",
      "  0. 0. 0. 0. 0. 0. 0. 0. 0. 0. 0. 0. 0. 0. 0. 0. 0. 0. 0. 0. 0. 0. 0. 0.\n",
      "  0. 0. 0. 0. 0. 0. 0. 0. 0. 0. 0.]\n",
      " [0. 0. 0. 0. 0. 0. 0. 0. 0. 1. 0. 0. 0. 0. 0. 0. 0. 0. 0. 0. 0. 0. 0. 0.\n",
      "  0. 0. 0. 0. 0. 0. 0. 0. 0. 0. 0. 0. 0. 0. 0. 0. 0. 0. 0. 0. 0. 0. 0. 0.\n",
      "  0. 0. 0. 0. 0. 0. 0. 0. 0. 0. 0. 0. 0. 0. 0. 0. 0. 0. 0. 0. 0. 0. 0. 0.\n",
      "  0. 0. 0. 0. 0. 0. 0. 0. 0. 0. 0. 0. 0. 0. 0. 0. 0. 0. 0. 0. 0. 0. 0. 0.\n",
      "  0. 0. 0. 0. 0. 0. 0. 0. 0. 0. 0. 0. 0. 0. 0. 0. 0. 0. 0. 0. 0. 0. 0. 0.\n",
      "  0. 0. 0. 0. 0. 0. 0. 0. 0. 0. 0.]\n",
      " [0. 0. 0. 0. 0. 0. 0. 0. 0. 0. 0. 0. 0. 0. 0. 0. 0. 0. 0. 0. 0. 0. 0. 0.\n",
      "  0. 0. 0. 0. 0. 0. 0. 0. 0. 0. 0. 0. 0. 0. 0. 0. 0. 0. 0. 0. 0. 0. 0. 1.\n",
      "  0. 0. 0. 0. 0. 0. 0. 0. 0. 0. 0. 0. 0. 0. 0. 0. 0. 0. 0. 0. 0. 0. 0. 0.\n",
      "  0. 0. 0. 0. 0. 0. 0. 0. 0. 0. 0. 0. 0. 0. 0. 0. 0. 0. 0. 0. 0. 0. 0. 0.\n",
      "  0. 0. 0. 0. 0. 0. 0. 0. 0. 0. 0. 0. 0. 0. 0. 0. 0. 0. 0. 0. 0. 0. 0. 0.\n",
      "  0. 0. 0. 0. 0. 0. 0. 0. 0. 0. 0.]\n",
      " [0. 0. 0. 0. 1. 0. 0. 0. 0. 0. 0. 0. 0. 0. 0. 0. 0. 0. 0. 0. 0. 0. 0. 0.\n",
      "  0. 0. 0. 0. 0. 0. 0. 0. 0. 0. 0. 0. 0. 0. 0. 0. 0. 0. 0. 0. 0. 0. 0. 0.\n",
      "  0. 0. 0. 0. 0. 0. 0. 0. 0. 0. 0. 0. 0. 0. 0. 0. 0. 0. 0. 0. 0. 0. 0. 0.\n",
      "  0. 0. 0. 0. 0. 0. 0. 0. 0. 0. 0. 0. 0. 0. 0. 0. 0. 0. 0. 0. 0. 0. 0. 0.\n",
      "  0. 0. 0. 0. 0. 0. 0. 0. 0. 0. 0. 0. 0. 0. 0. 0. 0. 0. 0. 0. 0. 0. 0. 0.\n",
      "  0. 0. 0. 0. 0. 0. 0. 0. 0. 0. 0.]]\n",
      "Sum of the first one-hot encoded label: 1.0\n",
      "Number of classes (unique labels): 131\n"
     ]
    }
   ],
   "source": [
    "print(\"Shape of Y:\", Y.shape)\n",
    "print(\"First few one-hot encoded labels:\\n\", Y[:5])\n",
    "print(\"Sum of the first one-hot encoded label:\", Y[0].sum())\n",
    "print(\"Number of classes (unique labels):\", Y.shape[1])"
   ]
  },
  {
   "cell_type": "code",
   "execution_count": 15,
   "id": "990bbb32",
   "metadata": {
    "execution": {
     "iopub.execute_input": "2024-08-09T22:59:30.596838Z",
     "iopub.status.busy": "2024-08-09T22:59:30.596436Z",
     "iopub.status.idle": "2024-08-09T22:59:30.606256Z",
     "shell.execute_reply": "2024-08-09T22:59:30.604925Z"
    },
    "papermill": {
     "duration": 0.030799,
     "end_time": "2024-08-09T22:59:30.609070",
     "exception": false,
     "start_time": "2024-08-09T22:59:30.578271",
     "status": "completed"
    },
    "tags": []
   },
   "outputs": [],
   "source": [
    "X_train, X_test, Y_train, Y_test = train_test_split(X, Y, test_size=0.2, random_state=42)"
   ]
  },
  {
   "cell_type": "code",
   "execution_count": 16,
   "id": "1f4695bf",
   "metadata": {
    "execution": {
     "iopub.execute_input": "2024-08-09T22:59:30.643491Z",
     "iopub.status.busy": "2024-08-09T22:59:30.643043Z",
     "iopub.status.idle": "2024-08-09T22:59:30.652476Z",
     "shell.execute_reply": "2024-08-09T22:59:30.650890Z"
    },
    "papermill": {
     "duration": 0.030352,
     "end_time": "2024-08-09T22:59:30.655569",
     "exception": false,
     "start_time": "2024-08-09T22:59:30.625217",
     "status": "completed"
    },
    "tags": []
   },
   "outputs": [],
   "source": [
    "from keras.models import Sequential\n",
    "from keras.layers import Embedding, LSTM, Dense, Dropout\n",
    "\n",
    "\n",
    "#########################################\n",
    "#########################################\n",
    "# creating model 1\n",
    "#model = Sequential()\n",
    "#model.add(Embedding(input_dim=len(tokenizer.word_index) + 1, output_dim=128))\n",
    "#model.add(LSTM(128, return_sequences=False))\n",
    "#model.add(Dropout(0.2))\n",
    "#model.add(Dense(128, activation='relu'))\n",
    "#model.add(Dropout(0.2))\n",
    "#model.add(Dense(len(moa_tokenizer.word_index), activation='softmax'))"
   ]
  },
  {
   "cell_type": "code",
   "execution_count": 17,
   "id": "88390042",
   "metadata": {
    "execution": {
     "iopub.execute_input": "2024-08-09T22:59:30.690689Z",
     "iopub.status.busy": "2024-08-09T22:59:30.690287Z",
     "iopub.status.idle": "2024-08-09T22:59:30.695847Z",
     "shell.execute_reply": "2024-08-09T22:59:30.694299Z"
    },
    "papermill": {
     "duration": 0.025977,
     "end_time": "2024-08-09T22:59:30.698587",
     "exception": false,
     "start_time": "2024-08-09T22:59:30.672610",
     "status": "completed"
    },
    "tags": []
   },
   "outputs": [],
   "source": [
    "#compiling model 1\n",
    "#model.compile(optimizer=Adam(learning_rate=0.001), loss='categorical_crossentropy', metrics=['accuracy'])\n",
    "\n",
    "#training model 1\n",
    "#history = model.fit(X_train, Y_train, epochs=10, batch_size=64, validation_split=0.2)\n",
    "\n",
    "#saving model 1\n",
    "#model.save('/kaggle/working/model1.h5')\n"
   ]
  },
  {
   "cell_type": "code",
   "execution_count": 18,
   "id": "4b48278a",
   "metadata": {
    "execution": {
     "iopub.execute_input": "2024-08-09T22:59:30.732806Z",
     "iopub.status.busy": "2024-08-09T22:59:30.732427Z",
     "iopub.status.idle": "2024-08-09T22:59:33.778750Z",
     "shell.execute_reply": "2024-08-09T22:59:33.777430Z"
    },
    "papermill": {
     "duration": 3.066592,
     "end_time": "2024-08-09T22:59:33.781438",
     "exception": false,
     "start_time": "2024-08-09T22:59:30.714846",
     "status": "completed"
    },
    "tags": []
   },
   "outputs": [
    {
     "name": "stdout",
     "output_type": "stream",
     "text": [
      "\u001b[1m26/26\u001b[0m \u001b[32m━━━━━━━━━━━━━━━━━━━━\u001b[0m\u001b[37m\u001b[0m \u001b[1m3s\u001b[0m 76ms/step - accuracy: 0.4931 - loss: 1.6663\n",
      "Accuracy: 0.5048\n"
     ]
    }
   ],
   "source": [
    "#evaluating model 1\n",
    "from keras.models import load_model\n",
    "\n",
    "# Load the model\n",
    "model1 = load_model('/kaggle/input/model1/keras/default/1/model1.h5')\n",
    "\n",
    "# Evaluate the model\n",
    "loss, accuracy = model1.evaluate(X_test, Y_test)\n",
    "print(f'Accuracy: {accuracy:.4f}')"
   ]
  },
  {
   "cell_type": "markdown",
   "id": "c55087a9",
   "metadata": {
    "papermill": {
     "duration": 0.018921,
     "end_time": "2024-08-09T22:59:33.819244",
     "exception": false,
     "start_time": "2024-08-09T22:59:33.800323",
     "status": "completed"
    },
    "tags": []
   },
   "source": [
    "Test accuracy of that was 50.48%."
   ]
  },
  {
   "cell_type": "markdown",
   "id": "c2f3bf30",
   "metadata": {
    "papermill": {
     "duration": 0.018618,
     "end_time": "2024-08-09T22:59:33.856953",
     "exception": false,
     "start_time": "2024-08-09T22:59:33.838335",
     "status": "completed"
    },
    "tags": []
   },
   "source": [
    "Since playing with parameters does not help improve accuracy here, we will try and implement a model with k-fold cross-validation instead of just one train and test set."
   ]
  },
  {
   "cell_type": "code",
   "execution_count": 19,
   "id": "4522ab55",
   "metadata": {
    "execution": {
     "iopub.execute_input": "2024-08-09T22:59:33.897679Z",
     "iopub.status.busy": "2024-08-09T22:59:33.897262Z",
     "iopub.status.idle": "2024-08-09T22:59:33.905266Z",
     "shell.execute_reply": "2024-08-09T22:59:33.904140Z"
    },
    "papermill": {
     "duration": 0.031466,
     "end_time": "2024-08-09T22:59:33.907881",
     "exception": false,
     "start_time": "2024-08-09T22:59:33.876415",
     "status": "completed"
    },
    "tags": []
   },
   "outputs": [],
   "source": [
    "import numpy as np\n",
    "from sklearn.model_selection import KFold\n",
    "from keras.models import Sequential\n",
    "from keras.layers import Embedding, LSTM, Dense, Dropout\n",
    "from keras.optimizers import Adam\n",
    "from keras.utils import to_categorical"
   ]
  },
  {
   "cell_type": "code",
   "execution_count": 20,
   "id": "a433b099",
   "metadata": {
    "execution": {
     "iopub.execute_input": "2024-08-09T22:59:34.009046Z",
     "iopub.status.busy": "2024-08-09T22:59:34.008596Z",
     "iopub.status.idle": "2024-08-09T22:59:34.014579Z",
     "shell.execute_reply": "2024-08-09T22:59:34.013332Z"
    },
    "papermill": {
     "duration": 0.0288,
     "end_time": "2024-08-09T22:59:34.017199",
     "exception": false,
     "start_time": "2024-08-09T22:59:33.988399",
     "status": "completed"
    },
    "tags": []
   },
   "outputs": [],
   "source": [
    "num_folds = 5  # Number of folds for cross-validation\n",
    "kf = KFold(n_splits=num_folds, shuffle=True, random_state=42)"
   ]
  },
  {
   "cell_type": "code",
   "execution_count": 21,
   "id": "1f55b7e4",
   "metadata": {
    "execution": {
     "iopub.execute_input": "2024-08-09T22:59:34.056709Z",
     "iopub.status.busy": "2024-08-09T22:59:34.056301Z",
     "iopub.status.idle": "2024-08-09T22:59:34.064788Z",
     "shell.execute_reply": "2024-08-09T22:59:34.063503Z"
    },
    "papermill": {
     "duration": 0.03139,
     "end_time": "2024-08-09T22:59:34.067491",
     "exception": false,
     "start_time": "2024-08-09T22:59:34.036101",
     "status": "completed"
    },
    "tags": []
   },
   "outputs": [],
   "source": [
    "def build_model(input_dim, output_dim, num_classes):\n",
    "    model = Sequential()\n",
    "    model.add(Embedding(input_dim=input_dim, output_dim=output_dim))\n",
    "    model.add(LSTM(128, return_sequences=False))\n",
    "    model.add(Dropout(0.2))\n",
    "    model.add(Dense(128, activation='relu'))\n",
    "    model.add(Dropout(0.2))\n",
    "    model.add(Dense(num_classes, activation='softmax'))\n",
    "    model.compile(optimizer=Adam(learning_rate=0.001), loss='categorical_crossentropy', metrics=['accuracy'])\n",
    "    return model"
   ]
  },
  {
   "cell_type": "code",
   "execution_count": 22,
   "id": "884411ed",
   "metadata": {
    "execution": {
     "iopub.execute_input": "2024-08-09T22:59:34.107194Z",
     "iopub.status.busy": "2024-08-09T22:59:34.106771Z",
     "iopub.status.idle": "2024-08-09T22:59:34.112745Z",
     "shell.execute_reply": "2024-08-09T22:59:34.111520Z"
    },
    "papermill": {
     "duration": 0.028789,
     "end_time": "2024-08-09T22:59:34.115262",
     "exception": false,
     "start_time": "2024-08-09T22:59:34.086473",
     "status": "completed"
    },
    "tags": []
   },
   "outputs": [],
   "source": [
    "#fold_no = 1\n",
    "#accuracies = []\n",
    "\n",
    "#for train_index, val_index in kf.split(X):\n",
    "#    print(f'Fold {fold_no}')\n",
    "    \n",
    "#    # splitting data\n",
    "#    X_train, X_val = X[train_index], X[val_index]\n",
    "#    Y_train, Y_val = Y[train_index], Y[val_index]\n",
    "#    \n",
    "#    model3 = build_model(input_dim=len(tokenizer.word_index) + 1, output_dim=128, num_classes=len(moa_tokenizer.word_index))\n",
    "#    \n",
    "#    # training\n",
    "#    history = model3.fit(X_train, Y_train, epochs=10, batch_size=64, validation_data=(X_val, Y_val))\n",
    "#    \n",
    "#    # evaluating\n",
    "#    loss, accuracy = model3.evaluate(X_val, Y_val)\n",
    "#    print(f'Validation Accuracy for Fold {fold_no}: {accuracy:.4f}')\n",
    "#    \n",
    "#    accuracies.append(accuracy)\n",
    "#    \n",
    "#    model3.save(f'/kaggle/working/model3_fold{fold_no}.h5')\n",
    "#    \n",
    "#    fold_no += 1\n",
    "#\n",
    "#print(\"accuracies\", accuracies)\n",
    "#model3.save(f'/kaggle/working/model3.h5')"
   ]
  },
  {
   "cell_type": "code",
   "execution_count": 23,
   "id": "e1483f23",
   "metadata": {
    "execution": {
     "iopub.execute_input": "2024-08-09T22:59:34.155608Z",
     "iopub.status.busy": "2024-08-09T22:59:34.154725Z",
     "iopub.status.idle": "2024-08-09T22:59:36.927395Z",
     "shell.execute_reply": "2024-08-09T22:59:36.926054Z"
    },
    "papermill": {
     "duration": 2.795676,
     "end_time": "2024-08-09T22:59:36.929886",
     "exception": false,
     "start_time": "2024-08-09T22:59:34.134210",
     "status": "completed"
    },
    "tags": []
   },
   "outputs": [
    {
     "name": "stdout",
     "output_type": "stream",
     "text": [
      "\u001b[1m26/26\u001b[0m \u001b[32m━━━━━━━━━━━━━━━━━━━━\u001b[0m\u001b[37m\u001b[0m \u001b[1m3s\u001b[0m 77ms/step - accuracy: 0.5015 - loss: 1.5707\n",
      "Accuracy: 0.5085\n"
     ]
    }
   ],
   "source": [
    "model3 = load_model('/kaggle/input/model3/keras/default/1/model3.h5')\n",
    "\n",
    "loss, accuracy = model3.evaluate(X_test, Y_test)\n",
    "print(f'Accuracy: {accuracy:.4f}')"
   ]
  },
  {
   "cell_type": "markdown",
   "id": "bed35539",
   "metadata": {
    "papermill": {
     "duration": 0.021315,
     "end_time": "2024-08-09T22:59:36.973116",
     "exception": false,
     "start_time": "2024-08-09T22:59:36.951801",
     "status": "completed"
    },
    "tags": []
   },
   "source": [
    "We improved our model by 0.37% !"
   ]
  },
  {
   "cell_type": "code",
   "execution_count": 24,
   "id": "634f1c13",
   "metadata": {
    "execution": {
     "iopub.execute_input": "2024-08-09T22:59:37.018436Z",
     "iopub.status.busy": "2024-08-09T22:59:37.018012Z",
     "iopub.status.idle": "2024-08-09T22:59:37.733740Z",
     "shell.execute_reply": "2024-08-09T22:59:37.731602Z"
    },
    "papermill": {
     "duration": 0.741779,
     "end_time": "2024-08-09T22:59:37.736796",
     "exception": false,
     "start_time": "2024-08-09T22:59:36.995017",
     "status": "completed"
    },
    "tags": []
   },
   "outputs": [],
   "source": [
    "model3_1 = load_model('/kaggle/input/m3_fold1/keras/default/1/model3_fold1.h5')\n",
    "model3_2 = load_model('/kaggle/input/m3fold2/keras/default/1/model3_fold2.h5')\n",
    "model3_3 = load_model('/kaggle/input/m3_fold3/keras/default/1/model3_fold3.h5')\n",
    "model3_4 = load_model('/kaggle/input/m3_fold4/keras/default/1/model3_fold4.h5')\n",
    "model3_5 = load_model('/kaggle/input/m3_fold5/keras/default/1/model3_fold5.h5')\n"
   ]
  },
  {
   "cell_type": "code",
   "execution_count": 25,
   "id": "79f9406b",
   "metadata": {
    "execution": {
     "iopub.execute_input": "2024-08-09T22:59:37.787279Z",
     "iopub.status.busy": "2024-08-09T22:59:37.786827Z",
     "iopub.status.idle": "2024-08-09T22:59:37.793434Z",
     "shell.execute_reply": "2024-08-09T22:59:37.792234Z"
    },
    "papermill": {
     "duration": 0.033315,
     "end_time": "2024-08-09T22:59:37.796375",
     "exception": false,
     "start_time": "2024-08-09T22:59:37.763060",
     "status": "completed"
    },
    "tags": []
   },
   "outputs": [
    {
     "name": "stdout",
     "output_type": "stream",
     "text": [
      "number of classes: 131\n"
     ]
    }
   ],
   "source": [
    "num_classes = Y_train.shape[1]\n",
    "print(f\"number of classes: {num_classes}\")"
   ]
  },
  {
   "cell_type": "code",
   "execution_count": null,
   "id": "93a21b96",
   "metadata": {
    "execution": {
     "iopub.execute_input": "2024-08-09T22:41:12.574437Z",
     "iopub.status.busy": "2024-08-09T22:41:12.573926Z",
     "iopub.status.idle": "2024-08-09T22:41:12.614426Z",
     "shell.execute_reply": "2024-08-09T22:41:12.612958Z",
     "shell.execute_reply.started": "2024-08-09T22:41:12.574399Z"
    },
    "papermill": {
     "duration": 0.021253,
     "end_time": "2024-08-09T22:59:37.839450",
     "exception": false,
     "start_time": "2024-08-09T22:59:37.818197",
     "status": "completed"
    },
    "tags": []
   },
   "outputs": [],
   "source": []
  }
 ],
 "metadata": {
  "kaggle": {
   "accelerator": "none",
   "dataSources": [
    {
     "datasetId": 1948519,
     "sourceId": 3231651,
     "sourceType": "datasetVersion"
    },
    {
     "datasetId": 5502326,
     "sourceId": 9115887,
     "sourceType": "datasetVersion"
    },
    {
     "isSourceIdPinned": true,
     "modelId": 101780,
     "modelInstanceId": 77135,
     "sourceId": 92004,
     "sourceType": "modelInstanceVersion"
    },
    {
     "isSourceIdPinned": true,
     "modelId": 101834,
     "modelInstanceId": 77192,
     "sourceId": 92078,
     "sourceType": "modelInstanceVersion"
    },
    {
     "isSourceIdPinned": true,
     "modelId": 101835,
     "modelInstanceId": 77193,
     "sourceId": 92079,
     "sourceType": "modelInstanceVersion"
    },
    {
     "isSourceIdPinned": true,
     "modelId": 101836,
     "modelInstanceId": 77194,
     "sourceId": 92080,
     "sourceType": "modelInstanceVersion"
    },
    {
     "isSourceIdPinned": true,
     "modelId": 101837,
     "modelInstanceId": 77195,
     "sourceId": 92081,
     "sourceType": "modelInstanceVersion"
    },
    {
     "isSourceIdPinned": true,
     "modelId": 101839,
     "modelInstanceId": 77197,
     "sourceId": 92083,
     "sourceType": "modelInstanceVersion"
    },
    {
     "isSourceIdPinned": true,
     "modelId": 101840,
     "modelInstanceId": 77198,
     "sourceId": 92084,
     "sourceType": "modelInstanceVersion"
    }
   ],
   "dockerImageVersionId": 30746,
   "isGpuEnabled": false,
   "isInternetEnabled": true,
   "language": "python",
   "sourceType": "notebook"
  },
  "kernelspec": {
   "display_name": "Python 3",
   "language": "python",
   "name": "python3"
  },
  "language_info": {
   "codemirror_mode": {
    "name": "ipython",
    "version": 3
   },
   "file_extension": ".py",
   "mimetype": "text/x-python",
   "name": "python",
   "nbconvert_exporter": "python",
   "pygments_lexer": "ipython3",
   "version": "3.10.13"
  },
  "papermill": {
   "default_parameters": {},
   "duration": 39.226606,
   "end_time": "2024-08-09T22:59:40.247743",
   "environment_variables": {},
   "exception": null,
   "input_path": "__notebook__.ipynb",
   "output_path": "__notebook__.ipynb",
   "parameters": {},
   "start_time": "2024-08-09T22:59:01.021137",
   "version": "2.5.0"
  }
 },
 "nbformat": 4,
 "nbformat_minor": 5
}
